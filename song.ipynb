{
 "metadata": {
  "name": "",
  "signature": "sha256:a3810d6b22e9cce79b5d528c397402fa9f180fe683f6f44449c8fdf3a0dface8"
 },
 "nbformat": 3,
 "nbformat_minor": 0,
 "worksheets": [
  {
   "cells": [
    {
     "cell_type": "markdown",
     "metadata": {},
     "source": [
      "# \u0421\u0438\u0441\u0438\u0442\u0435\u043c\u0430 \u0440\u0435\u043a\u043e\u043c\u0435\u043d\u0434\u0430\u0446\u0438\u0438 \u043c\u0443\u0437\u044b\u043a\u0438\n",
      "\n",
      "** \u0414\u043e\u043b\u043e\u0442\u043e\u0432 \u0415\u0432\u0433\u0435\u043d\u0438\u0439 **\n",
      "\n",
      "https://www.kaggle.com/c/kkbox-music-recommendation-challenge"
     ]
    },
    {
     "cell_type": "markdown",
     "metadata": {},
     "source": [
      "\u041f\u043e\u0434\u043a\u043b\u044e\u0447\u0438\u043c \u043d\u0435\u043e\u0431\u0445\u043e\u0434\u0438\u043c\u044b\u0435 \u0431\u0438\u0431\u043b\u0438\u043e\u0442\u0435\u043a\u0438"
     ]
    },
    {
     "cell_type": "code",
     "collapsed": false,
     "input": [
      "import numpy as np\n",
      "import pandas as pd\n",
      "import matplotlib.pyplot as plt\n",
      "\n",
      "%matplotlib inline"
     ],
     "language": "python",
     "metadata": {},
     "outputs": [],
     "prompt_number": 1
    },
    {
     "cell_type": "markdown",
     "metadata": {},
     "source": [
      "\u0417\u0430\u0433\u0440\u0443\u0437\u0438\u043c \u0438 \u043f\u043e\u0441\u043c\u043e\u0442\u0440\u0438\u043c \u043d\u0430 \u0432\u0441\u0435 \u0438\u043c\u0435\u044e\u0449\u0438\u0435\u0441\u044f \u0434\u0430\u043d\u043d\u044b\u0435"
     ]
    },
    {
     "cell_type": "code",
     "collapsed": false,
     "input": [
      "train = pd.read_csv('train.csv')"
     ],
     "language": "python",
     "metadata": {},
     "outputs": [],
     "prompt_number": 7
    },
    {
     "cell_type": "code",
     "collapsed": false,
     "input": [
      "train.columns"
     ],
     "language": "python",
     "metadata": {},
     "outputs": [
      {
       "metadata": {},
       "output_type": "pyout",
       "prompt_number": 8,
       "text": [
        "Index([u'msno', u'song_id', u'source_system_tab', u'source_screen_name',\n",
        "       u'source_type', u'target'],\n",
        "      dtype='object')"
       ]
      }
     ],
     "prompt_number": 8
    },
    {
     "cell_type": "code",
     "collapsed": false,
     "input": [
      "train.info()"
     ],
     "language": "python",
     "metadata": {},
     "outputs": [
      {
       "output_type": "stream",
       "stream": "stdout",
       "text": [
        "<class 'pandas.core.frame.DataFrame'>\n",
        "Int64Index: 7377418 entries, 0 to 7377417\n",
        "Data columns (total 6 columns):\n",
        "msno                  object\n",
        "song_id               object\n",
        "source_system_tab     object\n",
        "source_screen_name    object\n",
        "source_type           object\n",
        "target                int64\n",
        "dtypes: int64(1), object(5)\n",
        "memory usage: 394.0+ MB\n"
       ]
      }
     ],
     "prompt_number": 9
    },
    {
     "cell_type": "markdown",
     "metadata": {},
     "source": [
      "** \u041e\u043f\u0438\u0441\u0430\u043d\u0438\u0435 \u043f\u0440\u0438\u0437\u043d\u0430\u043a\u043e\u0432 **\n",
      " - `msno` \u2013 \u0438\u0434\u0435\u043d\u0442\u0438\u0444\u0438\u043a\u0430\u0442\u043e\u0440 \u043f\u043e\u043b\u044c\u0437\u043e\u0432\u0430\u0442\u0435\u043b\u044f\n",
      " - `song_id` \u2013 \u0438\u0434\u0435\u043d\u0442\u0438\u0444\u0438\u043a\u0430\u0442\u043e\u0440 \u043c\u0435\u043b\u043e\u0434\u0438\u0438\n",
      " - `source_system_tab` \u2013 \u0442\u0438\u043f \u0432\u043a\u043b\u0430\u0434\u043a\u0438, \u0432 \u043a\u043e\u0442\u043e\u0440\u043e\u0439 \u043f\u0440\u043e\u0438\u0437\u043e\u0448\u043b\u043e \u0441\u043e\u0431\u044b\u0442\u0438\u0435. \u0412\u043a\u043b\u0430\u0434\u043a\u0438 \u0438\u0441\u043f\u043e\u043b\u044c\u0437\u0443\u044e\u0442\u0441\u044f \u0434\u043b\u044f \u043a\u0430\u0442\u0435\u0433\u043e\u0440\u0438\u0437\u0430\u0446\u0438\u0438 \u0440\u0430\u0437\u043b\u0438\u043d\u044b\u0445 \u0444\u0443\u043d\u043a\u0446\u0438\u0439 \u043c\u043e\u0431\u0438\u043b\u044c\u043d\u043e\u0433\u043e \u043f\u0440\u0438\u043b\u043e\u0436\u0435\u043d\u0438\u044f. \u041d\u0430\u043f\u0440\u0438\u043c\u0435\u0440, \u0432\u043a\u043b\u0430\u0434\u043a\u0430 \"my library\" \u0441\u043e\u0434\u0435\u0440\u0436\u0438\u0442 \u0444\u0443\u043d\u043a\u0446\u0438\u0438 \u0434\u043b\u044f \u0440\u0430\u0431\u043e\u0442\u044b \u0441 \u043b\u043e\u043a\u0430\u043b\u044c\u043d\u044b\u043c \u0445\u0440\u0430\u043d\u0438\u043b\u0438\u0449\u0435\u043c.\n",
      " - `source_screen_name` \u2013 \u0438\u043c\u044f \u0441\u043b\u043e\u044f, \u043a\u043e\u0442\u043e\u0440\u044b\u0439 \u043d\u0430\u0431\u043b\u044e\u0434\u0430\u0435\u0442 \u043f\u043e\u043b\u044c\u0437\u043e\u0432\u0430\u0442\u0435\u043b\u044c.\n",
      " - `source_type` \u2013 \u0442\u043e\u0447\u043a\u0430 \u0432\u0445\u043e\u0434\u0430 \u0432 \u043f\u0440\u0438\u043b\u043e\u0436\u0435\u043d\u0438\u0435, \u0441 \u043a\u043e\u0442\u043e\u0440\u043e\u0439 \u043f\u043e\u043b\u044c\u0437\u043e\u0432\u0430\u0442\u0435\u043b\u044c \u043d\u0430\u0447\u0438\u043d\u0430\u0435\u0442 \u0441\u043b\u0443\u0448\u0430\u0442\u044c \u043c\u0443\u0437\u044b\u043a\u0443. \u042d\u0442\u043e \u043c\u043e\u0436\u0435\u0442 \u0431\u044b\u0442\u044c \u0430\u043b\u044c\u0431\u043e\u043c, \u043e\u043d\u043b\u0430\u0439\u043d-\u043f\u043b\u0435\u0439\u043b\u0438\u0441\u0442, \u043f\u0435\u0441\u043d\u044f \u0438 \u0442.\u0434.\n",
      " - `target` \u2013 \u0446\u0435\u043b\u0435\u0432\u0430\u044f \u043f\u0435\u0440\u0435\u043c\u0435\u043d\u043d\u0430\u044f. \u0417\u043d\u0430\u0447\u0435\u043d\u0438\u0435 \"1\" \u043e\u0437\u043d\u0430\u0447\u0430\u0435\u0442, \u0447\u0442\u043e \u0432 \u0442\u0435\u0447\u0435\u043d\u0438\u0435 \u043c\u0435\u0441\u044f\u0446\u0430 \u043f\u043e\u0441\u043b\u0435 \u043f\u0435\u0440\u0432\u043e\u0433\u043e \u043f\u0440\u043e\u0441\u043b\u0443\u0448\u0438\u0432\u0430\u043d\u0438\u044f \u043f\u0440\u043e\u0438\u0441\u0445\u043e\u0434\u0438\u0442 \u0432\u0442\u043e\u0440\u043e\u0435 \u043f\u0440\u043e\u0441\u043b\u0443\u0448\u0438\u0432\u0430\u043d\u0438\u0435 \u043c\u0435\u043b\u043e\u0434\u0438\u0438, \u0438\u043d\u0430\u0447\u0435 \u044d\u0442\u0430 \u043f\u0435\u0440\u0435\u043c\u0435\u043d\u043d\u0430\u044f \u043f\u0440\u0438\u043d\u0438\u043c\u0430\u0435\u0442 \u0437\u043d\u0430\u0447\u0435\u043d\u0438\u0435 \"0\""
     ]
    },
    {
     "cell_type": "code",
     "collapsed": false,
     "input": [
      "train.head()"
     ],
     "language": "python",
     "metadata": {},
     "outputs": [
      {
       "html": [
        "<div style=\"max-width:1500px;overflow:auto;\">\n",
        "<table border=\"1\" class=\"dataframe\">\n",
        "  <thead>\n",
        "    <tr style=\"text-align: right;\">\n",
        "      <th></th>\n",
        "      <th>msno</th>\n",
        "      <th>song_id</th>\n",
        "      <th>source_system_tab</th>\n",
        "      <th>source_screen_name</th>\n",
        "      <th>source_type</th>\n",
        "      <th>target</th>\n",
        "    </tr>\n",
        "  </thead>\n",
        "  <tbody>\n",
        "    <tr>\n",
        "      <th>0</th>\n",
        "      <td>FGtllVqz18RPiwJj/edr2gV78zirAiY/9SmYvia+kCg=</td>\n",
        "      <td>BBzumQNXUHKdEBOB7mAJuzok+IJA1c2Ryg/yzTF6tik=</td>\n",
        "      <td>explore</td>\n",
        "      <td>Explore</td>\n",
        "      <td>online-playlist</td>\n",
        "      <td>1</td>\n",
        "    </tr>\n",
        "    <tr>\n",
        "      <th>1</th>\n",
        "      <td>Xumu+NIjS6QYVxDS4/t3SawvJ7viT9hPKXmf0RtLNx8=</td>\n",
        "      <td>bhp/MpSNoqoxOIB+/l8WPqu6jldth4DIpCm3ayXnJqM=</td>\n",
        "      <td>my library</td>\n",
        "      <td>Local playlist more</td>\n",
        "      <td>local-playlist</td>\n",
        "      <td>1</td>\n",
        "    </tr>\n",
        "    <tr>\n",
        "      <th>2</th>\n",
        "      <td>Xumu+NIjS6QYVxDS4/t3SawvJ7viT9hPKXmf0RtLNx8=</td>\n",
        "      <td>JNWfrrC7zNN7BdMpsISKa4Mw+xVJYNnxXh3/Epw7QgY=</td>\n",
        "      <td>my library</td>\n",
        "      <td>Local playlist more</td>\n",
        "      <td>local-playlist</td>\n",
        "      <td>1</td>\n",
        "    </tr>\n",
        "    <tr>\n",
        "      <th>3</th>\n",
        "      <td>Xumu+NIjS6QYVxDS4/t3SawvJ7viT9hPKXmf0RtLNx8=</td>\n",
        "      <td>2A87tzfnJTSWqD7gIZHisolhe4DMdzkbd6LzO1KHjNs=</td>\n",
        "      <td>my library</td>\n",
        "      <td>Local playlist more</td>\n",
        "      <td>local-playlist</td>\n",
        "      <td>1</td>\n",
        "    </tr>\n",
        "    <tr>\n",
        "      <th>4</th>\n",
        "      <td>FGtllVqz18RPiwJj/edr2gV78zirAiY/9SmYvia+kCg=</td>\n",
        "      <td>3qm6XTZ6MOCU11x8FIVbAGH5l5uMkT3/ZalWG1oo2Gc=</td>\n",
        "      <td>explore</td>\n",
        "      <td>Explore</td>\n",
        "      <td>online-playlist</td>\n",
        "      <td>1</td>\n",
        "    </tr>\n",
        "  </tbody>\n",
        "</table>\n",
        "</div>"
       ],
       "metadata": {},
       "output_type": "pyout",
       "prompt_number": 10,
       "text": [
        "                                           msno  \\\n",
        "0  FGtllVqz18RPiwJj/edr2gV78zirAiY/9SmYvia+kCg=   \n",
        "1  Xumu+NIjS6QYVxDS4/t3SawvJ7viT9hPKXmf0RtLNx8=   \n",
        "2  Xumu+NIjS6QYVxDS4/t3SawvJ7viT9hPKXmf0RtLNx8=   \n",
        "3  Xumu+NIjS6QYVxDS4/t3SawvJ7viT9hPKXmf0RtLNx8=   \n",
        "4  FGtllVqz18RPiwJj/edr2gV78zirAiY/9SmYvia+kCg=   \n",
        "\n",
        "                                        song_id source_system_tab  \\\n",
        "0  BBzumQNXUHKdEBOB7mAJuzok+IJA1c2Ryg/yzTF6tik=           explore   \n",
        "1  bhp/MpSNoqoxOIB+/l8WPqu6jldth4DIpCm3ayXnJqM=        my library   \n",
        "2  JNWfrrC7zNN7BdMpsISKa4Mw+xVJYNnxXh3/Epw7QgY=        my library   \n",
        "3  2A87tzfnJTSWqD7gIZHisolhe4DMdzkbd6LzO1KHjNs=        my library   \n",
        "4  3qm6XTZ6MOCU11x8FIVbAGH5l5uMkT3/ZalWG1oo2Gc=           explore   \n",
        "\n",
        "    source_screen_name      source_type  target  \n",
        "0              Explore  online-playlist       1  \n",
        "1  Local playlist more   local-playlist       1  \n",
        "2  Local playlist more   local-playlist       1  \n",
        "3  Local playlist more   local-playlist       1  \n",
        "4              Explore  online-playlist       1  "
       ]
      }
     ],
     "prompt_number": 10
    },
    {
     "cell_type": "code",
     "collapsed": false,
     "input": [
      "test = pd.read_csv('test.csv')"
     ],
     "language": "python",
     "metadata": {},
     "outputs": [],
     "prompt_number": 11
    },
    {
     "cell_type": "code",
     "collapsed": false,
     "input": [
      "test.columns"
     ],
     "language": "python",
     "metadata": {},
     "outputs": [
      {
       "metadata": {},
       "output_type": "pyout",
       "prompt_number": 12,
       "text": [
        "Index([u'id', u'msno', u'song_id', u'source_system_tab', u'source_screen_name',\n",
        "       u'source_type'],\n",
        "      dtype='object')"
       ]
      }
     ],
     "prompt_number": 12
    },
    {
     "cell_type": "code",
     "collapsed": false,
     "input": [
      "test.info()"
     ],
     "language": "python",
     "metadata": {},
     "outputs": [
      {
       "output_type": "stream",
       "stream": "stdout",
       "text": [
        "<class 'pandas.core.frame.DataFrame'>\n",
        "Int64Index: 2556790 entries, 0 to 2556789\n",
        "Data columns (total 6 columns):\n",
        "id                    int64\n",
        "msno                  object\n",
        "song_id               object\n",
        "source_system_tab     object\n",
        "source_screen_name    object\n",
        "source_type           object\n",
        "dtypes: int64(1), object(5)\n",
        "memory usage: 136.5+ MB\n"
       ]
      }
     ],
     "prompt_number": 13
    },
    {
     "cell_type": "code",
     "collapsed": false,
     "input": [
      "test.head()"
     ],
     "language": "python",
     "metadata": {},
     "outputs": [
      {
       "html": [
        "<div style=\"max-width:1500px;overflow:auto;\">\n",
        "<table border=\"1\" class=\"dataframe\">\n",
        "  <thead>\n",
        "    <tr style=\"text-align: right;\">\n",
        "      <th></th>\n",
        "      <th>id</th>\n",
        "      <th>msno</th>\n",
        "      <th>song_id</th>\n",
        "      <th>source_system_tab</th>\n",
        "      <th>source_screen_name</th>\n",
        "      <th>source_type</th>\n",
        "    </tr>\n",
        "  </thead>\n",
        "  <tbody>\n",
        "    <tr>\n",
        "      <th>0</th>\n",
        "      <td>0</td>\n",
        "      <td>V8ruy7SGk7tDm3zA51DPpn6qutt+vmKMBKa21dp54uM=</td>\n",
        "      <td>WmHKgKMlp1lQMecNdNvDMkvIycZYHnFwDT72I5sIssc=</td>\n",
        "      <td>my library</td>\n",
        "      <td>Local playlist more</td>\n",
        "      <td>local-library</td>\n",
        "    </tr>\n",
        "    <tr>\n",
        "      <th>1</th>\n",
        "      <td>1</td>\n",
        "      <td>V8ruy7SGk7tDm3zA51DPpn6qutt+vmKMBKa21dp54uM=</td>\n",
        "      <td>y/rsZ9DC7FwK5F2PK2D5mj+aOBUJAjuu3dZ14NgE0vM=</td>\n",
        "      <td>my library</td>\n",
        "      <td>Local playlist more</td>\n",
        "      <td>local-library</td>\n",
        "    </tr>\n",
        "    <tr>\n",
        "      <th>2</th>\n",
        "      <td>2</td>\n",
        "      <td>/uQAlrAkaczV+nWCd2sPF2ekvXPRipV7q0l+gbLuxjw=</td>\n",
        "      <td>8eZLFOdGVdXBSqoAv5nsLigeH2BvKXzTQYtUM53I0k4=</td>\n",
        "      <td>discover</td>\n",
        "      <td>NaN</td>\n",
        "      <td>song-based-playlist</td>\n",
        "    </tr>\n",
        "    <tr>\n",
        "      <th>3</th>\n",
        "      <td>3</td>\n",
        "      <td>1a6oo/iXKatxQx4eS9zTVD+KlSVaAFbTIqVvwLC1Y0k=</td>\n",
        "      <td>ztCf8thYsS4YN3GcIL/bvoxLm/T5mYBVKOO4C9NiVfQ=</td>\n",
        "      <td>radio</td>\n",
        "      <td>Radio</td>\n",
        "      <td>radio</td>\n",
        "    </tr>\n",
        "    <tr>\n",
        "      <th>4</th>\n",
        "      <td>4</td>\n",
        "      <td>1a6oo/iXKatxQx4eS9zTVD+KlSVaAFbTIqVvwLC1Y0k=</td>\n",
        "      <td>MKVMpslKcQhMaFEgcEQhEfi5+RZhMYlU3eRDpySrH8Y=</td>\n",
        "      <td>radio</td>\n",
        "      <td>Radio</td>\n",
        "      <td>radio</td>\n",
        "    </tr>\n",
        "  </tbody>\n",
        "</table>\n",
        "</div>"
       ],
       "metadata": {},
       "output_type": "pyout",
       "prompt_number": 14,
       "text": [
        "   id                                          msno  \\\n",
        "0   0  V8ruy7SGk7tDm3zA51DPpn6qutt+vmKMBKa21dp54uM=   \n",
        "1   1  V8ruy7SGk7tDm3zA51DPpn6qutt+vmKMBKa21dp54uM=   \n",
        "2   2  /uQAlrAkaczV+nWCd2sPF2ekvXPRipV7q0l+gbLuxjw=   \n",
        "3   3  1a6oo/iXKatxQx4eS9zTVD+KlSVaAFbTIqVvwLC1Y0k=   \n",
        "4   4  1a6oo/iXKatxQx4eS9zTVD+KlSVaAFbTIqVvwLC1Y0k=   \n",
        "\n",
        "                                        song_id source_system_tab  \\\n",
        "0  WmHKgKMlp1lQMecNdNvDMkvIycZYHnFwDT72I5sIssc=        my library   \n",
        "1  y/rsZ9DC7FwK5F2PK2D5mj+aOBUJAjuu3dZ14NgE0vM=        my library   \n",
        "2  8eZLFOdGVdXBSqoAv5nsLigeH2BvKXzTQYtUM53I0k4=          discover   \n",
        "3  ztCf8thYsS4YN3GcIL/bvoxLm/T5mYBVKOO4C9NiVfQ=             radio   \n",
        "4  MKVMpslKcQhMaFEgcEQhEfi5+RZhMYlU3eRDpySrH8Y=             radio   \n",
        "\n",
        "    source_screen_name          source_type  \n",
        "0  Local playlist more        local-library  \n",
        "1  Local playlist more        local-library  \n",
        "2                  NaN  song-based-playlist  \n",
        "3                Radio                radio  \n",
        "4                Radio                radio  "
       ]
      }
     ],
     "prompt_number": 14
    },
    {
     "cell_type": "code",
     "collapsed": false,
     "input": [
      "members = pd.read_csv('members.csv')"
     ],
     "language": "python",
     "metadata": {},
     "outputs": [],
     "prompt_number": 15
    },
    {
     "cell_type": "code",
     "collapsed": false,
     "input": [
      "members.columns"
     ],
     "language": "python",
     "metadata": {},
     "outputs": [
      {
       "metadata": {},
       "output_type": "pyout",
       "prompt_number": 16,
       "text": [
        "Index([u'msno', u'city', u'bd', u'gender', u'registered_via',\n",
        "       u'registration_init_time', u'expiration_date'],\n",
        "      dtype='object')"
       ]
      }
     ],
     "prompt_number": 16
    },
    {
     "cell_type": "code",
     "collapsed": false,
     "input": [
      "members.info()"
     ],
     "language": "python",
     "metadata": {},
     "outputs": [
      {
       "output_type": "stream",
       "stream": "stdout",
       "text": [
        "<class 'pandas.core.frame.DataFrame'>\n",
        "Int64Index: 34403 entries, 0 to 34402\n",
        "Data columns (total 7 columns):\n",
        "msno                      34403 non-null object\n",
        "city                      34403 non-null int64\n",
        "bd                        34403 non-null int64\n",
        "gender                    14501 non-null object\n",
        "registered_via            34403 non-null int64\n",
        "registration_init_time    34403 non-null int64\n",
        "expiration_date           34403 non-null int64\n",
        "dtypes: int64(5), object(2)\n",
        "memory usage: 2.1+ MB\n"
       ]
      }
     ],
     "prompt_number": 17
    },
    {
     "cell_type": "markdown",
     "metadata": {},
     "source": [
      "** \u041e\u043f\u0438\u0441\u0430\u043d\u0438\u0435 \u043f\u0440\u0438\u0437\u043d\u0430\u043a\u043e\u0432 **\n",
      " - `msno` \u2013 \u0438\u0434\u0435\u043d\u0442\u0438\u0444\u0438\u043a\u0430\u0442\u043e\u0440 \u043f\u043e\u043b\u044c\u0437\u043e\u0432\u0430\u0442\u0435\u043b\u044f\n",
      " - `city` \u2013 \u0433\u043e\u0440\u043e\u0434 \u043f\u043e\u043b\u044c\u0437\u043e\u0432\u0430\u0442\u0435\u043b\u044f\n",
      " - `bd` \u2013 \u0432\u043e\u0437\u0440\u0430\u0441\u0442\n",
      " - `gender` \u2013 \u043f\u043e\u043b\n",
      " - `registered_via` \u2013 \u0441\u043f\u043e\u0441\u043e\u0431 \u0440\u0435\u0433\u0438\u0441\u0442\u0440\u0430\u0446\u0438\u0438\n",
      " - `registration_init_time` \u2013 \u0434\u0430\u0442\u0430 \u0440\u0435\u0433\u0438\u0441\u0442\u0440\u0430\u0446\u0438\u0438 %Y%m%d\n",
      " - `expiration_date` \u2013 \u0434\u0430\u0442\u0430 \u043e\u043a\u043e\u043d\u0447\u0430\u043d\u0438\u044f %Y%m%d"
     ]
    },
    {
     "cell_type": "code",
     "collapsed": false,
     "input": [
      "members.head()"
     ],
     "language": "python",
     "metadata": {},
     "outputs": [
      {
       "html": [
        "<div style=\"max-width:1500px;overflow:auto;\">\n",
        "<table border=\"1\" class=\"dataframe\">\n",
        "  <thead>\n",
        "    <tr style=\"text-align: right;\">\n",
        "      <th></th>\n",
        "      <th>msno</th>\n",
        "      <th>city</th>\n",
        "      <th>bd</th>\n",
        "      <th>gender</th>\n",
        "      <th>registered_via</th>\n",
        "      <th>registration_init_time</th>\n",
        "      <th>expiration_date</th>\n",
        "    </tr>\n",
        "  </thead>\n",
        "  <tbody>\n",
        "    <tr>\n",
        "      <th>0</th>\n",
        "      <td>XQxgAYj3klVKjR3oxPPXYYFp4soD4TuBghkhMTD4oTw=</td>\n",
        "      <td>1</td>\n",
        "      <td>0</td>\n",
        "      <td>NaN</td>\n",
        "      <td>7</td>\n",
        "      <td>20110820</td>\n",
        "      <td>20170920</td>\n",
        "    </tr>\n",
        "    <tr>\n",
        "      <th>1</th>\n",
        "      <td>UizsfmJb9mV54qE9hCYyU07Va97c0lCRLEQX3ae+ztM=</td>\n",
        "      <td>1</td>\n",
        "      <td>0</td>\n",
        "      <td>NaN</td>\n",
        "      <td>7</td>\n",
        "      <td>20150628</td>\n",
        "      <td>20170622</td>\n",
        "    </tr>\n",
        "    <tr>\n",
        "      <th>2</th>\n",
        "      <td>D8nEhsIOBSoE6VthTaqDX8U6lqjJ7dLdr72mOyLya2A=</td>\n",
        "      <td>1</td>\n",
        "      <td>0</td>\n",
        "      <td>NaN</td>\n",
        "      <td>4</td>\n",
        "      <td>20160411</td>\n",
        "      <td>20170712</td>\n",
        "    </tr>\n",
        "    <tr>\n",
        "      <th>3</th>\n",
        "      <td>mCuD+tZ1hERA/o5GPqk38e041J8ZsBaLcu7nGoIIvhI=</td>\n",
        "      <td>1</td>\n",
        "      <td>0</td>\n",
        "      <td>NaN</td>\n",
        "      <td>9</td>\n",
        "      <td>20150906</td>\n",
        "      <td>20150907</td>\n",
        "    </tr>\n",
        "    <tr>\n",
        "      <th>4</th>\n",
        "      <td>q4HRBfVSssAFS9iRfxWrohxuk9kCYMKjHOEagUMV6rQ=</td>\n",
        "      <td>1</td>\n",
        "      <td>0</td>\n",
        "      <td>NaN</td>\n",
        "      <td>4</td>\n",
        "      <td>20170126</td>\n",
        "      <td>20170613</td>\n",
        "    </tr>\n",
        "  </tbody>\n",
        "</table>\n",
        "</div>"
       ],
       "metadata": {},
       "output_type": "pyout",
       "prompt_number": 18,
       "text": [
        "                                           msno  city  bd gender  \\\n",
        "0  XQxgAYj3klVKjR3oxPPXYYFp4soD4TuBghkhMTD4oTw=     1   0    NaN   \n",
        "1  UizsfmJb9mV54qE9hCYyU07Va97c0lCRLEQX3ae+ztM=     1   0    NaN   \n",
        "2  D8nEhsIOBSoE6VthTaqDX8U6lqjJ7dLdr72mOyLya2A=     1   0    NaN   \n",
        "3  mCuD+tZ1hERA/o5GPqk38e041J8ZsBaLcu7nGoIIvhI=     1   0    NaN   \n",
        "4  q4HRBfVSssAFS9iRfxWrohxuk9kCYMKjHOEagUMV6rQ=     1   0    NaN   \n",
        "\n",
        "   registered_via  registration_init_time  expiration_date  \n",
        "0               7                20110820         20170920  \n",
        "1               7                20150628         20170622  \n",
        "2               4                20160411         20170712  \n",
        "3               9                20150906         20150907  \n",
        "4               4                20170126         20170613  "
       ]
      }
     ],
     "prompt_number": 18
    },
    {
     "cell_type": "code",
     "collapsed": false,
     "input": [
      "songs = pd.read_csv('songs.csv')"
     ],
     "language": "python",
     "metadata": {},
     "outputs": [],
     "prompt_number": 19
    },
    {
     "cell_type": "code",
     "collapsed": false,
     "input": [
      "songs.columns"
     ],
     "language": "python",
     "metadata": {},
     "outputs": [
      {
       "metadata": {},
       "output_type": "pyout",
       "prompt_number": 20,
       "text": [
        "Index([u'song_id', u'song_length', u'genre_ids', u'artist_name', u'composer',\n",
        "       u'lyricist', u'language'],\n",
        "      dtype='object')"
       ]
      }
     ],
     "prompt_number": 20
    },
    {
     "cell_type": "code",
     "collapsed": false,
     "input": [
      "songs.info()"
     ],
     "language": "python",
     "metadata": {},
     "outputs": [
      {
       "output_type": "stream",
       "stream": "stdout",
       "text": [
        "<class 'pandas.core.frame.DataFrame'>\n",
        "Int64Index: 2296320 entries, 0 to 2296319\n",
        "Data columns (total 7 columns):\n",
        "song_id        object\n",
        "song_length    int64\n",
        "genre_ids      object\n",
        "artist_name    object\n",
        "composer       object\n",
        "lyricist       object\n",
        "language       float64\n",
        "dtypes: float64(1), int64(1), object(5)\n",
        "memory usage: 140.2+ MB\n"
       ]
      }
     ],
     "prompt_number": 21
    },
    {
     "cell_type": "markdown",
     "metadata": {},
     "source": [
      "** \u041e\u043f\u0438\u0441\u0430\u043d\u0438\u0435 \u043f\u0440\u0438\u0437\u043d\u0430\u043a\u043e\u0432 **\n",
      " - `song_id` \u2013 \u0438\u0434\u0435\u043d\u0442\u0438\u0444\u0438\u043a\u0430\u0442\u043e\u0440 \u043f\u0435\u0441\u043d\u0438\n",
      " - `song_length` \u2013 \u043f\u0440\u043e\u0434\u043e\u043b\u0436\u0438\u0442\u0435\u043b\u044c\u043d\u043e\u0441\u0442\u044c \u0432 \u043c\u0438\u043b\u043b\u0438\u0441\u0435\u043a\u0443\u043d\u0434\u0430\u0445\n",
      " - `genre_ids` \u2013 \u0436\u0430\u043d\u0440, \u043a\u0430\u0436\u0434\u0430\u044f \u043f\u0435\u0441\u043d\u044f \u043c\u043e\u0436\u0435\u0442 \u0438\u043c\u0435\u0442\u044c \u043d\u0435\u0441\u043a\u043e\u043b\u044c\u043a\u043e \u0436\u0430\u043d\u0440\u043e\u0432. \u0440\u0430\u0437\u0434\u0435\u043b\u0435\u043d\u044b \"|\"\n",
      " - `artist_name` \u2013 \u0438\u043c\u044f \u0438\u0441\u043f\u043e\u043b\u043d\u0438\u0442\u0435\u043b\u044f\n",
      " - `composer` \u2013 \u0438\u043c\u044f \u043a\u043e\u043c\u043f\u043e\u0437\u0438\u0442\u043e\u0440\u0430\n",
      " - `lyricist` \u2013 \u0430\u0432\u0442\u043e\u0440 \u0442\u0435\u043a\u0441\u0442\u0430\n",
      " - `language` \u2013 \u044f\u0437\u044b\u043a"
     ]
    },
    {
     "cell_type": "code",
     "collapsed": false,
     "input": [
      "songs.head()"
     ],
     "language": "python",
     "metadata": {},
     "outputs": [
      {
       "html": [
        "<div style=\"max-width:1500px;overflow:auto;\">\n",
        "<table border=\"1\" class=\"dataframe\">\n",
        "  <thead>\n",
        "    <tr style=\"text-align: right;\">\n",
        "      <th></th>\n",
        "      <th>song_id</th>\n",
        "      <th>song_length</th>\n",
        "      <th>genre_ids</th>\n",
        "      <th>artist_name</th>\n",
        "      <th>composer</th>\n",
        "      <th>lyricist</th>\n",
        "      <th>language</th>\n",
        "    </tr>\n",
        "  </thead>\n",
        "  <tbody>\n",
        "    <tr>\n",
        "      <th>0</th>\n",
        "      <td>CXoTN1eb7AI+DntdU1vbcwGRV4SCIDxZu+YD8JP8r4E=</td>\n",
        "      <td>247640</td>\n",
        "      <td>465</td>\n",
        "      <td>\u5f35\u4fe1\u54f2 (Jeff Chang)</td>\n",
        "      <td>\u8463\u8c9e</td>\n",
        "      <td>\u4f55\u555f\u5f18</td>\n",
        "      <td>3</td>\n",
        "    </tr>\n",
        "    <tr>\n",
        "      <th>1</th>\n",
        "      <td>o0kFgae9QtnYgRkVPqLJwa05zIhRlUjfF7O1tDw0ZDU=</td>\n",
        "      <td>197328</td>\n",
        "      <td>444</td>\n",
        "      <td>BLACKPINK</td>\n",
        "      <td>TEDDY|  FUTURE BOUNCE|  Bekuh BOOM</td>\n",
        "      <td>TEDDY</td>\n",
        "      <td>31</td>\n",
        "    </tr>\n",
        "    <tr>\n",
        "      <th>2</th>\n",
        "      <td>DwVvVurfpuz+XPuFvucclVQEyPqcpUkHR0ne1RQzPs0=</td>\n",
        "      <td>231781</td>\n",
        "      <td>465</td>\n",
        "      <td>SUPER JUNIOR</td>\n",
        "      <td>NaN</td>\n",
        "      <td>NaN</td>\n",
        "      <td>31</td>\n",
        "    </tr>\n",
        "    <tr>\n",
        "      <th>3</th>\n",
        "      <td>dKMBWoZyScdxSkihKG+Vf47nc18N9q4m58+b4e7dSSE=</td>\n",
        "      <td>273554</td>\n",
        "      <td>465</td>\n",
        "      <td>S.H.E</td>\n",
        "      <td>\u6e6f\u5c0f\u5eb7</td>\n",
        "      <td>\u5f90\u4e16\u73cd</td>\n",
        "      <td>3</td>\n",
        "    </tr>\n",
        "    <tr>\n",
        "      <th>4</th>\n",
        "      <td>W3bqWd3T+VeHFzHAUfARgW9AvVRaF4N5Yzm4Mr6Eo/o=</td>\n",
        "      <td>140329</td>\n",
        "      <td>726</td>\n",
        "      <td>\u8cb4\u65cf\u7cbe\u9078</td>\n",
        "      <td>Traditional</td>\n",
        "      <td>Traditional</td>\n",
        "      <td>52</td>\n",
        "    </tr>\n",
        "  </tbody>\n",
        "</table>\n",
        "</div>"
       ],
       "metadata": {},
       "output_type": "pyout",
       "prompt_number": 22,
       "text": [
        "                                        song_id  song_length genre_ids  \\\n",
        "0  CXoTN1eb7AI+DntdU1vbcwGRV4SCIDxZu+YD8JP8r4E=       247640       465   \n",
        "1  o0kFgae9QtnYgRkVPqLJwa05zIhRlUjfF7O1tDw0ZDU=       197328       444   \n",
        "2  DwVvVurfpuz+XPuFvucclVQEyPqcpUkHR0ne1RQzPs0=       231781       465   \n",
        "3  dKMBWoZyScdxSkihKG+Vf47nc18N9q4m58+b4e7dSSE=       273554       465   \n",
        "4  W3bqWd3T+VeHFzHAUfARgW9AvVRaF4N5Yzm4Mr6Eo/o=       140329       726   \n",
        "\n",
        "        artist_name                            composer     lyricist  language  \n",
        "0  \u5f35\u4fe1\u54f2 (Jeff Chang)                                  \u8463\u8c9e          \u4f55\u555f\u5f18         3  \n",
        "1         BLACKPINK  TEDDY|  FUTURE BOUNCE|  Bekuh BOOM        TEDDY        31  \n",
        "2      SUPER JUNIOR                                 NaN          NaN        31  \n",
        "3             S.H.E                                 \u6e6f\u5c0f\u5eb7          \u5f90\u4e16\u73cd         3  \n",
        "4              \u8cb4\u65cf\u7cbe\u9078                         Traditional  Traditional        52  "
       ]
      }
     ],
     "prompt_number": 22
    },
    {
     "cell_type": "code",
     "collapsed": false,
     "input": [
      "songs_extra_info = pd.read_csv('song_extra_info.csv')"
     ],
     "language": "python",
     "metadata": {},
     "outputs": [],
     "prompt_number": 23
    },
    {
     "cell_type": "code",
     "collapsed": false,
     "input": [
      "songs_extra_info.columns"
     ],
     "language": "python",
     "metadata": {},
     "outputs": [
      {
       "metadata": {},
       "output_type": "pyout",
       "prompt_number": 24,
       "text": [
        "Index([u'song_id', u'name', u'isrc'], dtype='object')"
       ]
      }
     ],
     "prompt_number": 24
    },
    {
     "cell_type": "code",
     "collapsed": false,
     "input": [
      "songs_extra_info.info()"
     ],
     "language": "python",
     "metadata": {},
     "outputs": [
      {
       "output_type": "stream",
       "stream": "stdout",
       "text": [
        "<class 'pandas.core.frame.DataFrame'>\n",
        "Int64Index: 2295971 entries, 0 to 2295970\n",
        "Data columns (total 3 columns):\n",
        "song_id    object\n",
        "name       object\n",
        "isrc       object\n",
        "dtypes: object(3)\n",
        "memory usage: 70.1+ MB\n"
       ]
      }
     ],
     "prompt_number": 25
    },
    {
     "cell_type": "markdown",
     "metadata": {},
     "source": [
      "** \u041e\u043f\u0438\u0441\u0430\u043d\u0438\u0435 \u043f\u0440\u0438\u0437\u043d\u0430\u043a\u043e\u0432 **\n",
      " - `song_id` \u2013 \u0438\u0434\u0435\u043d\u0442\u0438\u0444\u0438\u043a\u0430\u0442\u043e\u0440 \u043f\u0435\u0441\u043d\u0438\n",
      " - `name` \u2013 \u043d\u0430\u0437\u0432\u0430\u043d\u0438\u0435 \u043f\u0435\u0441\u043d\u0438\n",
      " - `isrc` \u2013 International Standard Recording Code"
     ]
    },
    {
     "cell_type": "code",
     "collapsed": false,
     "input": [
      "songs_extra_info.head()"
     ],
     "language": "python",
     "metadata": {},
     "outputs": [
      {
       "html": [
        "<div style=\"max-width:1500px;overflow:auto;\">\n",
        "<table border=\"1\" class=\"dataframe\">\n",
        "  <thead>\n",
        "    <tr style=\"text-align: right;\">\n",
        "      <th></th>\n",
        "      <th>song_id</th>\n",
        "      <th>name</th>\n",
        "      <th>isrc</th>\n",
        "    </tr>\n",
        "  </thead>\n",
        "  <tbody>\n",
        "    <tr>\n",
        "      <th>0</th>\n",
        "      <td>LP7pLJoJFBvyuUwvu+oLzjT+bI+UeBPURCecJsX1jjs=</td>\n",
        "      <td>\u6211\u5011</td>\n",
        "      <td>TWUM71200043</td>\n",
        "    </tr>\n",
        "    <tr>\n",
        "      <th>1</th>\n",
        "      <td>ClazTFnk6r0Bnuie44bocdNMM3rdlrq0bCGAsGUWcHE=</td>\n",
        "      <td>Let Me Love You</td>\n",
        "      <td>QMZSY1600015</td>\n",
        "    </tr>\n",
        "    <tr>\n",
        "      <th>2</th>\n",
        "      <td>u2ja/bZE3zhCGxvbbOB3zOoUjx27u40cf5g09UXMoKQ=</td>\n",
        "      <td>\u539f\u8ad2\u6211</td>\n",
        "      <td>TWA530887303</td>\n",
        "    </tr>\n",
        "    <tr>\n",
        "      <th>3</th>\n",
        "      <td>92Fqsy0+p6+RHe2EoLKjHahORHR1Kq1TBJoClW9v+Ts=</td>\n",
        "      <td>Classic</td>\n",
        "      <td>USSM11301446</td>\n",
        "    </tr>\n",
        "    <tr>\n",
        "      <th>4</th>\n",
        "      <td>0QFmz/+rJy1Q56C1DuYqT9hKKqi5TUqx0sN0IwvoHrw=</td>\n",
        "      <td>\u611b\u6295\u7f85\u7db2</td>\n",
        "      <td>TWA471306001</td>\n",
        "    </tr>\n",
        "  </tbody>\n",
        "</table>\n",
        "</div>"
       ],
       "metadata": {},
       "output_type": "pyout",
       "prompt_number": 26,
       "text": [
        "                                        song_id             name          isrc\n",
        "0  LP7pLJoJFBvyuUwvu+oLzjT+bI+UeBPURCecJsX1jjs=               \u6211\u5011  TWUM71200043\n",
        "1  ClazTFnk6r0Bnuie44bocdNMM3rdlrq0bCGAsGUWcHE=  Let Me Love You  QMZSY1600015\n",
        "2  u2ja/bZE3zhCGxvbbOB3zOoUjx27u40cf5g09UXMoKQ=              \u539f\u8ad2\u6211  TWA530887303\n",
        "3  92Fqsy0+p6+RHe2EoLKjHahORHR1Kq1TBJoClW9v+Ts=          Classic  USSM11301446\n",
        "4  0QFmz/+rJy1Q56C1DuYqT9hKKqi5TUqx0sN0IwvoHrw=             \u611b\u6295\u7f85\u7db2  TWA471306001"
       ]
      }
     ],
     "prompt_number": 26
    },
    {
     "cell_type": "markdown",
     "metadata": {},
     "source": [
      "\u041f\u043e\u0441\u0442\u0430\u0440\u0430\u0435\u043c\u0441\u044f \u0443\u043c\u0435\u043d\u044c\u0448\u0438\u0442\u044c \u043e\u0431\u044a\u0435\u043c \u0434\u0430\u043d\u043d\u044b\u0445. \u0414\u043b\u044f \u044d\u0442\u043e\u0433\u043e \u043c\u043e\u0436\u043d\u043e \u0437\u0430\u043c\u0435\u043d\u0438\u0442\u044c \u043c\u043d\u043e\u0433\u043e\u0447\u0438\u0441\u043b\u0435\u043d\u043d\u044b\u0435 \u0441\u0442\u0440\u043e\u043a\u043e\u0432\u044b\u0435 \u043f\u0440\u0438\u0437\u043d\u0430\u043a\u0438 \u043d\u0430 \u0447\u0438\u0441\u043b\u043e\u0432\u044b\u0435. \u0414\u043b\u044f \u044d\u0442\u043e\u0433\u043e \u0432\u043e\u0441\u043f\u043e\u043b\u044c\u0437\u0443\u0435\u043c\u0441\u044f LabelEncoder \u0438\u0437 \u0431\u0438\u0431\u043b\u0438\u043e\u0442\u0435\u043a\u0438 sklearn"
     ]
    },
    {
     "cell_type": "code",
     "collapsed": false,
     "input": [
      "from sklearn.preprocessing import LabelEncoder"
     ],
     "language": "python",
     "metadata": {},
     "outputs": [],
     "prompt_number": 27
    },
    {
     "cell_type": "code",
     "collapsed": false,
     "input": [
      "member_encoder = LabelEncoder()"
     ],
     "language": "python",
     "metadata": {},
     "outputs": [],
     "prompt_number": 28
    },
    {
     "cell_type": "code",
     "collapsed": false,
     "input": [
      "member_encoder.fit(members.msno.append(train.msno).append(test.msno))"
     ],
     "language": "python",
     "metadata": {},
     "outputs": [
      {
       "metadata": {},
       "output_type": "pyout",
       "prompt_number": 29,
       "text": [
        "LabelEncoder()"
       ]
      }
     ],
     "prompt_number": 29
    },
    {
     "cell_type": "code",
     "collapsed": false,
     "input": [
      "members.msno = member_encoder.transform(members.msno)\n",
      "train.msno   = member_encoder.transform(train.msno)\n",
      "test.msno    = member_encoder.transform(test.msno)"
     ],
     "language": "python",
     "metadata": {},
     "outputs": [],
     "prompt_number": 30
    },
    {
     "cell_type": "code",
     "collapsed": false,
     "input": [
      "song_encoder = LabelEncoder()"
     ],
     "language": "python",
     "metadata": {},
     "outputs": [],
     "prompt_number": 31
    },
    {
     "cell_type": "code",
     "collapsed": false,
     "input": [
      "song_encoder.fit(songs.song_id.append(train.song_id).append(test.song_id))"
     ],
     "language": "python",
     "metadata": {},
     "outputs": [
      {
       "metadata": {},
       "output_type": "pyout",
       "prompt_number": 32,
       "text": [
        "LabelEncoder()"
       ]
      }
     ],
     "prompt_number": 32
    },
    {
     "cell_type": "code",
     "collapsed": false,
     "input": [
      "songs.song_id = song_encoder.transform(songs.song_id)\n",
      "train.song_id = song_encoder.transform(train.song_id)\n",
      "test.song_id  = song_encoder.transform(test.song_id)"
     ],
     "language": "python",
     "metadata": {},
     "outputs": [],
     "prompt_number": 33
    },
    {
     "cell_type": "code",
     "collapsed": false,
     "input": [
      "train.head()"
     ],
     "language": "python",
     "metadata": {},
     "outputs": [
      {
       "html": [
        "<div style=\"max-width:1500px;overflow:auto;\">\n",
        "<table border=\"1\" class=\"dataframe\">\n",
        "  <thead>\n",
        "    <tr style=\"text-align: right;\">\n",
        "      <th></th>\n",
        "      <th>msno</th>\n",
        "      <th>song_id</th>\n",
        "      <th>source_system_tab</th>\n",
        "      <th>source_screen_name</th>\n",
        "      <th>source_type</th>\n",
        "      <th>target</th>\n",
        "    </tr>\n",
        "  </thead>\n",
        "  <tbody>\n",
        "    <tr>\n",
        "      <th>0</th>\n",
        "      <td>9176</td>\n",
        "      <td>474744</td>\n",
        "      <td>explore</td>\n",
        "      <td>Explore</td>\n",
        "      <td>online-playlist</td>\n",
        "      <td>1</td>\n",
        "    </tr>\n",
        "    <tr>\n",
        "      <th>1</th>\n",
        "      <td>19273</td>\n",
        "      <td>1425356</td>\n",
        "      <td>my library</td>\n",
        "      <td>Local playlist more</td>\n",
        "      <td>local-playlist</td>\n",
        "      <td>1</td>\n",
        "    </tr>\n",
        "    <tr>\n",
        "      <th>2</th>\n",
        "      <td>19273</td>\n",
        "      <td>768794</td>\n",
        "      <td>my library</td>\n",
        "      <td>Local playlist more</td>\n",
        "      <td>local-playlist</td>\n",
        "      <td>1</td>\n",
        "    </tr>\n",
        "    <tr>\n",
        "      <th>3</th>\n",
        "      <td>19273</td>\n",
        "      <td>150592</td>\n",
        "      <td>my library</td>\n",
        "      <td>Local playlist more</td>\n",
        "      <td>local-playlist</td>\n",
        "      <td>1</td>\n",
        "    </tr>\n",
        "    <tr>\n",
        "      <th>4</th>\n",
        "      <td>9176</td>\n",
        "      <td>210344</td>\n",
        "      <td>explore</td>\n",
        "      <td>Explore</td>\n",
        "      <td>online-playlist</td>\n",
        "      <td>1</td>\n",
        "    </tr>\n",
        "  </tbody>\n",
        "</table>\n",
        "</div>"
       ],
       "metadata": {},
       "output_type": "pyout",
       "prompt_number": 34,
       "text": [
        "    msno  song_id source_system_tab   source_screen_name      source_type  \\\n",
        "0   9176   474744           explore              Explore  online-playlist   \n",
        "1  19273  1425356        my library  Local playlist more   local-playlist   \n",
        "2  19273   768794        my library  Local playlist more   local-playlist   \n",
        "3  19273   150592        my library  Local playlist more   local-playlist   \n",
        "4   9176   210344           explore              Explore  online-playlist   \n",
        "\n",
        "   target  \n",
        "0       1  \n",
        "1       1  \n",
        "2       1  \n",
        "3       1  \n",
        "4       1  "
       ]
      }
     ],
     "prompt_number": 34
    },
    {
     "cell_type": "markdown",
     "metadata": {},
     "source": [
      "\u041f\u043e\u0441\u043c\u043e\u0442\u0440\u0438\u043c \u043f\u043e\u0432\u043d\u0438\u043c\u0430\u0442\u0435\u043b\u044c\u043d\u0435\u0435 \u043d\u0430 \u043d\u0430\u0431\u043e\u0440 \u0434\u0430\u043d\u043d\u044b\u0445 \u043e \u043f\u043e\u043b\u044c\u0437\u043e\u0432\u0430\u0442\u0435\u043b\u044f\u0445"
     ]
    },
    {
     "cell_type": "code",
     "collapsed": false,
     "input": [
      "members.info()"
     ],
     "language": "python",
     "metadata": {},
     "outputs": [
      {
       "output_type": "stream",
       "stream": "stdout",
       "text": [
        "<class 'pandas.core.frame.DataFrame'>\n",
        "Int64Index: 34403 entries, 0 to 34402\n",
        "Data columns (total 7 columns):\n",
        "msno                      34403 non-null int64\n",
        "city                      34403 non-null int64\n",
        "bd                        34403 non-null int64\n",
        "gender                    14501 non-null object\n",
        "registered_via            34403 non-null int64\n",
        "registration_init_time    34403 non-null int64\n",
        "expiration_date           34403 non-null int64\n",
        "dtypes: int64(6), object(1)\n",
        "memory usage: 2.1+ MB\n"
       ]
      }
     ],
     "prompt_number": 35
    },
    {
     "cell_type": "code",
     "collapsed": false,
     "input": [
      "members.head()"
     ],
     "language": "python",
     "metadata": {},
     "outputs": [
      {
       "html": [
        "<div style=\"max-width:1500px;overflow:auto;\">\n",
        "<table border=\"1\" class=\"dataframe\">\n",
        "  <thead>\n",
        "    <tr style=\"text-align: right;\">\n",
        "      <th></th>\n",
        "      <th>msno</th>\n",
        "      <th>city</th>\n",
        "      <th>bd</th>\n",
        "      <th>gender</th>\n",
        "      <th>registered_via</th>\n",
        "      <th>registration_init_time</th>\n",
        "      <th>expiration_date</th>\n",
        "    </tr>\n",
        "  </thead>\n",
        "  <tbody>\n",
        "    <tr>\n",
        "      <th>0</th>\n",
        "      <td>19016</td>\n",
        "      <td>1</td>\n",
        "      <td>0</td>\n",
        "      <td>NaN</td>\n",
        "      <td>7</td>\n",
        "      <td>20110820</td>\n",
        "      <td>20170920</td>\n",
        "    </tr>\n",
        "    <tr>\n",
        "      <th>1</th>\n",
        "      <td>17476</td>\n",
        "      <td>1</td>\n",
        "      <td>0</td>\n",
        "      <td>NaN</td>\n",
        "      <td>7</td>\n",
        "      <td>20150628</td>\n",
        "      <td>20170622</td>\n",
        "    </tr>\n",
        "    <tr>\n",
        "      <th>2</th>\n",
        "      <td>7977</td>\n",
        "      <td>1</td>\n",
        "      <td>0</td>\n",
        "      <td>NaN</td>\n",
        "      <td>4</td>\n",
        "      <td>20160411</td>\n",
        "      <td>20170712</td>\n",
        "    </tr>\n",
        "    <tr>\n",
        "      <th>3</th>\n",
        "      <td>27021</td>\n",
        "      <td>1</td>\n",
        "      <td>0</td>\n",
        "      <td>NaN</td>\n",
        "      <td>9</td>\n",
        "      <td>20150906</td>\n",
        "      <td>20150907</td>\n",
        "    </tr>\n",
        "    <tr>\n",
        "      <th>4</th>\n",
        "      <td>29129</td>\n",
        "      <td>1</td>\n",
        "      <td>0</td>\n",
        "      <td>NaN</td>\n",
        "      <td>4</td>\n",
        "      <td>20170126</td>\n",
        "      <td>20170613</td>\n",
        "    </tr>\n",
        "  </tbody>\n",
        "</table>\n",
        "</div>"
       ],
       "metadata": {},
       "output_type": "pyout",
       "prompt_number": 36,
       "text": [
        "    msno  city  bd gender  registered_via  registration_init_time  \\\n",
        "0  19016     1   0    NaN               7                20110820   \n",
        "1  17476     1   0    NaN               7                20150628   \n",
        "2   7977     1   0    NaN               4                20160411   \n",
        "3  27021     1   0    NaN               9                20150906   \n",
        "4  29129     1   0    NaN               4                20170126   \n",
        "\n",
        "   expiration_date  \n",
        "0         20170920  \n",
        "1         20170622  \n",
        "2         20170712  \n",
        "3         20150907  \n",
        "4         20170613  "
       ]
      }
     ],
     "prompt_number": 36
    },
    {
     "cell_type": "markdown",
     "metadata": {},
     "source": [
      "\u041f\u043e\u0441\u0442\u0440\u043e\u0438\u043c \u0433\u0438\u0441\u0442\u043e\u0433\u0440\u0430\u043c\u043c\u0443 \u0432\u043e\u0437\u0440\u0430\u0441\u0442\u043e\u0432 \u043f\u043e\u043b\u044c\u0437\u043e\u0432\u0430\u0442\u0435\u043b\u044f. "
     ]
    },
    {
     "cell_type": "code",
     "collapsed": false,
     "input": [
      "members.bd.hist(bins = 200)"
     ],
     "language": "python",
     "metadata": {},
     "outputs": [
      {
       "metadata": {},
       "output_type": "pyout",
       "prompt_number": 37,
       "text": [
        "<matplotlib.axes._subplots.AxesSubplot at 0x7f39c4bc2710>"
       ]
      },
      {
       "metadata": {},
       "output_type": "display_data",
       "png": "[encoded data removed]",
       "text": [
        "<matplotlib.figure.Figure at 0x7f39ed1b9450>"
       ]
      }
     ],
     "prompt_number": 37
    },
    {
     "cell_type": "markdown",
     "metadata": {},
     "source": [
      "\u041e\u0447\u0435\u043d\u044c \u043c\u043d\u043e\u0433\u043e \u043f\u043e\u043b\u044c\u0437\u043e\u0432\u0430\u0442\u0435\u043b\u0435\u0439 \u0443\u043a\u0430\u0437\u0430\u043b\u043e \u043d\u0443\u043b\u0435\u0432\u043e\u0439 \u0432\u043e\u0437\u0440\u0430\u0441\u0442. \u0412\u044b\u043a\u0438\u043d\u0435\u043c \u0437\u0430\u043f\u0438\u0441\u0438 \u043e \u043f\u043e\u043b\u044c\u0437\u043e\u0432\u0430\u0442\u0435\u043b\u044f\u0445 \u0441\u0442\u0440\u0430\u0448\u0435 100 \u043b\u0435\u0442 \u0438 \u043c\u043e\u043b\u043e\u0436\u0435 4."
     ]
    },
    {
     "cell_type": "code",
     "collapsed": false,
     "input": [
      "correct_age_member = members.bd.apply(lambda x: 4<x<100)"
     ],
     "language": "python",
     "metadata": {},
     "outputs": [],
     "prompt_number": 38
    },
    {
     "cell_type": "code",
     "collapsed": false,
     "input": [
      "correct_age_member.sum()"
     ],
     "language": "python",
     "metadata": {},
     "outputs": [
      {
       "metadata": {},
       "output_type": "pyout",
       "prompt_number": 39,
       "text": [
        "14445"
       ]
      }
     ],
     "prompt_number": 39
    },
    {
     "cell_type": "markdown",
     "metadata": {},
     "source": [
      "\u0422\u0430\u043a\u0438\u0445 \u043f\u043e\u043b\u044c\u0437\u043e\u0432\u0430\u0442\u0435\u043b\u0435\u0439 \u0432\u0441\u0435\u0433\u043e 14445. \u041c\u0435\u043d\u044c\u0448\u0435 50% \u043e\u0442 \u0432\u0441\u0435\u0445 \u0434\u0430\u043d\u043d\u044b\u0445"
     ]
    },
    {
     "cell_type": "code",
     "collapsed": false,
     "input": [
      "members.bd[correct_age_member].hist(bins = 50)"
     ],
     "language": "python",
     "metadata": {},
     "outputs": [
      {
       "metadata": {},
       "output_type": "pyout",
       "prompt_number": 40,
       "text": [
        "<matplotlib.axes._subplots.AxesSubplot at 0x7f39c4a97c50>"
       ]
      },
      {
       "metadata": {},
       "output_type": "display_data",
       "png": "[encoded data removed]",
       "text": [
        "<matplotlib.figure.Figure at 0x7f39c4b13dd0>"
       ]
      }
     ],
     "prompt_number": 40
    },
    {
     "cell_type": "markdown",
     "metadata": {},
     "source": [
      "\u041f\u043e\u0441\u0447\u0438\u0442\u0430\u0435\u043c \u043a\u043e\u043b\u0438\u0447\u0435\u0441\u0442\u0432\u043e \u043f\u043e\u043b\u044c\u0437\u043e\u0432\u0430\u0442\u0435\u043b\u0435\u0439, \u043a\u043e\u0442\u043e\u0440\u044b\u0435 \u0443\u043a\u0430\u0437\u0430\u043b\u0438 \u043f\u043e\u043b"
     ]
    },
    {
     "cell_type": "code",
     "collapsed": false,
     "input": [
      "members.gender.isnull().sum()"
     ],
     "language": "python",
     "metadata": {},
     "outputs": [
      {
       "metadata": {},
       "output_type": "pyout",
       "prompt_number": 41,
       "text": [
        "19902"
       ]
      }
     ],
     "prompt_number": 41
    },
    {
     "cell_type": "markdown",
     "metadata": {},
     "source": [
      "\u0417\u0430\u043c\u0435\u043d\u0438\u043c \u0441\u0442\u0440\u043e\u043a\u043e\u0432\u044b\u0435 \u0437\u043d\u0430\u0447\u0435\u043d\u0438\u044f \u043d\u0430 \u0447\u0438\u0441\u043b\u043e\u0432\u044b\u0435"
     ]
    },
    {
     "cell_type": "code",
     "collapsed": false,
     "input": [
      "members.gender[members.gender.isnull()] = \"-1\"\n",
      "members.gender[members.gender == \"male\"] = \"0\"\n",
      "members.gender[members.gender == \"female\"] = \"1\"\n",
      "members.gender = members.gender.astype(int).copy()"
     ],
     "language": "python",
     "metadata": {},
     "outputs": []
    },
    {
     "cell_type": "code",
     "collapsed": false,
     "input": [
      "members.head()"
     ],
     "language": "python",
     "metadata": {},
     "outputs": [
      {
       "html": [
        "<div style=\"max-width:1500px;overflow:auto;\">\n",
        "<table border=\"1\" class=\"dataframe\">\n",
        "  <thead>\n",
        "    <tr style=\"text-align: right;\">\n",
        "      <th></th>\n",
        "      <th>msno</th>\n",
        "      <th>city</th>\n",
        "      <th>bd</th>\n",
        "      <th>gender</th>\n",
        "      <th>registered_via</th>\n",
        "      <th>registration_init_time</th>\n",
        "      <th>expiration_date</th>\n",
        "    </tr>\n",
        "  </thead>\n",
        "  <tbody>\n",
        "    <tr>\n",
        "      <th>0</th>\n",
        "      <td>19016</td>\n",
        "      <td>1</td>\n",
        "      <td>0</td>\n",
        "      <td>-1</td>\n",
        "      <td>7</td>\n",
        "      <td>20110820</td>\n",
        "      <td>20170920</td>\n",
        "    </tr>\n",
        "    <tr>\n",
        "      <th>1</th>\n",
        "      <td>17476</td>\n",
        "      <td>1</td>\n",
        "      <td>0</td>\n",
        "      <td>-1</td>\n",
        "      <td>7</td>\n",
        "      <td>20150628</td>\n",
        "      <td>20170622</td>\n",
        "    </tr>\n",
        "    <tr>\n",
        "      <th>2</th>\n",
        "      <td>7977</td>\n",
        "      <td>1</td>\n",
        "      <td>0</td>\n",
        "      <td>-1</td>\n",
        "      <td>4</td>\n",
        "      <td>20160411</td>\n",
        "      <td>20170712</td>\n",
        "    </tr>\n",
        "    <tr>\n",
        "      <th>3</th>\n",
        "      <td>27021</td>\n",
        "      <td>1</td>\n",
        "      <td>0</td>\n",
        "      <td>-1</td>\n",
        "      <td>9</td>\n",
        "      <td>20150906</td>\n",
        "      <td>20150907</td>\n",
        "    </tr>\n",
        "    <tr>\n",
        "      <th>4</th>\n",
        "      <td>29129</td>\n",
        "      <td>1</td>\n",
        "      <td>0</td>\n",
        "      <td>-1</td>\n",
        "      <td>4</td>\n",
        "      <td>20170126</td>\n",
        "      <td>20170613</td>\n",
        "    </tr>\n",
        "  </tbody>\n",
        "</table>\n",
        "</div>"
       ],
       "metadata": {},
       "output_type": "pyout",
       "prompt_number": 43,
       "text": [
        "    msno  city  bd  gender  registered_via  registration_init_time  \\\n",
        "0  19016     1   0      -1               7                20110820   \n",
        "1  17476     1   0      -1               7                20150628   \n",
        "2   7977     1   0      -1               4                20160411   \n",
        "3  27021     1   0      -1               9                20150906   \n",
        "4  29129     1   0      -1               4                20170126   \n",
        "\n",
        "   expiration_date  \n",
        "0         20170920  \n",
        "1         20170622  \n",
        "2         20170712  \n",
        "3         20150907  \n",
        "4         20170613  "
       ]
      }
     ],
     "prompt_number": 43
    },
    {
     "cell_type": "code",
     "collapsed": false,
     "input": [
      "members.info()"
     ],
     "language": "python",
     "metadata": {},
     "outputs": [
      {
       "output_type": "stream",
       "stream": "stdout",
       "text": [
        "<class 'pandas.core.frame.DataFrame'>\n",
        "Int64Index: 34403 entries, 0 to 34402\n",
        "Data columns (total 7 columns):\n",
        "msno                      34403 non-null int64\n",
        "city                      34403 non-null int64\n",
        "bd                        34403 non-null int64\n",
        "gender                    34403 non-null int64\n",
        "registered_via            34403 non-null int64\n",
        "registration_init_time    34403 non-null int64\n",
        "expiration_date           34403 non-null int64\n",
        "dtypes: int64(7)\n",
        "memory usage: 2.1 MB\n"
       ]
      }
     ],
     "prompt_number": 44
    },
    {
     "cell_type": "markdown",
     "metadata": {},
     "source": [
      "\u0422\u0435\u043f\u0435\u0440\u044c \u043c\u043e\u0436\u0435\u043c \u043f\u043e\u0441\u0442\u0440\u043e\u0438\u0442\u044c \u0433\u0438\u0441\u0442\u043e\u0433\u0440\u0430\u043c\u043c\u0443 \u0434\u043b\u044f \u043f\u043e\u043b\u0430 \u043f\u043e\u043b\u044c\u0437\u043e\u0432\u0430\u0442\u0435\u043b\u0435\u0439"
     ]
    },
    {
     "cell_type": "code",
     "collapsed": false,
     "input": [
      "members.gender.hist()"
     ],
     "language": "python",
     "metadata": {},
     "outputs": [
      {
       "metadata": {},
       "output_type": "pyout",
       "prompt_number": 46,
       "text": [
        "<matplotlib.axes._subplots.AxesSubplot at 0x7f39c44937d0>"
       ]
      },
      {
       "metadata": {},
       "output_type": "display_data",
       "png": "[encoded data removed]",
       "text": [
        "<matplotlib.figure.Figure at 0x7f39c43dcb90>"
       ]
      }
     ],
     "prompt_number": 46
    },
    {
     "cell_type": "markdown",
     "metadata": {},
     "source": [
      "#\u0417\u0430\u0434\u0430\u0447\u0430. \u041f\u0440\u0435\u0434\u0441\u043a\u0430\u0437\u0430\u043d\u0438\u0435 \u043f\u043e\u043b\u0430 \u043f\u043e \u0441\u043f\u0438\u0441\u043a\u0443 \u043f\u0435\u0441\u0435\u043d"
     ]
    },
    {
     "cell_type": "markdown",
     "metadata": {},
     "source": [
      "\u041f\u0440\u043e\u0432\u0435\u0440\u0438\u043c \u043e\u0434\u043d\u0443 \u0433\u0438\u043f\u043e\u0442\u0435\u0437\u0443. \u041c\u043e\u0436\u043d\u043e \u043b\u0438 \u043f\u0440\u0435\u0434\u0441\u043a\u0430\u0437\u0430\u0442\u044c \u043f\u043e\u043b \u043f\u043e\u043b\u044c\u0437\u043e\u0432\u0430\u0442\u0435\u043b\u044f \u043f\u043e \u0435\u0433\u043e \u043f\u0440\u043e\u0441\u043b\u0443\u0448\u0430\u043d\u043d\u044b\u043c \u043f\u0435\u0441\u043d\u044f\u043c. \u0418\u0437\u0432\u043b\u0435\u0447\u0435\u043c \u0434\u043b\u044f \u043a\u0430\u0436\u0434\u043e\u0433\u043e \u043f\u043e\u043b\u044c\u0437\u043e\u0432\u0430\u0442\u0435\u043b\u044f \u0441\u043f\u0438\u0441\u043e\u043a \u043f\u0440\u043e\u0441\u043b\u0443\u0448\u0430\u043d\u043d\u044b\u0445 \u0436\u0430\u043d\u0440\u043e\u0432. \u042d\u0442\u043e \u0434\u043e\u0432\u043e\u043b\u044c\u043d\u043e \u0434\u043e\u043b\u0433\u0438\u0439 \u043f\u0440\u043e\u0446\u0435\u0441\u0441 \u0434\u043b\u044f \u0442\u0430\u043a\u043e\u0433\u043e \u0431\u043e\u043b\u044c\u0448\u043e\u0433\u043e \u043a\u043e\u043b\u0438\u0447\u0435\u0441\u0442\u0432\u0430 \u0434\u0430\u043d\u043d\u044b\u0445"
     ]
    },
    {
     "cell_type": "code",
     "collapsed": false,
     "input": [
      "from collections import defaultdict"
     ],
     "language": "python",
     "metadata": {},
     "outputs": [],
     "prompt_number": 77
    },
    {
     "cell_type": "code",
     "collapsed": false,
     "input": [
      "len(train.msno.unique())"
     ],
     "language": "python",
     "metadata": {},
     "outputs": [
      {
       "metadata": {},
       "output_type": "pyout",
       "prompt_number": 93,
       "text": [
        "30755"
       ]
      }
     ],
     "prompt_number": 93
    },
    {
     "cell_type": "code",
     "collapsed": false,
     "input": [
      "print \"min %i, max %i\" % (train.msno.min() , train.msno.max())"
     ],
     "language": "python",
     "metadata": {},
     "outputs": [
      {
       "output_type": "stream",
       "stream": "stdout",
       "text": [
        "min 0, max 34402\n"
       ]
      }
     ],
     "prompt_number": 94
    },
    {
     "cell_type": "code",
     "collapsed": false,
     "input": [
      "members_songs = defaultdict(list)\n",
      "for id in train.msno.unique():\n",
      "    members_songs[id] = train[train.msno == id].song_id.tolist()"
     ],
     "language": "python",
     "metadata": {},
     "outputs": [],
     "prompt_number": 95
    },
    {
     "cell_type": "code",
     "collapsed": false,
     "input": [
      "len(members_songs)"
     ],
     "language": "python",
     "metadata": {},
     "outputs": [
      {
       "metadata": {},
       "output_type": "pyout",
       "prompt_number": 97,
       "text": [
        "30755"
       ]
      }
     ],
     "prompt_number": 97
    },
    {
     "cell_type": "code",
     "collapsed": false,
     "input": [
      "train_songs = songs[songs.song_id.isin(train.song_id)]"
     ],
     "language": "python",
     "metadata": {},
     "outputs": [],
     "prompt_number": 98
    },
    {
     "cell_type": "code",
     "collapsed": false,
     "input": [
      "members_genres = defaultdict(list)\n",
      "for id in members.msno:\n",
      "    for song_id in members_songs[id]:\n",
      "        members_genres[id].append(train_songs.genre_ids[train_songs.song_id == song_id])\n",
      "        \n",
      "for id in members.msno:\n",
      "        for i in range(len(members_genres[id])):\n",
      "            members_genres[id][i] = str(members_genres[id][i].values)\n",
      "     \n",
      "for id in members.msno:\n",
      "        genres = []\n",
      "        for i in range(len(members_genres[id])):\n",
      "            genres.append(members_genres[id][i][2:-2])\n",
      "        members_genres[id] = genres\n",
      "        \n",
      "for id in members.msno:\n",
      "        genres = []\n",
      "        for i in range(len(members_genres[id])):\n",
      "            if(members_genres[id][i]!='a'):\n",
      "                genres+=members_genres[id][i].split(\"|\")\n",
      "        members_genres[id] = genres\n",
      "        \n",
      "for id in members.msno:\n",
      "        numbers = []\n",
      "        for i in range(len(members_genres[id])):\n",
      "                if len(members_genres[id][i])>0:\n",
      "                    numbers.append(int(members_genres[id][i]))\n",
      "        members_genres[id] = numbers"
     ],
     "language": "python",
     "metadata": {},
     "outputs": [],
     "prompt_number": 144
    },
    {
     "cell_type": "code",
     "collapsed": false,
     "input": [
      "train_members_genres = defaultdict(list)\n",
      "for id in train.msno.unique():\n",
      "        train_members_genres[id] = members_genres[id] "
     ],
     "language": "python",
     "metadata": {},
     "outputs": [],
     "prompt_number": 79
    },
    {
     "cell_type": "code",
     "collapsed": false,
     "input": [
      "len(train_members_genres)"
     ],
     "language": "python",
     "metadata": {},
     "outputs": [
      {
       "metadata": {},
       "output_type": "pyout",
       "prompt_number": 86,
       "text": [
        "30755"
       ]
      }
     ],
     "prompt_number": 86
    },
    {
     "cell_type": "code",
     "collapsed": false,
     "input": [
      "train_members_genres_with_gender = defaultdict(list)\n",
      "for id in train.msno.unique():\n",
      "        if(members[members.msno == id].gender.values != -1):\n",
      "            train_members_genres_with_gender[id] = [members_genres[id],  int(members[members.msno == id]['gender'])]"
     ],
     "language": "python",
     "metadata": {},
     "outputs": [],
     "prompt_number": 92
    },
    {
     "cell_type": "code",
     "collapsed": false,
     "input": [
      "len(train_members_genres_with_gender)"
     ],
     "language": "python",
     "metadata": {},
     "outputs": [
      {
       "metadata": {},
       "output_type": "pyout",
       "prompt_number": 89,
       "text": [
        "13663"
       ]
      }
     ],
     "prompt_number": 89
    },
    {
     "cell_type": "code",
     "collapsed": false,
     "input": [
      "unique_genres = []\n",
      "\n",
      "for id, value in train_members_genres_with_gender.iteritems():\n",
      "        unique_genres =unique_genres + value[0]\n",
      "unique_genres = set(unique_genres)"
     ],
     "language": "python",
     "metadata": {},
     "outputs": [],
     "prompt_number": 98
    },
    {
     "cell_type": "code",
     "collapsed": false,
     "input": [
      "len(unique_genres)"
     ],
     "language": "python",
     "metadata": {},
     "outputs": [
      {
       "metadata": {},
       "output_type": "pyout",
       "prompt_number": 99,
       "text": [
        "162"
       ]
      }
     ],
     "prompt_number": 99
    },
    {
     "cell_type": "code",
     "collapsed": false,
     "input": [
      "from sklearn.preprocessing import LabelEncoder\n",
      "genres_encoder = LabelEncoder()\n",
      "genres_encoder.fit(list(unique_genres))"
     ],
     "language": "python",
     "metadata": {},
     "outputs": [
      {
       "metadata": {},
       "output_type": "pyout",
       "prompt_number": 103,
       "text": [
        "LabelEncoder()"
       ]
      }
     ],
     "prompt_number": 103
    },
    {
     "cell_type": "code",
     "collapsed": false,
     "input": [
      "genres_encoder.transform(list(unique_genres))"
     ],
     "language": "python",
     "metadata": {},
     "outputs": [
      {
       "metadata": {},
       "output_type": "pyout",
       "prompt_number": 104,
       "text": [
        "array([ 84,  43,  85, 135,  86, 136,  44,  87, 137, 134,  88, 138, 112,\n",
        "        45, 113, 139, 105, 114,  89, 140, 141, 119,  90, 142, 143, 115,\n",
        "        22, 144, 116,  91, 117, 145,  92, 118,  10, 147,  93,   0,  40,\n",
        "        94,   1,   2, 148, 120, 149,   3,  95,   4,  96,   5,  97, 151,\n",
        "         6,  98,  99, 153,  46, 100,   7, 154, 150,  47, 101, 156,   8,\n",
        "       102, 157, 103, 158, 159, 104, 160, 108,   9,  50, 106,  51,  11,\n",
        "        12, 161,  13,  53,  14,  54,  21,  55, 107,  26,  19,  15, 109,\n",
        "        16, 110, 152, 111,  57,  17,  48,  69,  18,  78,  58,  59,  20,\n",
        "        61,  60,  79,  62,  63,  64,  65, 155,  23,  66,  24,  67,  49,\n",
        "        25,  68,  27,  70,  52,  28,  71, 121,  29,  56,  30, 122,  31,\n",
        "        72, 123,  32, 124,  73,  33, 125,  34, 126,  74,  35, 127,  75,\n",
        "        36, 128,  76,  37,  77, 129,  38, 146, 130,  39, 131,  80, 132,\n",
        "        81, 133,  82,  41,  83,  42])"
       ]
      }
     ],
     "prompt_number": 104
    },
    {
     "cell_type": "code",
     "collapsed": false,
     "input": [
      "train_gender_data = []\n",
      "\n",
      "for id, value in train_members_genres_with_gender.iteritems():\n",
      "        train_gender_data.append(value)"
     ],
     "language": "python",
     "metadata": {},
     "outputs": [],
     "prompt_number": 105
    },
    {
     "cell_type": "code",
     "collapsed": false,
     "input": [
      "for i in range(len(train_gender_data)):\n",
      "        train_gender_data[i][0] = genres_encoder.transform(train_gender_data[i][0])"
     ],
     "language": "python",
     "metadata": {},
     "outputs": [],
     "prompt_number": 110
    },
    {
     "cell_type": "code",
     "collapsed": false,
     "input": [
      "len(train_gender_data)"
     ],
     "language": "python",
     "metadata": {},
     "outputs": [
      {
       "metadata": {},
       "output_type": "pyout",
       "prompt_number": 112,
       "text": [
        "13663"
       ]
      }
     ],
     "prompt_number": 112
    },
    {
     "cell_type": "markdown",
     "metadata": {},
     "source": [
      "\u041d\u0430\u043a\u043e\u043d\u0435\u0446-\u0442\u043e \u043f\u043e\u043b\u0443\u0447\u0438\u043b\u0438 \u043d\u0430\u0448\u0438 \u0434\u0430\u043d\u043d\u044b\u0435. \u0421\u043e\u0445\u0440\u0430\u043d\u0438\u043c \u0438\u0445, \u0447\u0442\u043e\u0431\u044b \u0441\u043b\u0443\u0447\u0430\u0439\u043d\u043e \u0438\u0445 \u043d\u0435 \u0438\u0441\u043f\u043e\u0440\u0442\u0438\u0442\u044c"
     ]
    },
    {
     "cell_type": "code",
     "collapsed": false,
     "input": [
      "import pickle\n",
      "with open('train_gender_data.pkl', 'wb') as f:\n",
      "        pickle.dump(train_gender_data, f, pickle.HIGHEST_PROTOCOL)"
     ],
     "language": "python",
     "metadata": {},
     "outputs": [],
     "prompt_number": 113
    },
    {
     "cell_type": "code",
     "collapsed": false,
     "input": [
      "import pickle\n",
      "with open('train_gender_data.pkl', 'rb') as f:\n",
      "        train_gender_data = pickle.load(f)"
     ],
     "language": "python",
     "metadata": {},
     "outputs": [],
     "prompt_number": 2
    },
    {
     "cell_type": "markdown",
     "metadata": {},
     "source": [
      "** \u0412\u044b\u0431\u043e\u0440 \u043f\u0440\u0438\u0437\u043d\u0430\u043a\u043e\u0432. \u0412\u0430\u0440\u0438\u0430\u043d\u0442 1 **"
     ]
    },
    {
     "cell_type": "markdown",
     "metadata": {},
     "source": [
      "\u0422\u0435\u043f\u0435\u0440\u044c \u043c\u044b \u0438\u043c\u0435\u0435\u043c \u0434\u043b\u044f \u043a\u0430\u0436\u0434\u043e\u0433\u043e \u043a\u043e\u043d\u043a\u0440\u0435\u0442\u043d\u043e\u0433\u043e \u043f\u043e\u043b\u044c\u0437\u043e\u0432\u0430\u0442\u0435\u043b\u044f \u0438\u043d\u0444\u043e\u0440\u043c\u0430\u0446\u0438\u044e \u043e \u0436\u0430\u043d\u0440\u0430\u0445 \u043f\u0440\u043e\u0441\u043b\u0443\u0448\u0430\u043d\u043d\u044b\u0445 \u0438\u043c \u043c\u0435\u043b\u043e\u0434\u0438\u0439. \u0423 \u043a\u0430\u0436\u0434\u043e\u0433\u043e \u043f\u043e\u043b\u044c\u0437\u043e\u0432\u0430\u0442\u0435\u043b\u044f \u0432\u0435\u043b\u0438\u0447\u0438\u043d\u0430 \u044d\u0442\u0438\u0445 \u0434\u0430\u043d\u043d\u044b\u0445 \u0440\u0430\u0437\u043b\u0438\u0447\u043d\u0430. \u041a\u0442\u043e-\u0442\u043e \u043f\u043e\u043f\u0440\u043e\u0431\u043e\u0432\u0430\u043b \u043c\u043d\u043e\u0433\u043e \u0436\u0430\u043d\u0440\u043e\u0432, \u0430 \u043a\u043e\u043c\u0443 \u0442\u043e \u0434\u043e\u0441\u0442\u0430\u0442\u043e\u0447\u043d\u043e \u0432\u0441\u0435\u0433\u043e \u043f\u0430\u0440\u044b. \u041f\u043e\u043f\u0440\u043e\u0431\u0443\u0435\u043c \u043f\u0440\u0435\u0434\u0441\u0442\u0430\u0432\u0438\u0442\u044c \u043a\u0430\u0436\u0434\u043e\u0433\u043e \u043f\u043e\u043b\u044c\u0437\u043e\u0432\u0430\u0442\u0435\u043b\u044f \u0432 \u0432\u0438\u0434\u0435 \u0432\u0435\u043a\u0442\u043e\u0440\u0430 \u0438\u0437 \u043d\u0443\u043b\u0435\u0439 \u0438 \u0435\u0434\u0438\u043d\u0438\u0446. 1 - \u0435\u0441\u043b\u0438 \u043f\u043e\u043b\u044c\u0437\u043e\u0432\u0430\u0442\u0435\u043b\u044c \u0441\u043b\u0443\u0448\u0430\u043b \u043f\u0435\u0441\u043d\u044e \u044d\u0442\u043e\u0433\u043e \u0436\u0430\u043d\u0440\u0430, 0 \u0438\u043d\u0430\u0447\u0435. \u0422\u043e\u0433\u0434\u0430 \u0438\u043d\u043d\u0444\u043e\u0440\u043c\u0430\u0446\u0438\u044f \u043e \u043a\u0430\u0436\u0434\u043e\u043c \u043f\u043e\u043b\u044c\u0437\u043e\u0432\u0430\u0442\u0435\u043b\u0435 \u0431\u0443\u0434\u0435\u0442 \u0437\u0430\u043f\u0438\u0441\u044b\u0432\u0430\u0442\u044c\u0441\u044f \u0441 \u043f\u043e\u043c\u043e\u0449\u044c\u044e 162-\u0445 \u043c\u0435\u0440\u043d\u043e\u0433\u043e \u0432\u0435\u043a\u0442\u043e\u0440\u0430."
     ]
    },
    {
     "cell_type": "code",
     "collapsed": false,
     "input": [
      "train_song_exist = []\n",
      "for i in range(len(train_gender_data)):\n",
      "    vector = np.zeros(162, dtype = np.int32)\n",
      "    for j in range(162):\n",
      "        if j in train_gender_data[i][0]:\n",
      "            vector[j] = 1\n",
      "    train_song_exist.append([vector, train_gender_data[i][1]])"
     ],
     "language": "python",
     "metadata": {},
     "outputs": [],
     "prompt_number": 4
    },
    {
     "cell_type": "code",
     "collapsed": false,
     "input": [
      "X = []\n",
      "y = []\n",
      "for i in range(len(train_song_exist)):\n",
      "    X.append(train_song_exist[i][0])\n",
      "    y.append(train_song_exist[i][1])"
     ],
     "language": "python",
     "metadata": {},
     "outputs": [],
     "prompt_number": 5
    },
    {
     "cell_type": "code",
     "collapsed": false,
     "input": [
      "X = np.array(X)\n",
      "y = np.array(y)"
     ],
     "language": "python",
     "metadata": {},
     "outputs": [],
     "prompt_number": 6
    },
    {
     "cell_type": "code",
     "collapsed": false,
     "input": [
      "X.shape"
     ],
     "language": "python",
     "metadata": {},
     "outputs": [
      {
       "metadata": {},
       "output_type": "pyout",
       "prompt_number": 7,
       "text": [
        "(13663, 162)"
       ]
      }
     ],
     "prompt_number": 7
    },
    {
     "cell_type": "code",
     "collapsed": false,
     "input": [
      "y.shape"
     ],
     "language": "python",
     "metadata": {},
     "outputs": [
      {
       "metadata": {},
       "output_type": "pyout",
       "prompt_number": 8,
       "text": [
        "(13663,)"
       ]
      }
     ],
     "prompt_number": 8
    },
    {
     "cell_type": "code",
     "collapsed": false,
     "input": [
      "ganres = np.zeros(162, dtype = np.int32)\n",
      "for i in range(X.shape[0]):\n",
      "    ganres += X[i]"
     ],
     "language": "python",
     "metadata": {},
     "outputs": [],
     "prompt_number": 9
    },
    {
     "cell_type": "code",
     "collapsed": false,
     "input": [
      "ganres"
     ],
     "language": "python",
     "metadata": {},
     "outputs": [
      {
       "metadata": {},
       "output_type": "pyout",
       "prompt_number": 10,
       "text": [
        "array([    1,   140,    29,    17,  4791,   448,  4444,  7803,     1,\n",
        "           9,    14,    16,    10,     5,    41,  1143,     7,  1603,\n",
        "          20,     1,    41,     2,  1195,  7505,   322,   512,   131,\n",
        "         530,     8,   383,     7,  1165,  2856,  5050,  8618,  9001,\n",
        "       12746, 13386,    97,   210,     2,     7,    41,   151,   135,\n",
        "         221,    19,     9,     5,     1,  2072,   221,     1,     6,\n",
        "        1524,     7,     9,  3974,  1366,     3,   105,  2518,   965,\n",
        "         928,   898,   960,   948,   533,   973,   186,    42, 11649,\n",
        "         850,  2299,  2631,    42,    16,    15,    26,     9,     2,\n",
        "           7,  5213,    15,     5,    18,    43,    85,    11,     9,\n",
        "         154,    27,    20,    12,     4,     2,   156,    52,  2130,\n",
        "          42,     5,     4,  1511,     1,     2,     2,    86, 10235,\n",
        "           4,    53,    25,  1928,    56,  1622,     1,    35,   571,\n",
        "       10138,  7426,    24,   133,     5,   389,     9,   152,    40,\n",
        "          24,    20,  1191,     1,     4,  8949,    36,   163,    10,\n",
        "         515,    10,   348,   417,   647,   446,    31,  1387,    87,\n",
        "          49,  4058,     2,   668,    34,     1,  2717,     7,   237,\n",
        "           2,   327,     1,     8,    18,    93,    33,     6,    13], dtype=int32)"
       ]
      }
     ],
     "prompt_number": 10
    },
    {
     "cell_type": "code",
     "collapsed": false,
     "input": [
      "import matplotlib.pyplot as plt\n",
      "plt.hist(range(0, 162), bins = range(0, 163), weights = ganres)"
     ],
     "language": "python",
     "metadata": {},
     "outputs": [
      {
       "metadata": {},
       "output_type": "pyout",
       "prompt_number": 13,
       "text": [
        "(array([  1.00000000e+00,   1.40000000e+02,   2.90000000e+01,\n",
        "          1.70000000e+01,   4.79100000e+03,   4.48000000e+02,\n",
        "          4.44400000e+03,   7.80300000e+03,   1.00000000e+00,\n",
        "          9.00000000e+00,   1.40000000e+01,   1.60000000e+01,\n",
        "          1.00000000e+01,   5.00000000e+00,   4.10000000e+01,\n",
        "          1.14300000e+03,   7.00000000e+00,   1.60300000e+03,\n",
        "          2.00000000e+01,   1.00000000e+00,   4.10000000e+01,\n",
        "          2.00000000e+00,   1.19500000e+03,   7.50500000e+03,\n",
        "          3.22000000e+02,   5.12000000e+02,   1.31000000e+02,\n",
        "          5.30000000e+02,   8.00000000e+00,   3.83000000e+02,\n",
        "          7.00000000e+00,   1.16500000e+03,   2.85600000e+03,\n",
        "          5.05000000e+03,   8.61800000e+03,   9.00100000e+03,\n",
        "          1.27460000e+04,   1.33860000e+04,   9.70000000e+01,\n",
        "          2.10000000e+02,   2.00000000e+00,   7.00000000e+00,\n",
        "          4.10000000e+01,   1.51000000e+02,   1.35000000e+02,\n",
        "          2.21000000e+02,   1.90000000e+01,   9.00000000e+00,\n",
        "          5.00000000e+00,   1.00000000e+00,   2.07200000e+03,\n",
        "          2.21000000e+02,   1.00000000e+00,   6.00000000e+00,\n",
        "          1.52400000e+03,   7.00000000e+00,   9.00000000e+00,\n",
        "          3.97400000e+03,   1.36600000e+03,   3.00000000e+00,\n",
        "          1.05000000e+02,   2.51800000e+03,   9.65000000e+02,\n",
        "          9.28000000e+02,   8.98000000e+02,   9.60000000e+02,\n",
        "          9.48000000e+02,   5.33000000e+02,   9.73000000e+02,\n",
        "          1.86000000e+02,   4.20000000e+01,   1.16490000e+04,\n",
        "          8.50000000e+02,   2.29900000e+03,   2.63100000e+03,\n",
        "          4.20000000e+01,   1.60000000e+01,   1.50000000e+01,\n",
        "          2.60000000e+01,   9.00000000e+00,   2.00000000e+00,\n",
        "          7.00000000e+00,   5.21300000e+03,   1.50000000e+01,\n",
        "          5.00000000e+00,   1.80000000e+01,   4.30000000e+01,\n",
        "          8.50000000e+01,   1.10000000e+01,   9.00000000e+00,\n",
        "          1.54000000e+02,   2.70000000e+01,   2.00000000e+01,\n",
        "          1.20000000e+01,   4.00000000e+00,   2.00000000e+00,\n",
        "          1.56000000e+02,   5.20000000e+01,   2.13000000e+03,\n",
        "          4.20000000e+01,   5.00000000e+00,   4.00000000e+00,\n",
        "          1.51100000e+03,   1.00000000e+00,   2.00000000e+00,\n",
        "          2.00000000e+00,   8.60000000e+01,   1.02350000e+04,\n",
        "          4.00000000e+00,   5.30000000e+01,   2.50000000e+01,\n",
        "          1.92800000e+03,   5.60000000e+01,   1.62200000e+03,\n",
        "          1.00000000e+00,   3.50000000e+01,   5.71000000e+02,\n",
        "          1.01380000e+04,   7.42600000e+03,   2.40000000e+01,\n",
        "          1.33000000e+02,   5.00000000e+00,   3.89000000e+02,\n",
        "          9.00000000e+00,   1.52000000e+02,   4.00000000e+01,\n",
        "          2.40000000e+01,   2.00000000e+01,   1.19100000e+03,\n",
        "          1.00000000e+00,   4.00000000e+00,   8.94900000e+03,\n",
        "          3.60000000e+01,   1.63000000e+02,   1.00000000e+01,\n",
        "          5.15000000e+02,   1.00000000e+01,   3.48000000e+02,\n",
        "          4.17000000e+02,   6.47000000e+02,   4.46000000e+02,\n",
        "          3.10000000e+01,   1.38700000e+03,   8.70000000e+01,\n",
        "          4.90000000e+01,   4.05800000e+03,   2.00000000e+00,\n",
        "          6.68000000e+02,   3.40000000e+01,   1.00000000e+00,\n",
        "          2.71700000e+03,   7.00000000e+00,   2.37000000e+02,\n",
        "          2.00000000e+00,   3.27000000e+02,   1.00000000e+00,\n",
        "          8.00000000e+00,   1.80000000e+01,   9.30000000e+01,\n",
        "          3.30000000e+01,   6.00000000e+00,   1.30000000e+01]),\n",
        " array([  0,   1,   2,   3,   4,   5,   6,   7,   8,   9,  10,  11,  12,\n",
        "         13,  14,  15,  16,  17,  18,  19,  20,  21,  22,  23,  24,  25,\n",
        "         26,  27,  28,  29,  30,  31,  32,  33,  34,  35,  36,  37,  38,\n",
        "         39,  40,  41,  42,  43,  44,  45,  46,  47,  48,  49,  50,  51,\n",
        "         52,  53,  54,  55,  56,  57,  58,  59,  60,  61,  62,  63,  64,\n",
        "         65,  66,  67,  68,  69,  70,  71,  72,  73,  74,  75,  76,  77,\n",
        "         78,  79,  80,  81,  82,  83,  84,  85,  86,  87,  88,  89,  90,\n",
        "         91,  92,  93,  94,  95,  96,  97,  98,  99, 100, 101, 102, 103,\n",
        "        104, 105, 106, 107, 108, 109, 110, 111, 112, 113, 114, 115, 116,\n",
        "        117, 118, 119, 120, 121, 122, 123, 124, 125, 126, 127, 128, 129,\n",
        "        130, 131, 132, 133, 134, 135, 136, 137, 138, 139, 140, 141, 142,\n",
        "        143, 144, 145, 146, 147, 148, 149, 150, 151, 152, 153, 154, 155,\n",
        "        156, 157, 158, 159, 160, 161, 162]),\n",
        " <a list of 162 Patch objects>)"
       ]
      },
      {
       "metadata": {},
       "output_type": "display_data",
       "png": "[encoded data removed]",
       "text": [
        "<matplotlib.figure.Figure at 0x7f5e05f17110>"
       ]
      }
     ],
     "prompt_number": 13
    },
    {
     "cell_type": "markdown",
     "metadata": {},
     "source": [
      "\u041f\u043e\u0441\u043c\u043e\u0442\u0440\u0438\u043c \u043d\u0430 \u043f\u043e\u0434\u043e\u0431\u043d\u044b\u0435 \u0433\u0438\u0441\u0442\u043e\u0433\u0440\u0430\u043c\u043c\u044b \u043e\u0442\u0434\u0435\u043b\u044c\u043d\u043e \u0434\u043b\u044f \u0436\u0435\u043d\u0449\u0438\u043d \u0438 \u0434\u043b\u044f \u043c\u0443\u0436\u0447\u0438\u043d. \u0415\u0441\u0442\u044c \u043b\u0438 \u0432 \u043d\u0438\u0445 \u0440\u0430\u0437\u043d\u0438\u0446\u0430?"
     ]
    },
    {
     "cell_type": "code",
     "collapsed": false,
     "input": [
      "ganres = np.zeros(162, dtype = np.int32)\n",
      "for i in range(X.shape[0]):\n",
      "    if y[i] == 0:\n",
      "        ganres += X[i]\n",
      "    \n",
      "plt.hist(range(0, 162), bins = range(0, 163), weights = ganres)"
     ],
     "language": "python",
     "metadata": {},
     "outputs": [
      {
       "metadata": {},
       "output_type": "pyout",
       "prompt_number": 14,
       "text": [
        "(array([  0.00000000e+00,   8.10000000e+01,   1.40000000e+01,\n",
        "          8.00000000e+00,   2.51200000e+03,   2.09000000e+02,\n",
        "          2.35800000e+03,   4.08800000e+03,   0.00000000e+00,\n",
        "          7.00000000e+00,   8.00000000e+00,   1.10000000e+01,\n",
        "          7.00000000e+00,   5.00000000e+00,   2.80000000e+01,\n",
        "          6.08000000e+02,   3.00000000e+00,   8.27000000e+02,\n",
        "          9.00000000e+00,   1.00000000e+00,   1.70000000e+01,\n",
        "          1.00000000e+00,   6.05000000e+02,   3.97300000e+03,\n",
        "          1.59000000e+02,   2.50000000e+02,   7.80000000e+01,\n",
        "          2.57000000e+02,   6.00000000e+00,   1.68000000e+02,\n",
        "          4.00000000e+00,   6.33000000e+02,   1.44400000e+03,\n",
        "          2.66100000e+03,   4.15000000e+03,   4.79900000e+03,\n",
        "          6.55200000e+03,   6.88200000e+03,   4.10000000e+01,\n",
        "          1.01000000e+02,   1.00000000e+00,   3.00000000e+00,\n",
        "          1.60000000e+01,   9.30000000e+01,   8.30000000e+01,\n",
        "          1.32000000e+02,   6.00000000e+00,   6.00000000e+00,\n",
        "          3.00000000e+00,   1.00000000e+00,   1.00600000e+03,\n",
        "          1.05000000e+02,   0.00000000e+00,   4.00000000e+00,\n",
        "          7.32000000e+02,   6.00000000e+00,   6.00000000e+00,\n",
        "          2.02900000e+03,   7.49000000e+02,   2.00000000e+00,\n",
        "          5.30000000e+01,   1.24900000e+03,   5.66000000e+02,\n",
        "          5.42000000e+02,   5.27000000e+02,   5.62000000e+02,\n",
        "          4.73000000e+02,   2.60000000e+02,   4.82000000e+02,\n",
        "          9.90000000e+01,   2.50000000e+01,   5.90400000e+03,\n",
        "          3.95000000e+02,   1.15800000e+03,   1.35900000e+03,\n",
        "          1.80000000e+01,   1.10000000e+01,   7.00000000e+00,\n",
        "          1.40000000e+01,   6.00000000e+00,   1.00000000e+00,\n",
        "          2.00000000e+00,   2.70300000e+03,   1.00000000e+01,\n",
        "          4.00000000e+00,   1.10000000e+01,   2.00000000e+01,\n",
        "          4.80000000e+01,   5.00000000e+00,   6.00000000e+00,\n",
        "          8.70000000e+01,   1.30000000e+01,   8.00000000e+00,\n",
        "          7.00000000e+00,   1.00000000e+00,   0.00000000e+00,\n",
        "          9.00000000e+01,   2.10000000e+01,   1.11000000e+03,\n",
        "          1.70000000e+01,   4.00000000e+00,   2.00000000e+00,\n",
        "          8.31000000e+02,   0.00000000e+00,   1.00000000e+00,\n",
        "          2.00000000e+00,   4.10000000e+01,   5.37700000e+03,\n",
        "          3.00000000e+00,   3.50000000e+01,   1.50000000e+01,\n",
        "          1.06900000e+03,   3.00000000e+01,   8.37000000e+02,\n",
        "          1.00000000e+00,   1.70000000e+01,   3.38000000e+02,\n",
        "          5.31800000e+03,   3.92700000e+03,   1.80000000e+01,\n",
        "          6.90000000e+01,   3.00000000e+00,   2.41000000e+02,\n",
        "          9.00000000e+00,   8.20000000e+01,   2.20000000e+01,\n",
        "          1.50000000e+01,   1.30000000e+01,   6.03000000e+02,\n",
        "          1.00000000e+00,   2.00000000e+00,   4.77100000e+03,\n",
        "          2.20000000e+01,   1.14000000e+02,   7.00000000e+00,\n",
        "          2.97000000e+02,   7.00000000e+00,   1.83000000e+02,\n",
        "          2.31000000e+02,   3.19000000e+02,   2.37000000e+02,\n",
        "          1.40000000e+01,   8.19000000e+02,   5.10000000e+01,\n",
        "          2.90000000e+01,   2.12500000e+03,   1.00000000e+00,\n",
        "          3.37000000e+02,   1.80000000e+01,   1.00000000e+00,\n",
        "          1.45600000e+03,   3.00000000e+00,   1.33000000e+02,\n",
        "          2.00000000e+00,   1.62000000e+02,   1.00000000e+00,\n",
        "          4.00000000e+00,   6.00000000e+00,   4.60000000e+01,\n",
        "          1.20000000e+01,   3.00000000e+00,   7.00000000e+00]),\n",
        " array([  0,   1,   2,   3,   4,   5,   6,   7,   8,   9,  10,  11,  12,\n",
        "         13,  14,  15,  16,  17,  18,  19,  20,  21,  22,  23,  24,  25,\n",
        "         26,  27,  28,  29,  30,  31,  32,  33,  34,  35,  36,  37,  38,\n",
        "         39,  40,  41,  42,  43,  44,  45,  46,  47,  48,  49,  50,  51,\n",
        "         52,  53,  54,  55,  56,  57,  58,  59,  60,  61,  62,  63,  64,\n",
        "         65,  66,  67,  68,  69,  70,  71,  72,  73,  74,  75,  76,  77,\n",
        "         78,  79,  80,  81,  82,  83,  84,  85,  86,  87,  88,  89,  90,\n",
        "         91,  92,  93,  94,  95,  96,  97,  98,  99, 100, 101, 102, 103,\n",
        "        104, 105, 106, 107, 108, 109, 110, 111, 112, 113, 114, 115, 116,\n",
        "        117, 118, 119, 120, 121, 122, 123, 124, 125, 126, 127, 128, 129,\n",
        "        130, 131, 132, 133, 134, 135, 136, 137, 138, 139, 140, 141, 142,\n",
        "        143, 144, 145, 146, 147, 148, 149, 150, 151, 152, 153, 154, 155,\n",
        "        156, 157, 158, 159, 160, 161, 162]),\n",
        " <a list of 162 Patch objects>)"
       ]
      },
      {
       "metadata": {},
       "output_type": "display_data",
       "png": "[encoded data removed]",
       "text": [
        "<matplotlib.figure.Figure at 0x7f5e05f176d0>"
       ]
      }
     ],
     "prompt_number": 14
    },
    {
     "cell_type": "code",
     "collapsed": false,
     "input": [
      "ganres = np.zeros(162, dtype = np.int32)\n",
      "for i in range(X.shape[0]):\n",
      "    if y[i] == 1:\n",
      "        ganres += X[i]\n",
      "    \n",
      "plt.hist(range(0, 162), bins = range(0, 163), weights = ganres)"
     ],
     "language": "python",
     "metadata": {},
     "outputs": [
      {
       "metadata": {},
       "output_type": "pyout",
       "prompt_number": 15,
       "text": [
        "(array([  1.00000000e+00,   5.90000000e+01,   1.50000000e+01,\n",
        "          9.00000000e+00,   2.27900000e+03,   2.39000000e+02,\n",
        "          2.08600000e+03,   3.71500000e+03,   1.00000000e+00,\n",
        "          2.00000000e+00,   6.00000000e+00,   5.00000000e+00,\n",
        "          3.00000000e+00,   0.00000000e+00,   1.30000000e+01,\n",
        "          5.35000000e+02,   4.00000000e+00,   7.76000000e+02,\n",
        "          1.10000000e+01,   0.00000000e+00,   2.40000000e+01,\n",
        "          1.00000000e+00,   5.90000000e+02,   3.53200000e+03,\n",
        "          1.63000000e+02,   2.62000000e+02,   5.30000000e+01,\n",
        "          2.73000000e+02,   2.00000000e+00,   2.15000000e+02,\n",
        "          3.00000000e+00,   5.32000000e+02,   1.41200000e+03,\n",
        "          2.38900000e+03,   4.46800000e+03,   4.20200000e+03,\n",
        "          6.19400000e+03,   6.50400000e+03,   5.60000000e+01,\n",
        "          1.09000000e+02,   1.00000000e+00,   4.00000000e+00,\n",
        "          2.50000000e+01,   5.80000000e+01,   5.20000000e+01,\n",
        "          8.90000000e+01,   1.30000000e+01,   3.00000000e+00,\n",
        "          2.00000000e+00,   0.00000000e+00,   1.06600000e+03,\n",
        "          1.16000000e+02,   1.00000000e+00,   2.00000000e+00,\n",
        "          7.92000000e+02,   1.00000000e+00,   3.00000000e+00,\n",
        "          1.94500000e+03,   6.17000000e+02,   1.00000000e+00,\n",
        "          5.20000000e+01,   1.26900000e+03,   3.99000000e+02,\n",
        "          3.86000000e+02,   3.71000000e+02,   3.98000000e+02,\n",
        "          4.75000000e+02,   2.73000000e+02,   4.91000000e+02,\n",
        "          8.70000000e+01,   1.70000000e+01,   5.74500000e+03,\n",
        "          4.55000000e+02,   1.14100000e+03,   1.27200000e+03,\n",
        "          2.40000000e+01,   5.00000000e+00,   8.00000000e+00,\n",
        "          1.20000000e+01,   3.00000000e+00,   1.00000000e+00,\n",
        "          5.00000000e+00,   2.51000000e+03,   5.00000000e+00,\n",
        "          1.00000000e+00,   7.00000000e+00,   2.30000000e+01,\n",
        "          3.70000000e+01,   6.00000000e+00,   3.00000000e+00,\n",
        "          6.70000000e+01,   1.40000000e+01,   1.20000000e+01,\n",
        "          5.00000000e+00,   3.00000000e+00,   2.00000000e+00,\n",
        "          6.60000000e+01,   3.10000000e+01,   1.02000000e+03,\n",
        "          2.50000000e+01,   1.00000000e+00,   2.00000000e+00,\n",
        "          6.80000000e+02,   1.00000000e+00,   1.00000000e+00,\n",
        "          0.00000000e+00,   4.50000000e+01,   4.85800000e+03,\n",
        "          1.00000000e+00,   1.80000000e+01,   1.00000000e+01,\n",
        "          8.59000000e+02,   2.60000000e+01,   7.85000000e+02,\n",
        "          0.00000000e+00,   1.80000000e+01,   2.33000000e+02,\n",
        "          4.82000000e+03,   3.49900000e+03,   6.00000000e+00,\n",
        "          6.40000000e+01,   2.00000000e+00,   1.48000000e+02,\n",
        "          0.00000000e+00,   7.00000000e+01,   1.80000000e+01,\n",
        "          9.00000000e+00,   7.00000000e+00,   5.88000000e+02,\n",
        "          0.00000000e+00,   2.00000000e+00,   4.17800000e+03,\n",
        "          1.40000000e+01,   4.90000000e+01,   3.00000000e+00,\n",
        "          2.18000000e+02,   3.00000000e+00,   1.65000000e+02,\n",
        "          1.86000000e+02,   3.28000000e+02,   2.09000000e+02,\n",
        "          1.70000000e+01,   5.68000000e+02,   3.60000000e+01,\n",
        "          2.00000000e+01,   1.93300000e+03,   1.00000000e+00,\n",
        "          3.31000000e+02,   1.60000000e+01,   0.00000000e+00,\n",
        "          1.26100000e+03,   4.00000000e+00,   1.04000000e+02,\n",
        "          0.00000000e+00,   1.65000000e+02,   0.00000000e+00,\n",
        "          4.00000000e+00,   1.20000000e+01,   4.70000000e+01,\n",
        "          2.10000000e+01,   3.00000000e+00,   6.00000000e+00]),\n",
        " array([  0,   1,   2,   3,   4,   5,   6,   7,   8,   9,  10,  11,  12,\n",
        "         13,  14,  15,  16,  17,  18,  19,  20,  21,  22,  23,  24,  25,\n",
        "         26,  27,  28,  29,  30,  31,  32,  33,  34,  35,  36,  37,  38,\n",
        "         39,  40,  41,  42,  43,  44,  45,  46,  47,  48,  49,  50,  51,\n",
        "         52,  53,  54,  55,  56,  57,  58,  59,  60,  61,  62,  63,  64,\n",
        "         65,  66,  67,  68,  69,  70,  71,  72,  73,  74,  75,  76,  77,\n",
        "         78,  79,  80,  81,  82,  83,  84,  85,  86,  87,  88,  89,  90,\n",
        "         91,  92,  93,  94,  95,  96,  97,  98,  99, 100, 101, 102, 103,\n",
        "        104, 105, 106, 107, 108, 109, 110, 111, 112, 113, 114, 115, 116,\n",
        "        117, 118, 119, 120, 121, 122, 123, 124, 125, 126, 127, 128, 129,\n",
        "        130, 131, 132, 133, 134, 135, 136, 137, 138, 139, 140, 141, 142,\n",
        "        143, 144, 145, 146, 147, 148, 149, 150, 151, 152, 153, 154, 155,\n",
        "        156, 157, 158, 159, 160, 161, 162]),\n",
        " <a list of 162 Patch objects>)"
       ]
      },
      {
       "metadata": {},
       "output_type": "display_data",
       "png": "[encoded data removed]",
       "text": [
        "<matplotlib.figure.Figure at 0x7f5e0667ac90>"
       ]
      }
     ],
     "prompt_number": 15
    },
    {
     "cell_type": "markdown",
     "metadata": {},
     "source": [
      "\u0413\u0438\u0441\u0442\u043e\u0433\u0440\u0430\u043c\u043c\u044b \u0432\u044b\u0433\u043b\u044f\u0434\u044f\u0442 \u0434\u043e\u0432\u043e\u043b\u044c\u043d\u043e \u043e\u0434\u0438\u043d\u0430\u043a\u043e\u0432\u043e."
     ]
    },
    {
     "cell_type": "markdown",
     "metadata": {},
     "source": [
      "\u0420\u0430\u0437\u043e\u0431\u044a\u0435\u043c \u0434\u0430\u043d\u043d\u044b\u0435 \u043d\u0430 \u0442\u0435\u0441\u0442\u043e\u0432\u044b\u0435 \u0438 \u043e\u0431\u0443\u0447\u0430\u044e\u0449\u0438\u0435 \u0432 \u0441\u043e\u043e\u0442\u043d\u043e\u0448\u0435\u043d\u0438\u0438 30 : 70"
     ]
    },
    {
     "cell_type": "code",
     "collapsed": false,
     "input": [
      "from sklearn.model_selection import train_test_split\n",
      "X_train, X_test, y_train, y_test = train_test_split(X, y, test_size = 0.3, random_state = 1)\n",
      "\n",
      "N_train, _ = X_train.shape \n",
      "N_test,  _ = X_test.shape \n",
      "\n",
      "print(N_train, N_test)"
     ],
     "language": "python",
     "metadata": {},
     "outputs": [
      {
       "output_type": "stream",
       "stream": "stdout",
       "text": [
        "(9564, 4099)\n"
       ]
      }
     ],
     "prompt_number": 17
    },
    {
     "cell_type": "markdown",
     "metadata": {},
     "source": [
      "\u041f\u043e\u043f\u0440\u043e\u0431\u0443\u0435\u043c \u0440\u0430\u0437\u043b\u0438\u0447\u043d\u044b\u0435 \u0442\u0438\u043f\u044b \u043a\u043b\u0430\u0441\u0441\u0438\u0444\u0438\u043a\u0430\u0442\u043e\u0440\u043e\u0432 \u043d\u0430 \u044d\u0442\u043e\u043c \u043d\u0430\u0431\u043e\u0440\u0435 \u0434\u0430\u043d\u043d\u044b\u0445. \u041f\u043e\u0441\u043c\u043e\u0442\u0440\u0438\u043c, \u043d\u0430 \u0447\u0442\u043e \u043c\u044b \u0441\u043c\u043e\u0436\u0435\u043c \u0440\u0430\u0441\u0447\u0438\u0442\u044b\u0432\u0430\u0442\u044c"
     ]
    },
    {
     "cell_type": "markdown",
     "metadata": {},
     "source": [
      "### \u0421\u043b\u0443\u0447\u0430\u0439\u043d\u044b\u0439 \u043a\u043b\u0430\u0441\u0441\u0438\u0444\u0438\u043a\u0430\u0442\u043e\u0440\n",
      "\u043f\u043e\u043f\u0440\u043e\u0431\u0443\u0435\u043c \u0441\u043b\u0443\u0447\u0430\u0439\u043d\u043e \u0432\u044b\u0431\u0438\u0440\u0430\u0442\u044c \u043a\u043b\u0430\u0441\u0441"
     ]
    },
    {
     "cell_type": "code",
     "collapsed": false,
     "input": [
      "y_train_predict = np.random.randint(2, size = y_train.shape)\n",
      "y_test_predict = np.random.randint(2, size = y_test.shape)\n",
      "\n",
      "err_train = np.mean(y_train != y_train_predict)\n",
      "err_test  = np.mean(y_test  != y_test_predict)\n",
      "\n",
      "print(err_train, err_test)"
     ],
     "language": "python",
     "metadata": {},
     "outputs": [
      {
       "output_type": "stream",
       "stream": "stdout",
       "text": [
        "(0.50731911334169799, 0.50304952427421323)\n"
       ]
      }
     ],
     "prompt_number": 18
    },
    {
     "cell_type": "markdown",
     "metadata": {},
     "source": [
      "\u0422\u0430\u043a\u0438\u043c \u043e\u0431\u0440\u0430\u0437\u043e\u043c \u0443\u0434\u0430\u0435\u0442\u0441\u044f \u0434\u043e\u0441\u0442\u0438\u0433\u043d\u0443\u0442\u044c \u0442\u043e\u0447\u043d\u043e\u0441\u0442\u0438 50%. \u042d\u0442\u043e\u0433\u043e \u0438 \u0441\u043b\u0435\u0434\u043e\u0432\u0430\u043b\u043e \u043e\u0436\u0438\u0434\u0430\u0442\u044c. \u042d\u0442\u043e \u043d\u0430\u0448 \u0431\u0430\u0437\u043e\u0432\u044b\u0439 \u0443\u0440\u043e\u0432\u0435\u043d\u044c. \u041f\u043e\u043f\u0440\u043e\u0431\u0443\u0435\u043c \u0435\u0433\u043e \u0443\u043b\u0443\u0447\u0448\u0438\u0442\u044c"
     ]
    },
    {
     "cell_type": "markdown",
     "metadata": {},
     "source": [
      "### KNN\n",
      "\n",
      "** \u041c\u0435\u0442\u043e\u0434 \u0431\u043b\u0438\u0436\u0430\u0439\u0448\u0435\u0433\u043e \u0441\u043e\u0441\u0435\u0434\u0430** \u044f\u0432\u043b\u044f\u0435\u0442\u0441\u044f, \u043f\u043e\u0436\u0430\u043b\u0443\u0439, \u0441\u0430\u043c\u044b\u043c \u043f\u0440\u043e\u0441\u0442\u044b\u043c \u0430\u043b\u0433\u043e\u0440\u0438\u0442\u043c\u043e\u043c \u043a\u043b\u0430\u0441\u0441\u0438\u0444\u0438\u043a\u0430\u0446\u0438\u0438. \u041a\u043b\u0430\u0441\u0441\u0438\u0444\u0438\u0446\u0438\u0440\u0443\u0435\u043c\u044b\u0439 \u043e\u0431\u044a\u0435\u043a\u0442 x \u043e\u0442\u043d\u043e\u0441\u0438\u0442\u0441\u044f \u043a \u0442\u043e\u043c\u0443 \u043a\u043b\u0430\u0441\u0441\u0443 y, \u043a\u043e\u0442\u043e\u0440\u043e\u043c\u0443 \u043f\u0440\u0438\u043d\u0430\u0434\u043b\u0435\u0436\u0438\u0442 \u0431\u043b\u0438\u0436\u0430\u0439\u0448\u0438\u0439 \u043e\u0431\u044a\u0435\u043a\u0442 \u0438\u0437 \u043e\u0431\u0443\u0447\u0430\u044e\u0449\u0435\u0439 \u0432\u044b\u0431\u043e\u0440\u043a\u0438.\n",
      "\n",
      "** \u041c\u0435\u0442\u043e\u0434 k \u0431\u043b\u0438\u0436\u0430\u0439\u0448\u0438\u0445 \u0441\u043e\u0441\u0435\u0434\u0435\u0439. ** \u0414\u043b\u044f \u043f\u043e\u0432\u044b\u0448\u0435\u043d\u0438\u044f \u043d\u0430\u0434\u0451\u0436\u043d\u043e\u0441\u0442\u0438 \u043a\u043b\u0430\u0441\u0441\u0438\u0444\u0438\u043a\u0430\u0446\u0438\u0438 \u043e\u0431\u044a\u0435\u043a\u0442 \u043e\u0442\u043d\u043e\u0441\u0438\u0442\u0441\u044f \u043a \u0442\u043e\u043c\u0443 \u043a\u043b\u0430\u0441\u0441\u0443, \u043a\u043e\u0442\u043e\u0440\u043e\u043c\u0443 \u043f\u0440\u0438\u043d\u0430\u0434\u043b\u0435\u0436\u0438\u0442 \u0431\u043e\u043b\u044c\u0448\u0438\u043d\u0441\u0442\u0432\u043e \u0438\u0437 \u0435\u0433\u043e \u0441\u043e\u0441\u0435\u0434\u0435\u0439 \u2014 k \u0431\u043b\u0438\u0436\u0430\u0439\u0448\u0438\u0445 \u043a \u043d\u0435\u043c\u0443 \u043e\u0431\u044a\u0435\u043a\u0442\u043e\u0432 \u043e\u0431\u0443\u0447\u0430\u044e\u0449\u0435\u0439 \u0432\u044b\u0431\u043e\u0440\u043a\u0438. \u0412 \u0437\u0430\u0434\u0430\u0447\u0430\u0445 \u0441 \u0434\u0432\u0443\u043c\u044f \u043a\u043b\u0430\u0441\u0441\u0430\u043c\u0438 \u0447\u0438\u0441\u043b\u043e \u0441\u043e\u0441\u0435\u0434\u0435\u0439 \u0431\u0435\u0440\u0443\u0442 \u043d\u0435\u0447\u0451\u0442\u043d\u044b\u043c, \u0447\u0442\u043e\u0431\u044b \u043d\u0435 \u0432\u043e\u0437\u043d\u0438\u043a\u0430\u043b\u043e \u0441\u0438\u0442\u0443\u0430\u0446\u0438\u0439 \u043d\u0435\u043e\u0434\u043d\u043e\u0437\u043d\u0430\u0447\u043d\u043e\u0441\u0442\u0438, \u043a\u043e\u0433\u0434\u0430 \u043e\u0434\u0438\u043d\u0430\u043a\u043e\u0432\u043e\u0435 \u0447\u0438\u0441\u043b\u043e \u0441\u043e\u0441\u0435\u0434\u0435\u0439 \u043f\u0440\u0438\u043d\u0430\u0434\u043b\u0435\u0436\u0430\u0442 \u0440\u0430\u0437\u043d\u044b\u043c \u043a\u043b\u0430\u0441\u0441\u0430\u043c."
     ]
    },
    {
     "cell_type": "code",
     "collapsed": false,
     "input": [
      "from sklearn.neighbors import KNeighborsClassifier\n",
      "knn = KNeighborsClassifier(n_neighbors = 3)\n",
      "knn.fit(X_train, y_train)"
     ],
     "language": "python",
     "metadata": {},
     "outputs": [
      {
       "metadata": {},
       "output_type": "pyout",
       "prompt_number": 21,
       "text": [
        "KNeighborsClassifier(algorithm='auto', leaf_size=30, metric='minkowski',\n",
        "           metric_params=None, n_jobs=1, n_neighbors=3, p=2,\n",
        "           weights='uniform')"
       ]
      }
     ],
     "prompt_number": 21
    },
    {
     "cell_type": "code",
     "collapsed": false,
     "input": [
      "y_train_predict = knn.predict(X_train)\n",
      "y_test_predict = knn.predict(X_test)\n",
      "\n",
      "err_train = np.mean(y_train != y_train_predict)\n",
      "err_test  = np.mean(y_test  != y_test_predict)\n",
      "\n",
      "print(err_train, err_test)"
     ],
     "language": "python",
     "metadata": {},
     "outputs": [
      {
       "output_type": "stream",
       "stream": "stdout",
       "text": [
        "(0.2710163111668758, 0.49377897048060504)\n"
       ]
      }
     ],
     "prompt_number": 22
    },
    {
     "cell_type": "markdown",
     "metadata": {},
     "source": [
      "\u041e\u0448\u0438\u0431\u043a\u0443 \u043d\u0430 \u043e\u0431\u0443\u0447\u0430\u044e\u0449\u0435\u043c \u043c\u043d\u043e\u0436\u0435\u0441\u0442\u0432\u0435 \u0443\u0434\u0430\u043b\u043e\u0441\u044c \u0443\u043c\u0435\u043d\u044c\u0448\u0438\u0442\u044c \u043d\u0430 13%, \u0430 \u043d\u0430 \u0442\u0435\u0441\u0442\u043e\u043a\u043e\u043c \u0432\u0441\u0435\u0433\u043e \u043d\u0430 1%. \u042d\u0442\u043e \u043b\u0443\u0447\u0448\u0435, \u0447\u0435\u043c \u0441\u043b\u0443\u0447\u0430\u0439\u043d\u044b\u0439 \u043a\u043b\u0430\u0441\u0441\u0438\u0444\u0438\u043a\u0430\u0442\u043e\u0440, \u043d\u043e \u0432\u0441\u0435 \u0440\u0430\u0432\u043d\u043e \u043d\u0435\u0434\u043e\u0441\u0442\u0430\u0442\u043e\u0447\u043e \u0445\u043e\u0440\u043e\u0448\u043e. \u0412\u043e\u0437\u043c\u043e\u0436\u043d\u043e \u043c\u043e\u0436\u043d\u043e \u043f\u043e\u043b\u0443\u0447\u0438\u0442\u044c \u0440\u0435\u0437\u0443\u043b\u044c\u0442\u0430\u0442 \u043b\u0443\u0447\u0448\u0435, \u0435\u0441\u043b\u0438 \u0432\u044b\u0431\u0440\u0430\u0442\u044c \u0434\u0440\u0443\u0433\u043e\u0435 \u0437\u043d\u0430\u0447\u0435\u043d\u0438\u0435 k, \u043d\u043e \u0432\u0435\u0440\u043d\u0435\u043c\u0441\u044f \u043a \u044d\u0442\u043e\u043c\u0443 \u043f\u043e\u0437\u0436\u0435, \u0430 \u043f\u043e\u043a\u0430 \u043f\u043e\u043f\u0440\u043e\u0431\u0443\u0435\u043c \u0434\u0440\u0443\u0433\u0438\u0435 \u0442\u0438\u043f\u044b \u043a\u043b\u0430\u0441\u0441\u0438\u0444\u0438\u043a\u0430\u0442\u043e\u0440\u043e\u0432."
     ]
    },
    {
     "cell_type": "markdown",
     "metadata": {},
     "source": [
      "** \u041b\u0438\u043d\u0435\u0439\u043d\u044b\u0439 \u0434\u0438\u0441\u043a\u0440\u0438\u043c\u0438\u043d\u0430\u043d\u0442\u043d\u044b\u0439 \u0430\u043d\u0430\u043b\u0438\u0437 (\u041b\u0414\u0410) **, \u0430 \u0442\u0430\u043a\u0436\u0435 \u0441\u0432\u044f\u0437\u0430\u043d\u043d\u044b\u0439 \u0441 \u043d\u0438\u043c \u043b\u0438\u043d\u0435\u0439\u043d\u044b\u0439 \u0434\u0438\u0441\u043a\u0440\u0438\u043c\u0438\u043d\u0430\u043d\u0442 \u0424\u0438\u0448\u0435\u0440\u0430 \u2014 \u043c\u0435\u0442\u043e\u0434\u044b \u0441\u0442\u0430\u0442\u0438\u0441\u0442\u0438\u043a\u0438 \u0438 \u043c\u0430\u0448\u0438\u043d\u043d\u043e\u0433\u043e \u043e\u0431\u0443\u0447\u0435\u043d\u0438\u044f, \u043f\u0440\u0438\u043c\u0435\u043d\u044f\u0435\u043c\u044b\u0435 \u0434\u043b\u044f \u043d\u0430\u0445\u043e\u0436\u0434\u0435\u043d\u0438\u044f \u043b\u0438\u043d\u0435\u0439\u043d\u044b\u0445 \u043a\u043e\u043c\u0431\u0438\u043d\u0430\u0446\u0438\u0439 \u043f\u0440\u0438\u0437\u043d\u0430\u043a\u043e\u0432, \u043d\u0430\u0438\u043b\u0443\u0447\u0448\u0438\u043c \u043e\u0431\u0440\u0430\u0437\u043e\u043c \u0440\u0430\u0437\u0434\u0435\u043b\u044f\u044e\u0449\u0438\u0445 \u0434\u0432\u0430 \u0438\u043b\u0438 \u0431\u043e\u043b\u0435\u0435 \u043a\u043b\u0430\u0441\u0441\u0430 \u043e\u0431\u044a\u0435\u043a\u0442\u043e\u0432 \u0438\u043b\u0438 \u0441\u043e\u0431\u044b\u0442\u0438\u0439. \u041f\u043e\u043b\u0443\u0447\u0435\u043d\u043d\u0430\u044f \u043a\u043e\u043c\u0431\u0438\u043d\u0430\u0446\u0438\u044f \u043c\u043e\u0436\u0435\u0442 \u0431\u044b\u0442\u044c \u0438\u0441\u043f\u043e\u043b\u044c\u0437\u043e\u0432\u0430\u043d\u0430 \u0432 \u043a\u0430\u0447\u0435\u0441\u0442\u0432\u0435 \u043b\u0438\u043d\u0435\u0439\u043d\u043e\u0433\u043e \u043a\u043b\u0430\u0441\u0441\u0438\u0444\u0438\u043a\u0430\u0442\u043e\u0440\u0430 \u0438\u043b\u0438 \u0434\u043b\u044f \u0441\u043e\u043a\u0440\u0430\u0449\u0435\u043d\u0438\u044f \u0440\u0430\u0437\u043c\u0435\u0440\u043d\u043e\u0441\u0442\u0438 \u043f\u0440\u043e\u0441\u0442\u0440\u0430\u043d\u0441\u0442\u0432\u0430 \u043f\u0440\u0438\u0437\u043d\u0430\u043a\u043e\u0432 \u043f\u0435\u0440\u0435\u0434 \u043f\u043e\u0441\u043b\u0435\u0434\u0443\u044e\u0449\u0435\u0439 \u043a\u043b\u0430\u0441\u0441\u0438\u0444\u0438\u043a\u0430\u0446\u0438\u0435\u0439."
     ]
    },
    {
     "cell_type": "code",
     "collapsed": false,
     "input": [
      "from sklearn.discriminant_analysis import LinearDiscriminantAnalysis\n",
      "model = LinearDiscriminantAnalysis()\n",
      "model.fit(X, y)\n",
      "\n",
      "y_train_predict = model.predict(X_train)\n",
      "y_test_predict = model.predict(X_test)\n",
      "\n",
      "err_train = np.mean(y_train != y_train_predict)\n",
      "err_test  = np.mean(y_test  != y_test_predict)\n",
      "\n",
      "print(err_train, err_test)"
     ],
     "language": "python",
     "metadata": {},
     "outputs": [
      {
       "output_type": "stream",
       "stream": "stdout",
       "text": [
        "(0.41551652028439984, 0.41107587216394242)\n"
       ]
      }
     ],
     "prompt_number": 24
    },
    {
     "cell_type": "markdown",
     "metadata": {},
     "source": [
      "\u0418\u0441\u043f\u043e\u043b\u044c\u0437\u043e\u0432\u0430\u043d\u0438\u0435 \u043b\u0438\u043d\u0435\u0439\u043d\u043e \u0434\u0438\u0441\u043a\u0440\u0438\u043c\u0438\u043d\u0430\u043d\u0442\u043d\u043e\u0433\u043e \u0430\u043d\u0430\u043b\u0438\u0437\u0430 \u0434\u043b\u044f \u043a\u043b\u0430\u0441\u0441\u0438\u0444\u0438\u043a\u0430\u0446\u0438\u0438 \u043f\u043e\u043b\u0430 \u0434\u0430\u043b\u043e \u0432\u044b\u0438\u0433\u0440\u044b\u0448 \u0432 8,2 %!"
     ]
    },
    {
     "cell_type": "markdown",
     "metadata": {},
     "source": [
      "** \u041a\u0432\u0430\u0434\u0440\u0430\u0442\u0438\u0447\u043d\u044b\u0439 \u0434\u0438\u0441\u043a\u0440\u0438\u043c\u0438\u043d\u0430\u043d\u0442\u043d\u044b\u0439 \u0430\u043d\u0430\u043b\u0438\u0437 **"
     ]
    },
    {
     "cell_type": "code",
     "collapsed": false,
     "input": [
      "from sklearn.discriminant_analysis import QuadraticDiscriminantAnalysis\n",
      "model = QuadraticDiscriminantAnalysis()\n",
      "model.fit(X, y)\n",
      "\n",
      "y_train_predict = model.predict(X_train)\n",
      "y_test_predict = model.predict(X_test)\n",
      "\n",
      "err_train = np.mean(y_train != y_train_predict)\n",
      "err_test  = np.mean(y_test  != y_test_predict)\n",
      "\n",
      "print(err_train, err_test)"
     ],
     "language": "python",
     "metadata": {},
     "outputs": [
      {
       "output_type": "stream",
       "stream": "stdout",
       "text": [
        "(0.49801338352153912, 0.49353500853866794)\n"
       ]
      }
     ],
     "prompt_number": 26
    },
    {
     "cell_type": "markdown",
     "metadata": {},
     "source": [
      "** \u041b\u043e\u0433\u0438\u0441\u0442\u0438\u0447\u0435\u0441\u043a\u0430\u044f \u0440\u0435\u0433\u0440\u0435\u0441\u0441\u0438\u044f (Logistic regression) ** \u2014 \u043c\u0435\u0442\u043e\u0434 \u043f\u043e\u0441\u0442\u0440\u043e\u0435\u043d\u0438\u044f \u043b\u0438\u043d\u0435\u0439\u043d\u043e\u0433\u043e \u043a\u043b\u0430\u0441\u0441\u0438\u0444\u0438\u043a\u0430\u0442\u043e\u0440\u0430, \u043f\u043e\u0437\u0432\u043e\u043b\u044f\u044e\u0449\u0438\u0439 \u043e\u0446\u0435\u043d\u0438\u0432\u0430\u0442\u044c \u0430\u043f\u043e\u0441\u0442\u0435\u0440\u0438\u043e\u0440\u043d\u044b\u0435 \u0432\u0435\u0440\u043e\u044f\u0442\u043d\u043e\u0441\u0442\u0438 \u043f\u0440\u0438\u043d\u0430\u0434\u043b\u0435\u0436\u043d\u043e\u0441\u0442\u0438 \u043e\u0431\u044a\u0435\u043a\u0442\u043e\u0432 \u043a\u043b\u0430\u0441\u0441\u0430\u043c."
     ]
    },
    {
     "cell_type": "code",
     "collapsed": false,
     "input": [
      "from sklearn.linear_model import LogisticRegression\n",
      "model = LogisticRegression()\n",
      "model.fit(X_train, y_train)\n",
      "\n",
      "y_train_predict = model.predict(X_train)\n",
      "y_test_predict = model.predict(X_test)\n",
      "\n",
      "err_train = np.mean(y_train != y_train_predict)\n",
      "err_test  = np.mean(y_test  != y_test_predict)\n",
      "\n",
      "print(err_train, err_test)"
     ],
     "language": "python",
     "metadata": {},
     "outputs": [
      {
       "output_type": "stream",
       "stream": "stdout",
       "text": [
        "(0.41760769552488497, 0.41790680653818002)\n"
       ]
      }
     ],
     "prompt_number": 27
    },
    {
     "cell_type": "markdown",
     "metadata": {},
     "source": [
      "\u041b\u0438\u043d\u0435\u0439\u043d\u0430\u044f \u0440\u0435\u0433\u0440\u0435\u0441\u0441\u0438\u044f \u043f\u043e\u043a\u0430\u0437\u0430\u043b\u0430 \u0440\u0435\u0437\u0443\u043b\u044c\u0442\u0430\u0442\u044b \u0431\u043b\u0438\u0437\u043a\u0438\u0435 \u043a \u041b\u0414\u0410"
     ]
    },
    {
     "cell_type": "markdown",
     "metadata": {},
     "source": [
      "** \u041c\u0435\u0442\u043e\u0434 \u043e\u043f\u043e\u0440\u043d\u044b\u0445 \u0432\u0435\u043a\u0442\u043e\u0440\u043e\u0432 **\u2014 \u043d\u0430\u0431\u043e\u0440 \u0441\u0445\u043e\u0436\u0438\u0445 \u0430\u043b\u0433\u043e\u0440\u0438\u0442\u043c\u043e\u0432 \u043e\u0431\u0443\u0447\u0435\u043d\u0438\u044f \u0441 \u0443\u0447\u0438\u0442\u0435\u043b\u0435\u043c, \u0438\u0441\u043f\u043e\u043b\u044c\u0437\u0443\u044e\u0449\u0438\u0445\u0441\u044f \u0434\u043b\u044f \u0437\u0430\u0434\u0430\u0447 \u043a\u043b\u0430\u0441\u0441\u0438\u0444\u0438\u043a\u0430\u0446\u0438\u0438 \u0438 \u0440\u0435\u0433\u0440\u0435\u0441\u0441\u0438\u043e\u043d\u043d\u043e\u0433\u043e \u0430\u043d\u0430\u043b\u0438\u0437\u0430. \u041f\u0440\u0438\u043d\u0430\u0434\u043b\u0435\u0436\u0438\u0442 \u0441\u0435\u043c\u0435\u0439\u0441\u0442\u0432\u0443 \u043b\u0438\u043d\u0435\u0439\u043d\u044b\u0445 \u043a\u043b\u0430\u0441\u0441\u0438\u0444\u0438\u043a\u0430\u0442\u043e\u0440\u043e\u0432 \u0438 \u043c\u043e\u0436\u0435\u0442 \u0442\u0430\u043a\u0436\u0435 \u0440\u0430\u0441\u0441\u043c\u0430\u0442\u0440\u0438\u0432\u0430\u0442\u044c\u0441\u044f \u043a\u0430\u043a \u0441\u043f\u0435\u0446\u0438\u0430\u043b\u044c\u043d\u044b\u0439 \u0441\u043b\u0443\u0447\u0430\u0439 \u0440\u0435\u0433\u0443\u043b\u044f\u0440\u0438\u0437\u0430\u0446\u0438\u0438 \u043f\u043e \u0422\u0438\u0445\u043e\u043d\u043e\u0432\u0443. \u041e\u0441\u043e\u0431\u044b\u043c \u0441\u0432\u043e\u0439\u0441\u0442\u0432\u043e\u043c \u043c\u0435\u0442\u043e\u0434\u0430 \u043e\u043f\u043e\u0440\u043d\u044b\u0445 \u0432\u0435\u043a\u0442\u043e\u0440\u043e\u0432 \u044f\u0432\u043b\u044f\u0435\u0442\u0441\u044f \u043d\u0435\u043f\u0440\u0435\u0440\u044b\u0432\u043d\u043e\u0435 \u0443\u043c\u0435\u043d\u044c\u0448\u0435\u043d\u0438\u0435 \u044d\u043c\u043f\u0438\u0440\u0438\u0447\u0435\u0441\u043a\u043e\u0439 \u043e\u0448\u0438\u0431\u043a\u0438 \u043a\u043b\u0430\u0441\u0441\u0438\u0444\u0438\u043a\u0430\u0446\u0438\u0438 \u0438 \u0443\u0432\u0435\u043b\u0438\u0447\u0435\u043d\u0438\u0435 \u0437\u0430\u0437\u043e\u0440\u0430, \u043f\u043e\u044d\u0442\u043e\u043c\u0443 \u043c\u0435\u0442\u043e\u0434 \u0442\u0430\u043a\u0436\u0435 \u0438\u0437\u0432\u0435\u0441\u0442\u0435\u043d \u043a\u0430\u043a \u043c\u0435\u0442\u043e\u0434 \u043a\u043b\u0430\u0441\u0441\u0438\u0444\u0438\u043a\u0430\u0442\u043e\u0440\u0430 \u0441 \u043c\u0430\u043a\u0441\u0438\u043c\u0430\u043b\u044c\u043d\u044b\u043c \u0437\u0430\u0437\u043e\u0440\u043e\u043c.\n",
      "\n",
      "\u041e\u0441\u043d\u043e\u0432\u043d\u0430\u044f \u0438\u0434\u0435\u044f \u043c\u0435\u0442\u043e\u0434\u0430 \u2014 \u043f\u0435\u0440\u0435\u0432\u043e\u0434 \u0438\u0441\u0445\u043e\u0434\u043d\u044b\u0445 \u0432\u0435\u043a\u0442\u043e\u0440\u043e\u0432 \u0432 \u043f\u0440\u043e\u0441\u0442\u0440\u0430\u043d\u0441\u0442\u0432\u043e \u0431\u043e\u043b\u0435\u0435 \u0432\u044b\u0441\u043e\u043a\u043e\u0439 \u0440\u0430\u0437\u043c\u0435\u0440\u043d\u043e\u0441\u0442\u0438 \u0438 \u043f\u043e\u0438\u0441\u043a \u0440\u0430\u0437\u0434\u0435\u043b\u044f\u044e\u0449\u0435\u0439 \u0433\u0438\u043f\u0435\u0440\u043f\u043b\u043e\u0441\u043a\u043e\u0441\u0442\u0438 \u0441 \u043c\u0430\u043a\u0441\u0438\u043c\u0430\u043b\u044c\u043d\u044b\u043c \u0437\u0430\u0437\u043e\u0440\u043e\u043c \u0432 \u044d\u0442\u043e\u043c \u043f\u0440\u043e\u0441\u0442\u0440\u0430\u043d\u0441\u0442\u0432\u0435. \u0414\u0432\u0435 \u043f\u0430\u0440\u0430\u043b\u043b\u0435\u043b\u044c\u043d\u044b\u0445 \u0433\u0438\u043f\u0435\u0440\u043f\u043b\u043e\u0441\u043a\u043e\u0441\u0442\u0438 \u0441\u0442\u0440\u043e\u044f\u0442\u0441\u044f \u043f\u043e \u043e\u0431\u0435\u0438\u043c \u0441\u0442\u043e\u0440\u043e\u043d\u0430\u043c \u0433\u0438\u043f\u0435\u0440\u043f\u043b\u043e\u0441\u043a\u043e\u0441\u0442\u0438, \u0440\u0430\u0437\u0434\u0435\u043b\u044f\u044e\u0449\u0435\u0439 \u043a\u043b\u0430\u0441\u0441\u044b. \u0420\u0430\u0437\u0434\u0435\u043b\u044f\u044e\u0449\u0435\u0439 \u0433\u0438\u043f\u0435\u0440\u043f\u043b\u043e\u0441\u043a\u043e\u0441\u0442\u044c\u044e \u0431\u0443\u0434\u0435\u0442 \u0433\u0438\u043f\u0435\u0440\u043f\u043b\u043e\u0441\u043a\u043e\u0441\u0442\u044c, \u043c\u0430\u043a\u0441\u0438\u043c\u0438\u0437\u0438\u0440\u0443\u044e\u0449\u0430\u044f \u0440\u0430\u0441\u0441\u0442\u043e\u044f\u043d\u0438\u0435 \u0434\u043e \u0434\u0432\u0443\u0445 \u043f\u0430\u0440\u0430\u043b\u043b\u0435\u043b\u044c\u043d\u044b\u0445 \u0433\u0438\u043f\u0435\u0440\u043f\u043b\u043e\u0441\u043a\u043e\u0441\u0442\u0435\u0439. \u0410\u043b\u0433\u043e\u0440\u0438\u0442\u043c \u0440\u0430\u0431\u043e\u0442\u0430\u0435\u0442 \u0432 \u043f\u0440\u0435\u0434\u043f\u043e\u043b\u043e\u0436\u0435\u043d\u0438\u0438, \u0447\u0442\u043e \u0447\u0435\u043c \u0431\u043e\u043b\u044c\u0448\u0435 \u0440\u0430\u0437\u043d\u0438\u0446\u0430 \u0438\u043b\u0438 \u0440\u0430\u0441\u0441\u0442\u043e\u044f\u043d\u0438\u0435 \u043c\u0435\u0436\u0434\u0443 \u044d\u0442\u0438\u043c\u0438 \u043f\u0430\u0440\u0430\u043b\u043b\u0435\u043b\u044c\u043d\u044b\u043c\u0438 \u0433\u0438\u043f\u0435\u0440\u043f\u043b\u043e\u0441\u043a\u043e\u0441\u0442\u044f\u043c\u0438, \u0442\u0435\u043c \u043c\u0435\u043d\u044c\u0448\u0435 \u0431\u0443\u0434\u0435\u0442 \u0441\u0440\u0435\u0434\u043d\u044f\u044f \u043e\u0448\u0438\u0431\u043a\u0430 \u043a\u043b\u0430\u0441\u0441\u0438\u0444\u0438\u043a\u0430\u0442\u043e\u0440\u0430."
     ]
    },
    {
     "cell_type": "code",
     "collapsed": false,
     "input": [
      "from sklearn.svm import SVC # \"Support Vector Classifier\"\n",
      "svc_model = SVC(kernel = 'linear')\n",
      "svc_model.fit(X_train, y_train)"
     ],
     "language": "python",
     "metadata": {},
     "outputs": [
      {
       "metadata": {},
       "output_type": "pyout",
       "prompt_number": 30,
       "text": [
        "SVC(C=1.0, cache_size=200, class_weight=None, coef0=0.0,\n",
        "  decision_function_shape='ovr', degree=3, gamma='auto', kernel='linear',\n",
        "  max_iter=-1, probability=False, random_state=None, shrinking=True,\n",
        "  tol=0.001, verbose=False)"
       ]
      }
     ],
     "prompt_number": 30
    },
    {
     "cell_type": "code",
     "collapsed": false,
     "input": [
      "y_train_predict = svc_model.predict(X_train)\n",
      "y_test_predict = svc_model.predict(X_test)\n",
      "\n",
      "err_train = np.mean(y_train != y_train_predict)\n",
      "err_test  = np.mean(y_test  != y_test_predict)\n",
      "\n",
      "print(err_train, err_test)"
     ],
     "language": "python",
     "metadata": {},
     "outputs": [
      {
       "output_type": "stream",
       "stream": "stdout",
       "text": [
        "(0.41384358009201172, 0.43108075140278118)\n"
       ]
      }
     ],
     "prompt_number": 31
    },
    {
     "cell_type": "code",
     "collapsed": false,
     "input": [
      "svc_model = SVC()\n",
      "svc_model.fit(X_train, y_train)"
     ],
     "language": "python",
     "metadata": {},
     "outputs": [
      {
       "metadata": {},
       "output_type": "pyout",
       "prompt_number": 32,
       "text": [
        "SVC(C=1.0, cache_size=200, class_weight=None, coef0=0.0,\n",
        "  decision_function_shape='ovr', degree=3, gamma='auto', kernel='rbf',\n",
        "  max_iter=-1, probability=False, random_state=None, shrinking=True,\n",
        "  tol=0.001, verbose=False)"
       ]
      }
     ],
     "prompt_number": 32
    },
    {
     "cell_type": "code",
     "collapsed": false,
     "input": [
      "y_train_predict = svc_model.predict(X_train)\n",
      "y_test_predict = svc_model.predict(X_test)\n",
      "\n",
      "err_train = np.mean(y_train != y_train_predict)\n",
      "err_test  = np.mean(y_test  != y_test_predict)\n",
      "\n",
      "print(err_train, err_test)"
     ],
     "language": "python",
     "metadata": {},
     "outputs": [
      {
       "output_type": "stream",
       "stream": "stdout",
       "text": [
        "(0.42189460476787954, 0.43059282751890704)\n"
       ]
      }
     ],
     "prompt_number": 33
    },
    {
     "cell_type": "markdown",
     "metadata": {},
     "source": [
      "\u041f\u043e\u043a\u0430 \u043f\u0440\u0438\u0440\u043e\u0441\u0442\u0430 \u043a\u0430\u0447\u0435\u0441\u0442\u0432\u0430 \u043d\u0435\u0442"
     ]
    },
    {
     "cell_type": "markdown",
     "metadata": {},
     "source": [
      "Random forest (\u00ab\u0441\u043b\u0443\u0447\u0430\u0439\u043d\u044b\u0439 \u043b\u0435\u0441\u00bb) \u2014 \u0430\u043b\u0433\u043e\u0440\u0438\u0442\u043c \u043c\u0430\u0448\u0438\u043d\u043d\u043e\u0433\u043e \u043e\u0431\u0443\u0447\u0435\u043d\u0438\u044f, \u043f\u0440\u0435\u0434\u043b\u043e\u0436\u0435\u043d\u043d\u044b\u0439 \u041b\u0435\u043e \u0411\u0440\u0435\u0439\u043c\u0430\u043d\u043e\u043c \u0438 \u0410\u0434\u0435\u043b\u044c \u041a\u0430\u0442\u043b\u0435\u0440, \u0437\u0430\u043a\u043b\u044e\u0447\u0430\u044e\u0449\u0438\u0439\u0441\u044f \u0432 \u0438\u0441\u043f\u043e\u043b\u044c\u0437\u043e\u0432\u0430\u043d\u0438\u0438 \u043a\u043e\u043c\u0438\u0442\u0435\u0442\u0430 (\u0430\u043d\u0441\u0430\u043c\u0431\u043b\u044f) \u0440\u0435\u0448\u0430\u044e\u0449\u0438\u0445 \u0434\u0435\u0440\u0435\u0432\u044c\u0435\u0432. \u0410\u043b\u0433\u043e\u0440\u0438\u0442\u043c \u0441\u043e\u0447\u0435\u0442\u0430\u0435\u0442 \u0432 \u0441\u0435\u0431\u0435 \u0434\u0432\u0435 \u043e\u0441\u043d\u043e\u0432\u043d\u044b\u0435 \u0438\u0434\u0435\u0438: \u043c\u0435\u0442\u043e\u0434 \u0431\u044d\u0433\u0433\u0438\u043d\u0433\u0430 \u0411\u0440\u0435\u0439\u043c\u0430\u043d\u0430, \u0438 \u043c\u0435\u0442\u043e\u0434 \u0441\u043b\u0443\u0447\u0430\u0439\u043d\u044b\u0445 \u043f\u043e\u0434\u043f\u0440\u043e\u0441\u0442\u0440\u0430\u043d\u0441\u0442\u0432, \u043f\u0440\u0435\u0434\u043b\u043e\u0436\u0435\u043d\u043d\u044b\u0439 Tin Kam Ho. \u0410\u043b\u0433\u043e\u0440\u0438\u0442\u043c \u043f\u0440\u0438\u043c\u0435\u043d\u044f\u0435\u0442\u0441\u044f \u0434\u043b\u044f \u0437\u0430\u0434\u0430\u0447 \u043a\u043b\u0430\u0441\u0441\u0438\u0444\u0438\u043a\u0430\u0446\u0438\u0438, \u0440\u0435\u0433\u0440\u0435\u0441\u0441\u0438\u0438 \u0438 \u043a\u043b\u0430\u0441\u0442\u0435\u0440\u0438\u0437\u0430\u0446\u0438\u0438."
     ]
    },
    {
     "cell_type": "code",
     "collapsed": false,
     "input": [
      "from sklearn.ensemble import RandomForestClassifier\n",
      "model = RandomForestClassifier(n_estimators = 2000)\n",
      "model.fit(X_train, y_train)"
     ],
     "language": "python",
     "metadata": {},
     "outputs": [
      {
       "metadata": {},
       "output_type": "pyout",
       "prompt_number": 34,
       "text": [
        "RandomForestClassifier(bootstrap=True, class_weight=None, criterion='gini',\n",
        "            max_depth=None, max_features='auto', max_leaf_nodes=None,\n",
        "            min_impurity_decrease=0.0, min_impurity_split=None,\n",
        "            min_samples_leaf=1, min_samples_split=2,\n",
        "            min_weight_fraction_leaf=0.0, n_estimators=2000, n_jobs=1,\n",
        "            oob_score=False, random_state=None, verbose=0,\n",
        "            warm_start=False)"
       ]
      }
     ],
     "prompt_number": 34
    },
    {
     "cell_type": "code",
     "collapsed": false,
     "input": [
      "y_train_predict = model.predict(X_train)\n",
      "y_test_predict = model.predict(X_test)\n",
      "\n",
      "err_train = np.mean(y_train != y_train_predict)\n",
      "err_test  = np.mean(y_test  != y_test_predict)\n",
      "\n",
      "print(err_train, err_test)"
     ],
     "language": "python",
     "metadata": {},
     "outputs": [
      {
       "output_type": "stream",
       "stream": "stdout",
       "text": [
        "(0.092534504391468, 0.46230787997072459)\n"
       ]
      }
     ],
     "prompt_number": 35
    },
    {
     "cell_type": "markdown",
     "metadata": {},
     "source": [
      "\u042f\u0432\u043d\u043e \u0432\u0438\u0434\u043d\u043e, \u0447\u0442\u043e \u043c\u0435\u0442\u043e\u0434 Random Forest \u043f\u0435\u0440\u0435\u043e\u0431\u0443\u0447\u0438\u043b\u0441\u044f, \u0442.\u043a. \u0440\u0430\u0437\u043d\u0438\u0446\u0430 \u043e\u0448\u0438\u0431\u043a\u0438 \u043d\u0430 \u043e\u0431\u0443\u0447\u0430\u044e\u0449\u0449\u0435\u043c \u0438 \u0442\u0435\u0441\u0442\u043e\u0432\u043e\u043c \u043c\u043d\u043e\u0436\u0435\u0441\u0442\u0432\u0430\u0445 \u0441\u0438\u043b\u044c\u043d\u043e \u043e\u0442\u043b\u0438\u0447\u0430\u044e\u0442\u0441\u044f.\n",
      "\u041f\u043e\u043f\u0440\u043e\u0431\u0443\u0435\u043c \u043d\u043e\u0432\u0443\u044e \u0431\u0438\u0431\u043b\u0438\u043e\u0442\u0435\u043a\u0443 \u043c\u0430\u0448\u0438\u043d\u043d\u043e\u0433\u043e \u043e\u0431\u0443\u0447\u0435\u043d\u0438\u044f CatBoost \u043e\u0442 \u042f\u043d\u0434\u0435\u043a\u0441\u0430 \u0438 XGBoost."
     ]
    },
    {
     "cell_type": "code",
     "collapsed": false,
     "input": [
      "from catboost import CatBoostClassifier\n",
      "model = CatBoostClassifier()\n",
      "model.fit(X_train, y_train)"
     ],
     "language": "python",
     "metadata": {},
     "outputs": [
      {
       "metadata": {},
       "output_type": "pyout",
       "prompt_number": 36,
       "text": [
        "<catboost.core._CatBoostBase at 0x7f5df84e5fd0>"
       ]
      }
     ],
     "prompt_number": 36
    },
    {
     "cell_type": "code",
     "collapsed": false,
     "input": [
      "y_train_predict = model.predict(X_train)\n",
      "y_test_predict = model.predict(X_test)\n",
      "\n",
      "err_train = np.mean(y_train != y_train_predict)\n",
      "err_test  = np.mean(y_test  != y_test_predict)\n",
      "\n",
      "print(err_train, err_test)"
     ],
     "language": "python",
     "metadata": {},
     "outputs": [
      {
       "output_type": "stream",
       "stream": "stdout",
       "text": [
        "(0.36240066917607694, 0.4325445230544035)\n"
       ]
      }
     ],
     "prompt_number": 37
    },
    {
     "cell_type": "code",
     "collapsed": false,
     "input": [
      "from xgboost import XGBClassifier\n",
      "model = XGBClassifier()\n",
      "model.fit(X_train, y_train)"
     ],
     "language": "python",
     "metadata": {},
     "outputs": [
      {
       "metadata": {},
       "output_type": "pyout",
       "prompt_number": 38,
       "text": [
        "XGBClassifier(base_score=0.5, booster='gbtree', colsample_bylevel=1,\n",
        "       colsample_bytree=1, gamma=0, learning_rate=0.1, max_delta_step=0,\n",
        "       max_depth=3, min_child_weight=1, missing=None, n_estimators=100,\n",
        "       n_jobs=1, nthread=None, objective='binary:logistic', random_state=0,\n",
        "       reg_alpha=0, reg_lambda=1, scale_pos_weight=1, seed=None,\n",
        "       silent=True, subsample=1)"
       ]
      }
     ],
     "prompt_number": 38
    },
    {
     "cell_type": "code",
     "collapsed": false,
     "input": [
      "y_train_predict = model.predict(X_train)\n",
      "y_test_predict = model.predict(X_test)\n",
      "\n",
      "err_train = np.mean(y_train != y_train_predict)\n",
      "err_test  = np.mean(y_test  != y_test_predict)\n",
      "\n",
      "print(err_train, err_test)"
     ],
     "language": "python",
     "metadata": {},
     "outputs": [
      {
       "output_type": "stream",
       "stream": "stdout",
       "text": [
        "(0.400982852363028, 0.43205659917052941)\n"
       ]
      }
     ],
     "prompt_number": 39
    },
    {
     "cell_type": "markdown",
     "metadata": {},
     "source": [
      "\u0414\u0430\u043d\u043d\u044b\u0435 \u043c\u0435\u0442\u043e\u0434\u044b \u043f\u043e\u043a\u0430\u0437\u044b\u0432\u0430\u044e\u0442 \u043f\u043e\u0445\u043e\u0436\u0438\u0435 \u0440\u0435\u0437\u0443\u043b\u044c\u0442\u0430\u0442\u044b. \n",
      "\u041b\u0443\u0447\u0448\u0438\u043c \u0440\u0435\u0437\u0443\u043b\u044c\u0442\u0430\u0442\u043e\u043c \u043f\u043e\u043a\u0430 \u043e\u0441\u0442\u0430\u0435\u0442\u0441\u044f LDA - \u043e\u0448\u0438\u0431\u043a\u0438 = (0.41551652028439984, 0.41107587216394242)"
     ]
    },
    {
     "cell_type": "markdown",
     "metadata": {},
     "source": [
      "** \u0412\u0430\u0440\u0438\u0430\u043d\u0442 2 **"
     ]
    },
    {
     "cell_type": "markdown",
     "metadata": {},
     "source": [
      "\u0422\u0435\u043f\u0435\u0440\u044c \u043f\u043e\u0441\u0447\u0438\u0442\u0430\u0435\u043c \u043a\u043e\u043b\u0438\u0447\u0435\u0441\u0442\u0432\u043e \u043f\u0435\u0441\u0435\u043d \u0440\u0430\u0437\u043d\u043e\u0433\u043e \u0436\u0430\u043d\u0440\u0430 \u0434\u043b\u044f \u043a\u0430\u0436\u0434\u043e\u0433\u043e \u043f\u043e\u043b\u044c\u0437\u043e\u0432\u0430\u0442\u0435\u043b\u044f"
     ]
    },
    {
     "cell_type": "code",
     "collapsed": false,
     "input": [
      "train_song_exist = []\n",
      "for i in range(len(train_gender_data)):\n",
      "    vector = np.zeros(162, dtype = np.int32)\n",
      "    for j in range(162):\n",
      "        if j in train_gender_data[i][0]:\n",
      "            vector[j] += (train_gender_data[i][0] == j).sum()\n",
      "    train_song_exist.append([vector, train_gender_data[i][1]])"
     ],
     "language": "python",
     "metadata": {},
     "outputs": [],
     "prompt_number": 3
    },
    {
     "cell_type": "code",
     "collapsed": false,
     "input": [
      " train_song_exist[0][0]"
     ],
     "language": "python",
     "metadata": {},
     "outputs": [
      {
       "metadata": {},
       "output_type": "pyout",
       "prompt_number": 4,
       "text": [
        "array([  0,   0,   0,   0,   0,   0,   0,   5,   0,   0,   0,   0,   0,\n",
        "         0,   0,   0,   0,   0,   0,   0,   0,   0,   0,  37,   0,   0,\n",
        "         0,   0,   0,   0,   0,   0,   0,   0,   0,  15,  78, 282,  37,\n",
        "         0,   0,   0,   0,   0,   0,   0,   0,   0,   0,   0,   0,   0,\n",
        "         0,   0,   1,   0,   0,   0,   0,   0,   0,   0,   0,   0,   0,\n",
        "         0,   0,   0,   0,   0,   0,  11,   0,   0,   0,   0,   0,   0,\n",
        "         0,   0,   0,   0,   0,   0,   0,   0,   0,   0,   0,   0,   0,\n",
        "         0,   0,   0,   0,   0,   0,   0,   0,   0,   0,   0,   1,   0,\n",
        "         0,   0,   0,  71,   0,   0,   0,   0,   0,   0,   0,   0,   0,\n",
        "        34,  24,   0,   0,   0,   0,   0,   0,   0,   0,   0,   0,   0,\n",
        "         0,  13,   0,   0,   0,   0,   0,   0,   0,   0,   0,   0,   0,\n",
        "         0,   0,   0,   0,   0,   0,   0,   0,   0,   0,   0,   0,   0,\n",
        "         0,   0,   0,   0,   0,   0], dtype=int32)"
       ]
      }
     ],
     "prompt_number": 4
    },
    {
     "cell_type": "code",
     "collapsed": false,
     "input": [
      "X = []\n",
      "y = []\n",
      "for i in range(len(train_song_exist)):\n",
      "    X.append(train_song_exist[i][0])\n",
      "    y.append(train_song_exist[i][1])\n",
      "    \n",
      "X = np.array(X)\n",
      "y = np.array(y)\n",
      "\n",
      "from sklearn.model_selection import train_test_split\n",
      "X_train, X_test, y_train, y_test = train_test_split(X, y, test_size = 0.3, random_state = 1)\n",
      "\n",
      "N_train, _ = X_train.shape \n",
      "N_test,  _ = X_test.shape \n",
      "\n",
      "print(N_train, N_test)"
     ],
     "language": "python",
     "metadata": {},
     "outputs": [
      {
       "output_type": "stream",
       "stream": "stdout",
       "text": [
        "(9564, 4099)\n"
       ]
      }
     ],
     "prompt_number": 5
    },
    {
     "cell_type": "code",
     "collapsed": false,
     "input": [
      "from sklearn.neighbors import KNeighborsClassifier\n",
      "knn = KNeighborsClassifier(n_neighbors = 3)\n",
      "knn.fit(X_train, y_train)\n",
      "\n",
      "y_train_predict = knn.predict(X_train)\n",
      "y_test_predict = knn.predict(X_test)\n",
      "\n",
      "err_train = np.mean(y_train != y_train_predict)\n",
      "err_test  = np.mean(y_test  != y_test_predict)\n",
      "\n",
      "print('knn', err_train, err_test)\n",
      "\n",
      "from sklearn.discriminant_analysis import LinearDiscriminantAnalysis\n",
      "model = LinearDiscriminantAnalysis()\n",
      "model.fit(X, y)\n",
      "\n",
      "y_train_predict = model.predict(X_train)\n",
      "y_test_predict = model.predict(X_test)\n",
      "\n",
      "err_train = np.mean(y_train != y_train_predict)\n",
      "err_test  = np.mean(y_test  != y_test_predict)\n",
      "\n",
      "print('lda', err_train, err_test)\n",
      "\n",
      "from sklearn.discriminant_analysis import QuadraticDiscriminantAnalysis\n",
      "model = QuadraticDiscriminantAnalysis()\n",
      "model.fit(X, y)\n",
      "\n",
      "y_train_predict = model.predict(X_train)\n",
      "y_test_predict = model.predict(X_test)\n",
      "\n",
      "err_train = np.mean(y_train != y_train_predict)\n",
      "err_test  = np.mean(y_test  != y_test_predict)\n",
      "\n",
      "print('qda', err_train, err_test)\n",
      "\n",
      "from sklearn.linear_model import LogisticRegression\n",
      "model = LogisticRegression()\n",
      "model.fit(X_train, y_train)\n",
      "\n",
      "y_train_predict = model.predict(X_train)\n",
      "y_test_predict = model.predict(X_test)\n",
      "\n",
      "err_train = np.mean(y_train != y_train_predict)\n",
      "err_test  = np.mean(y_test  != y_test_predict)\n",
      "\n",
      "print('logistic regression', err_train, err_test)\n"
     ],
     "language": "python",
     "metadata": {},
     "outputs": [
      {
       "output_type": "stream",
       "stream": "stdout",
       "text": [
        "('knn', 0.2371392722710163, 0.45938033666747985)\n",
        "('lda', 0.40307402760351319, 0.40375701390583069)"
       ]
      },
      {
       "output_type": "stream",
       "stream": "stderr",
       "text": [
        "/home/dolotov-e/.local/lib/python2.7/site-packages/sklearn/discriminant_analysis.py:388: UserWarning: Variables are collinear.\n",
        "  warnings.warn(\"Variables are collinear.\")\n",
        "/home/dolotov-e/.local/lib/python2.7/site-packages/sklearn/discriminant_analysis.py:682: UserWarning: Variables are collinear\n",
        "  warnings.warn(\"Variables are collinear\")\n"
       ]
      },
      {
       "output_type": "stream",
       "stream": "stdout",
       "text": [
        "\n",
        "('qda', 0.49414470932664156, 0.4840204928031227)"
       ]
      },
      {
       "output_type": "stream",
       "stream": "stdout",
       "text": [
        "\n",
        "('logistic regression', 0.39491844416562105, 0.40717248109294951)"
       ]
      },
      {
       "output_type": "stream",
       "stream": "stdout",
       "text": [
        "\n"
       ]
      }
     ],
     "prompt_number": 6
    },
    {
     "cell_type": "code",
     "collapsed": false,
     "input": [
      "from catboost import CatBoostClassifier\n",
      "model = CatBoostClassifier()\n",
      "model.fit(X_train, y_train)\n",
      "\n",
      "y_train_predict = model.predict(X_train)\n",
      "y_test_predict = model.predict(X_test)\n",
      "\n",
      "err_train = np.mean(y_train != y_train_predict)\n",
      "err_test  = np.mean(y_test  != y_test_predict)\n",
      "\n",
      "print('catboost', err_train, err_test)\n",
      "\n",
      "from xgboost import XGBClassifier\n",
      "model = XGBClassifier()\n",
      "model.fit(X_train, y_train)\n",
      "\n",
      "y_train_predict = model.predict(X_train)\n",
      "y_test_predict = model.predict(X_test)\n",
      "\n",
      "err_train = np.mean(y_train != y_train_predict)\n",
      "err_test  = np.mean(y_test  != y_test_predict)\n",
      "\n",
      "print('xgboost', err_train, err_test)"
     ],
     "language": "python",
     "metadata": {},
     "outputs": [
      {
       "output_type": "stream",
       "stream": "stdout",
       "text": [
        "('catboost', 0.33197406942701796, 0.40595267138326419)\n",
        "('xgboost', 0.34713508992053532, 0.39814588924127836)"
       ]
      },
      {
       "output_type": "stream",
       "stream": "stdout",
       "text": [
        "\n"
       ]
      }
     ],
     "prompt_number": 7
    },
    {
     "cell_type": "markdown",
     "metadata": {},
     "source": [
      "\u0432\u0441\u0435 \u043c\u0435\u0442\u043e\u0434\u044b \u0443\u043b\u0443\u0447\u0448\u0438\u043b\u0438 \u0441\u0432\u043e\u0438 \u0440\u0435\u0437\u0443\u043b\u044c\u0442\u0430\u0442\u044b. \u044d\u0442\u0438 \u043f\u0440\u0438\u0437\u043d\u0430\u043a\u0438 \u044f\u0432\u043d\u043e \u043b\u0443\u0447\u0448\u0435\n",
      "\u043b\u0443\u0447\u0448\u0438\u0439 \u0440\u0435\u0437\u0443\u043b\u044c\u0442\u0430\u0442 - ('xgboost', 0.34713508992053532, 0.39814588924127836), \u0443\u043b\u0443\u0447\u0448\u0435\u043d\u0438\u0435 - 1,3%"
     ]
    },
    {
     "cell_type": "markdown",
     "metadata": {},
     "source": [
      "** \u0412\u0430\u0440\u0438\u0430\u043d\u0442 3 **"
     ]
    },
    {
     "cell_type": "markdown",
     "metadata": {},
     "source": [
      "\u041d\u043e\u0440\u043c\u0438\u0440\u0443\u0435\u043c \u044d\u0442\u0438 \u0432\u0435\u043a\u0442\u043e\u0440\u0430."
     ]
    },
    {
     "cell_type": "code",
     "collapsed": false,
     "input": [
      "train_song_exist = []\n",
      "for i in range(len(train_gender_data)):\n",
      "    vector = np.zeros(162, dtype = np.int32)\n",
      "    for j in range(162):\n",
      "        if j in train_gender_data[i][0]:\n",
      "            vector[j] += (train_gender_data[i][0] == j).sum()\n",
      "    if np.linalg.norm(vector) != 0:\n",
      "        vector = vector/np.linalg.norm(vector)\n",
      "    train_song_exist.append([vector, train_gender_data[i][1]])\n",
      "    \n",
      "X = []\n",
      "y = []\n",
      "for i in range(len(train_song_exist)):\n",
      "    X.append(train_song_exist[i][0])\n",
      "    y.append(train_song_exist[i][1])\n",
      "    \n",
      "X = np.array(X)\n",
      "y = np.array(y)\n",
      "\n",
      "from sklearn.model_selection import train_test_split\n",
      "X_train, X_test, y_train, y_test = train_test_split(X, y, test_size = 0.3, random_state = 1)\n",
      "\n",
      "N_train, _ = X_train.shape \n",
      "N_test,  _ = X_test.shape \n",
      "\n",
      "print(N_train, N_test)"
     ],
     "language": "python",
     "metadata": {},
     "outputs": [
      {
       "output_type": "stream",
       "stream": "stdout",
       "text": [
        "(9564, 4099)\n"
       ]
      }
     ],
     "prompt_number": 8
    },
    {
     "cell_type": "code",
     "collapsed": false,
     "input": [
      "from sklearn.neighbors import KNeighborsClassifier\n",
      "knn = KNeighborsClassifier(n_neighbors = 3)\n",
      "knn.fit(X_train, y_train)\n",
      "\n",
      "y_train_predict = knn.predict(X_train)\n",
      "y_test_predict = knn.predict(X_test)\n",
      "\n",
      "err_train = np.mean(y_train != y_train_predict)\n",
      "err_test  = np.mean(y_test  != y_test_predict)\n",
      "\n",
      "print('knn', err_train, err_test)\n",
      "\n",
      "from sklearn.discriminant_analysis import LinearDiscriminantAnalysis\n",
      "model = LinearDiscriminantAnalysis()\n",
      "model.fit(X, y)\n",
      "\n",
      "y_train_predict = model.predict(X_train)\n",
      "y_test_predict = model.predict(X_test)\n",
      "\n",
      "err_train = np.mean(y_train != y_train_predict)\n",
      "err_test  = np.mean(y_test  != y_test_predict)\n",
      "\n",
      "print('lda', err_train, err_test)\n",
      "\n",
      "from sklearn.discriminant_analysis import QuadraticDiscriminantAnalysis\n",
      "model = QuadraticDiscriminantAnalysis()\n",
      "model.fit(X, y)\n",
      "\n",
      "y_train_predict = model.predict(X_train)\n",
      "y_test_predict = model.predict(X_test)\n",
      "\n",
      "err_train = np.mean(y_train != y_train_predict)\n",
      "err_test  = np.mean(y_test  != y_test_predict)\n",
      "\n",
      "print('qda', err_train, err_test)\n",
      "\n",
      "from sklearn.linear_model import LogisticRegression\n",
      "model = LogisticRegression()\n",
      "model.fit(X_train, y_train)\n",
      "\n",
      "y_train_predict = model.predict(X_train)\n",
      "y_test_predict = model.predict(X_test)\n",
      "\n",
      "err_train = np.mean(y_train != y_train_predict)\n",
      "err_test  = np.mean(y_test  != y_test_predict)\n",
      "\n",
      "print('logistic regression', err_train, err_test)"
     ],
     "language": "python",
     "metadata": {},
     "outputs": [
      {
       "output_type": "stream",
       "stream": "stdout",
       "text": [
        "('knn', 0.24404015056461731, 0.44986582093193461)\n",
        "('lda', 0.40370138017565871, 0.40131739448646009)"
       ]
      },
      {
       "output_type": "stream",
       "stream": "stdout",
       "text": [
        "\n",
        "('qda', 0.5, 0.49695047572578677)"
       ]
      },
      {
       "output_type": "stream",
       "stream": "stdout",
       "text": [
        "\n",
        "('logistic regression', 0.40851108322877455, 0.40912417662844597)"
       ]
      },
      {
       "output_type": "stream",
       "stream": "stdout",
       "text": [
        "\n"
       ]
      }
     ],
     "prompt_number": 9
    },
    {
     "cell_type": "code",
     "collapsed": false,
     "input": [
      "from catboost import CatBoostClassifier\n",
      "model = CatBoostClassifier()\n",
      "model.fit(X_train, y_train)\n",
      "\n",
      "y_train_predict = model.predict(X_train)\n",
      "y_test_predict = model.predict(X_test)\n",
      "\n",
      "err_train = np.mean(y_train != y_train_predict)\n",
      "err_test  = np.mean(y_test  != y_test_predict)\n",
      "\n",
      "print('catboost', err_train, err_test)\n",
      "\n",
      "from xgboost import XGBClassifier\n",
      "model = XGBClassifier()\n",
      "model.fit(X_train, y_train)\n",
      "\n",
      "y_train_predict = model.predict(X_train)\n",
      "y_test_predict = model.predict(X_test)\n",
      "\n",
      "err_train = np.mean(y_train != y_train_predict)\n",
      "err_test  = np.mean(y_test  != y_test_predict)\n",
      "\n",
      "print('xgboost', err_train, err_test)"
     ],
     "language": "python",
     "metadata": {},
     "outputs": [
      {
       "output_type": "stream",
       "stream": "stdout",
       "text": [
        "('catboost', 0.31325805102467585, 0.4032690900219566)\n",
        "('xgboost', 0.34755332496863239, 0.4079043669187607)"
       ]
      },
      {
       "output_type": "stream",
       "stream": "stdout",
       "text": [
        "\n"
       ]
      }
     ],
     "prompt_number": 10
    },
    {
     "cell_type": "markdown",
     "metadata": {},
     "source": [
      "\u0422\u0430\u043a\u0430\u044f \u043d\u043e\u0440\u043c\u0438\u0440\u043e\u0432\u043a\u0430 \u043d\u0435 \u043f\u043e\u043c\u043e\u0433\u043b\u0430"
     ]
    },
    {
     "cell_type": "markdown",
     "metadata": {},
     "source": [
      "** \u0412\u0430\u0440\u0438\u0430\u043d\u0442 4 **"
     ]
    },
    {
     "cell_type": "markdown",
     "metadata": {},
     "source": [
      "\u041f\u043e\u043f\u0440\u043e\u0431\u0443\u0435\u043c \u043d\u043e\u0440\u043c\u0438\u0440\u043e\u0432\u0430\u0442\u044c \u043a\u0430\u0436\u0434\u044b\u0439 \u043f\u0440\u0438\u0437\u043d\u0430\u043a \u043d\u0435\u0437\u0430\u0432\u0438\u0441\u0438\u043c\u043e"
     ]
    },
    {
     "cell_type": "code",
     "collapsed": false,
     "input": [
      "train_song_exist = []\n",
      "for i in range(len(train_gender_data)):\n",
      "    vector = np.zeros(162, dtype = np.int32)\n",
      "    for j in range(162):\n",
      "        if j in train_gender_data[i][0]:\n",
      "            vector[j] += (train_gender_data[i][0] == j).sum()\n",
      "    train_song_exist.append([vector, train_gender_data[i][1]])\n",
      "    \n",
      "X = []\n",
      "y = []\n",
      "for i in range(len(train_song_exist)):\n",
      "    X.append(train_song_exist[i][0])\n",
      "    y.append(train_song_exist[i][1])\n",
      "    \n",
      "X = np.array(X)\n",
      "y = np.array(y)\n",
      "import sklearn\n",
      "\n",
      "X = sklearn.preprocessing.normalize(X, axis=0)"
     ],
     "language": "python",
     "metadata": {},
     "outputs": [],
     "prompt_number": 20
    },
    {
     "cell_type": "code",
     "collapsed": false,
     "input": [
      "from sklearn.model_selection import train_test_split\n",
      "X_train, X_test, y_train, y_test = train_test_split(X, y, test_size = 0.3, random_state = 1)\n",
      "\n",
      "N_train, _ = X_train.shape \n",
      "N_test,  _ = X_test.shape \n",
      "\n",
      "print(N_train, N_test)"
     ],
     "language": "python",
     "metadata": {},
     "outputs": [
      {
       "output_type": "stream",
       "stream": "stdout",
       "text": [
        "(9564, 4099)\n"
       ]
      }
     ],
     "prompt_number": 21
    },
    {
     "cell_type": "code",
     "collapsed": false,
     "input": [
      "from sklearn.neighbors import KNeighborsClassifier\n",
      "knn = KNeighborsClassifier(n_neighbors = 3)\n",
      "knn.fit(X_train, y_train)\n",
      "\n",
      "y_train_predict = knn.predict(X_train)\n",
      "y_test_predict = knn.predict(X_test)\n",
      "\n",
      "err_train = np.mean(y_train != y_train_predict)\n",
      "err_test  = np.mean(y_test  != y_test_predict)\n",
      "\n",
      "print('knn', err_train, err_test)\n",
      "\n",
      "from sklearn.discriminant_analysis import LinearDiscriminantAnalysis\n",
      "model = LinearDiscriminantAnalysis()\n",
      "model.fit(X, y)\n",
      "\n",
      "y_train_predict = model.predict(X_train)\n",
      "y_test_predict = model.predict(X_test)\n",
      "\n",
      "err_train = np.mean(y_train != y_train_predict)\n",
      "err_test  = np.mean(y_test  != y_test_predict)\n",
      "\n",
      "print('lda', err_train, err_test)\n",
      "\n",
      "from sklearn.discriminant_analysis import QuadraticDiscriminantAnalysis\n",
      "model = QuadraticDiscriminantAnalysis()\n",
      "model.fit(X, y)\n",
      "\n",
      "y_train_predict = model.predict(X_train)\n",
      "y_test_predict = model.predict(X_test)\n",
      "\n",
      "err_train = np.mean(y_train != y_train_predict)\n",
      "err_test  = np.mean(y_test  != y_test_predict)\n",
      "\n",
      "print('qda', err_train, err_test)\n",
      "\n",
      "from sklearn.linear_model import LogisticRegression\n",
      "model = LogisticRegression()\n",
      "model.fit(X_train, y_train)\n",
      "\n",
      "y_train_predict = model.predict(X_train)\n",
      "y_test_predict = model.predict(X_test)\n",
      "\n",
      "err_train = np.mean(y_train != y_train_predict)\n",
      "err_test  = np.mean(y_test  != y_test_predict)\n",
      "\n",
      "print('logistic regression', err_train, err_test)"
     ],
     "language": "python",
     "metadata": {},
     "outputs": [
      {
       "output_type": "stream",
       "stream": "stdout",
       "text": [
        "('knn', 0.24132162275198663, 0.46767504269333982)\n",
        "('lda', 0.40307402760351319, 0.40375701390583069)"
       ]
      },
      {
       "output_type": "stream",
       "stream": "stdout",
       "text": [
        "\n",
        "('qda', 0.49728147218736929, 0.49865820931934618)"
       ]
      },
      {
       "output_type": "stream",
       "stream": "stdout",
       "text": [
        "\n",
        "('logistic regression', 0.45441237975742366, 0.4527933642351793)\n"
       ]
      }
     ],
     "prompt_number": 22
    },
    {
     "cell_type": "code",
     "collapsed": false,
     "input": [
      "from catboost import CatBoostClassifier\n",
      "model = CatBoostClassifier()\n",
      "model.fit(X_train, y_train)\n",
      "\n",
      "y_train_predict = model.predict(X_train)\n",
      "y_test_predict = model.predict(X_test)\n",
      "\n",
      "err_train = np.mean(y_train != y_train_predict)\n",
      "err_test  = np.mean(y_test  != y_test_predict)\n",
      "\n",
      "print('catboost', err_train, err_test)\n",
      "\n",
      "from xgboost import XGBClassifier\n",
      "model = XGBClassifier()\n",
      "model.fit(X_train, y_train)\n",
      "\n",
      "y_train_predict = model.predict(X_train)\n",
      "y_test_predict = model.predict(X_test)\n",
      "\n",
      "err_train = np.mean(y_train != y_train_predict)\n",
      "err_test  = np.mean(y_test  != y_test_predict)\n",
      "\n",
      "print('xgboost', err_train, err_test)"
     ],
     "language": "python",
     "metadata": {},
     "outputs": [
      {
       "output_type": "stream",
       "stream": "stdout",
       "text": [
        "('catboost', 0.3329150982852363, 0.40424493778970483)\n",
        "('xgboost', 0.34713508992053532, 0.39790192729934132)"
       ]
      },
      {
       "output_type": "stream",
       "stream": "stdout",
       "text": [
        "\n"
       ]
      }
     ],
     "prompt_number": 23
    },
    {
     "cell_type": "markdown",
     "metadata": {},
     "source": [
      "\u043b\u0443\u0447\u0448\u0438\u0439 \u0440\u0435\u0437\u0443\u043b\u044c\u0442\u0430\u0442 - ('xgboost', 0.34713508992053532, 0.39790192729934132), \u0443\u043b\u0443\u0447\u0448\u0435\u043d\u0438\u0435 - 0.1%"
     ]
    },
    {
     "cell_type": "markdown",
     "metadata": {},
     "source": [
      "\u041f\u043e\u043f\u0440\u043e\u0431\u0443\u0435\u043c \u043f\u043e\u0441\u0442\u0440\u043e\u0438\u0442\u044c \u0430\u043d\u0441\u0430\u043c\u0431\u043b\u044c \u0438\u0437 \u044d\u0442\u0438\u0445 3 \u043b\u0443\u0447\u0448\u0438\u0445 \u043a\u043b\u0430\u0441\u0441\u0438\u0444\u0438\u043a\u0430\u0442\u043e\u0440\u043e\u0432"
     ]
    },
    {
     "cell_type": "code",
     "collapsed": false,
     "input": [
      "X_train.dtype"
     ],
     "language": "python",
     "metadata": {},
     "outputs": [
      {
       "metadata": {},
       "output_type": "pyout",
       "prompt_number": 29,
       "text": [
        "dtype('float64')"
       ]
      }
     ],
     "prompt_number": 29
    },
    {
     "cell_type": "code",
     "collapsed": false,
     "input": [
      "from sklearn.ensemble import VotingClassifier\n",
      "\n",
      "lda = LinearDiscriminantAnalysis()\n",
      "cat = CatBoostClassifier()\n",
      "xgb = XGBClassifier()\n",
      "model = VotingClassifier(estimators = [('lda', lda),('catboost', cat),('xgboost', xgb)], voting = 'soft')\n",
      "\n",
      "model.fit(X_train, y_train)"
     ],
     "language": "python",
     "metadata": {},
     "outputs": [
      {
       "metadata": {},
       "output_type": "pyout",
       "prompt_number": 33,
       "text": [
        "VotingClassifier(estimators=[('lda', LinearDiscriminantAnalysis(n_components=None, priors=None, shrinkage=None,\n",
        "              solver='svd', store_covariance=False, tol=0.0001)), ('catboost', <catboost.core.CatBoostClassifier object at 0x7f838ce51090>), ('xgboost', XGBClassifier(base_score=0.5, booster='gbtree', cols...\n",
        "       reg_alpha=0, reg_lambda=1, scale_pos_weight=1, seed=None,\n",
        "       silent=True, subsample=1))],\n",
        "         flatten_transform=None, n_jobs=1, voting='soft', weights=None)"
       ]
      }
     ],
     "prompt_number": 33
    },
    {
     "cell_type": "code",
     "collapsed": false,
     "input": [
      "y_train_predict = model.predict(X_train)\n",
      "y_test_predict = model.predict(X_test)\n",
      "\n",
      "err_train = np.mean(y_train != y_train_predict)\n",
      "err_test  = np.mean(y_test  != y_test_predict)\n",
      "\n",
      "\n",
      "print('voting', err_train, err_test)"
     ],
     "language": "python",
     "metadata": {},
     "outputs": [
      {
       "output_type": "stream",
       "stream": "stdout",
       "text": [
        "('voting', 0.34880803011292344, 0.39741400341546718)\n"
       ]
      }
     ],
     "prompt_number": 36
    },
    {
     "cell_type": "markdown",
     "metadata": {},
     "source": [
      "\u0423\u043b\u0443\u0447\u0448\u0438\u043b\u0438 \u043a\u0430\u0447\u0435\u0441\u0442\u0432\u043e \u043f\u0440\u043e\u0433\u043d\u043e\u0437\u0430 \u0432\u0441\u0435\u0433\u043e \u043d\u0430 0.05%."
     ]
    },
    {
     "cell_type": "markdown",
     "metadata": {},
     "source": [
      "** \u0412\u0430\u0440\u0438\u0430\u043d\u0442 5 **"
     ]
    },
    {
     "cell_type": "markdown",
     "metadata": {},
     "source": [
      "\u0427\u0442\u043e \u0436\u0435 \u0435\u0449\u0435 \u043c\u043e\u0436\u043d\u043e \u0441\u0434\u0435\u043b\u0430\u0442\u044c? \u041c\u0435\u0442\u043e\u0434 RandomForest \u044f\u0432\u043d\u043e \u043f\u0435\u0440\u0435\u043e\u0431\u0443\u0447\u0430\u043b\u0441\u044f. \u041f\u043e\u043f\u0440\u043e\u0431\u0443\u0435\u043c \u0443\u043c\u0435\u043d\u044c\u0448\u0438\u0442\u044c \u0440\u0430\u0437\u043c\u0435\u0440\u043d\u043e\u0441\u0442\u044c \u043f\u0440\u043e\u0441\u0442\u0440\u0430\u043d\u0441\u0442\u0432\u0430 \u043f\u0440\u0438\u0437\u043d\u0430\u043a\u043e\u0432."
     ]
    },
    {
     "cell_type": "code",
     "collapsed": false,
     "input": [
      "train_song_exist = []\n",
      "for i in range(len(train_gender_data)):\n",
      "    vector = np.zeros(162, dtype = np.int32)\n",
      "    for j in range(162):\n",
      "        if j in train_gender_data[i][0]:\n",
      "            vector[j] += (train_gender_data[i][0] == j).sum()\n",
      "    train_song_exist.append([vector, train_gender_data[i][1]])\n",
      "    \n",
      "X = []\n",
      "y = []\n",
      "for i in range(len(train_song_exist)):\n",
      "    X.append(train_song_exist[i][0])\n",
      "    y.append(train_song_exist[i][1])\n",
      "    \n",
      "X = np.array(X)\n",
      "y = np.array(y)\n",
      "import sklearn\n",
      "\n",
      "X = sklearn.preprocessing.normalize(X, axis=0)"
     ],
     "language": "python",
     "metadata": {},
     "outputs": [],
     "prompt_number": 40
    },
    {
     "cell_type": "code",
     "collapsed": false,
     "input": [
      "from sklearn.model_selection import train_test_split\n",
      "X_train, X_test, y_train, y_test = train_test_split(X, y, test_size = 0.3, random_state = 1)\n",
      "\n",
      "N_train, _ = X_train.shape \n",
      "N_test,  _ = X_test.shape \n",
      "\n",
      "print(N_train, N_test)"
     ],
     "language": "python",
     "metadata": {},
     "outputs": [
      {
       "output_type": "stream",
       "stream": "stdout",
       "text": [
        "(9564, 4099)\n"
       ]
      }
     ],
     "prompt_number": 41
    },
    {
     "cell_type": "markdown",
     "metadata": {},
     "source": [
      "** \u041c\u0435\u0442\u043e\u0434 \u0433\u043b\u0430\u0432\u043d\u044b\u0445 \u043a\u043e\u043c\u043f\u043e\u043d\u0435\u043d\u0442 (PCA) ** \u2014 \u043e\u0434\u0438\u043d \u0438\u0437 \u043e\u0441\u043d\u043e\u0432\u043d\u044b\u0445 \u0441\u043f\u043e\u0441\u043e\u0431\u043e\u0432 \u0443\u043c\u0435\u043d\u044c\u0448\u0438\u0442\u044c \u0440\u0430\u0437\u043c\u0435\u0440\u043d\u043e\u0441\u0442\u044c \u0434\u0430\u043d\u043d\u044b\u0445, \u043f\u043e\u0442\u0435\u0440\u044f\u0432 \u043d\u0430\u0438\u043c\u0435\u043d\u044c\u0448\u0435\u0435 \u043a\u043e\u043b\u0438\u0447\u0435\u0441\u0442\u0432\u043e \u0438\u043d\u0444\u043e\u0440\u043c\u0430\u0446\u0438\u0438. "
     ]
    },
    {
     "cell_type": "code",
     "collapsed": false,
     "input": [
      "from sklearn.decomposition import PCA\n",
      "\n",
      "pca = PCA(n_components=20)\n",
      "\n",
      "pca.fit(X_train)\n",
      "\n",
      "X_train_pca = pca.transform(X_train)\n",
      "X_test_pca = pca.transform(X_test)"
     ],
     "language": "python",
     "metadata": {},
     "outputs": [],
     "prompt_number": 42
    },
    {
     "cell_type": "code",
     "collapsed": false,
     "input": [
      "from sklearn.neighbors import KNeighborsClassifier\n",
      "knn = KNeighborsClassifier(n_neighbors = 3)\n",
      "knn.fit(X_train, y_train)\n",
      "\n",
      "y_train_predict = knn.predict(X_train)\n",
      "y_test_predict = knn.predict(X_test)\n",
      "\n",
      "err_train = np.mean(y_train != y_train_predict)\n",
      "err_test  = np.mean(y_test  != y_test_predict)\n",
      "\n",
      "print('knn', err_train, err_test)\n",
      "\n",
      "from sklearn.discriminant_analysis import LinearDiscriminantAnalysis\n",
      "model = LinearDiscriminantAnalysis()\n",
      "model.fit(X, y)\n",
      "\n",
      "y_train_predict = model.predict(X_train)\n",
      "y_test_predict = model.predict(X_test)\n",
      "\n",
      "err_train = np.mean(y_train != y_train_predict)\n",
      "err_test  = np.mean(y_test  != y_test_predict)\n",
      "\n",
      "print('lda', err_train, err_test)\n",
      "\n",
      "from sklearn.discriminant_analysis import QuadraticDiscriminantAnalysis\n",
      "model = QuadraticDiscriminantAnalysis()\n",
      "model.fit(X, y)\n",
      "\n",
      "y_train_predict = model.predict(X_train)\n",
      "y_test_predict = model.predict(X_test)\n",
      "\n",
      "err_train = np.mean(y_train != y_train_predict)\n",
      "err_test  = np.mean(y_test  != y_test_predict)\n",
      "\n",
      "print('qda', err_train, err_test)\n",
      "\n",
      "from sklearn.linear_model import LogisticRegression\n",
      "model = LogisticRegression()\n",
      "model.fit(X_train, y_train)\n",
      "\n",
      "y_train_predict = model.predict(X_train)\n",
      "y_test_predict = model.predict(X_test)\n",
      "\n",
      "err_train = np.mean(y_train != y_train_predict)\n",
      "err_test  = np.mean(y_test  != y_test_predict)\n",
      "\n",
      "print('logistic regression', err_train, err_test)"
     ],
     "language": "python",
     "metadata": {},
     "outputs": [
      {
       "output_type": "stream",
       "stream": "stdout",
       "text": [
        "('knn', 0.24132162275198663, 0.46767504269333982)\n",
        "('lda', 0.40307402760351319, 0.40375701390583069)"
       ]
      },
      {
       "output_type": "stream",
       "stream": "stdout",
       "text": [
        "\n",
        "('qda', 0.49728147218736929, 0.49865820931934618)"
       ]
      },
      {
       "output_type": "stream",
       "stream": "stdout",
       "text": [
        "\n",
        "('logistic regression', 0.45441237975742366, 0.4527933642351793)\n"
       ]
      }
     ],
     "prompt_number": 43
    },
    {
     "cell_type": "code",
     "collapsed": false,
     "input": [
      "from catboost import CatBoostClassifier\n",
      "model = CatBoostClassifier()\n",
      "model.fit(X_train, y_train)\n",
      "\n",
      "y_train_predict = model.predict(X_train)\n",
      "y_test_predict = model.predict(X_test)\n",
      "\n",
      "err_train = np.mean(y_train != y_train_predict)\n",
      "err_test  = np.mean(y_test  != y_test_predict)\n",
      "\n",
      "print('catboost', err_train, err_test)\n",
      "\n",
      "from xgboost import XGBClassifier\n",
      "model = XGBClassifier()\n",
      "model.fit(X_train, y_train)\n",
      "\n",
      "y_train_predict = model.predict(X_train)\n",
      "y_test_predict = model.predict(X_test)\n",
      "\n",
      "err_train = np.mean(y_train != y_train_predict)\n",
      "err_test  = np.mean(y_test  != y_test_predict)\n",
      "\n",
      "print('xgboost', err_train, err_test)"
     ],
     "language": "python",
     "metadata": {},
     "outputs": [
      {
       "output_type": "stream",
       "stream": "stdout",
       "text": [
        "('catboost', 0.32695524884985361, 0.40107343254452305)\n",
        "('xgboost', 0.34713508992053532, 0.39790192729934132)"
       ]
      },
      {
       "output_type": "stream",
       "stream": "stdout",
       "text": [
        "\n"
       ]
      }
     ],
     "prompt_number": 44
    },
    {
     "cell_type": "markdown",
     "metadata": {},
     "source": [
      "\u041f\u043e\u043f\u0440\u043e\u0431\u0443\u0435\u043c \u043f\u043e\u0434\u043e\u0431\u0440\u0430\u0442\u044c \u043d\u0430\u0438\u043b\u0443\u0447\u0448\u0438\u0435 \u043f\u0430\u0440\u0430\u043c\u0435\u0442\u0440\u044b \u0434\u043b\u044f \u043c\u0435\u0442\u043e\u0434\u0430 RandomForest"
     ]
    },
    {
     "cell_type": "code",
     "collapsed": false,
     "input": [
      "from sklearn.ensemble import RandomForestClassifier\n",
      "max_estimators = range(1, 1000, 10)\n",
      "err_train = []\n",
      "err_test = []\n",
      "for n_estimators in max_estimators:\n",
      "    model = RandomForestClassifier(n_estimators = n_estimators)\n",
      "    model.fit(X_train, y_train)\n",
      "    err_train.append(np.mean(model.predict(X_train) != y_train))\n",
      "    err_test.append(np.mean(model.predict(X_test) != y_test))\n",
      "    \n",
      "\n",
      "plt.plot(max_estimators, err_train, '.-r', label = 'Train error')\n",
      "plt.plot(max_estimators, err_test,  '.-b', label = 'Test error')    \n",
      "plt.legend(loc = 3)\n",
      "\n",
      "print(min(err_test))\n",
      "print(max_estimators[np.argmin(err_test)])"
     ],
     "language": "python",
     "metadata": {},
     "outputs": [
      {
       "output_type": "stream",
       "stream": "stdout",
       "text": [
        "0.406440595267\n",
        "451\n"
       ]
      },
      {
       "metadata": {},
       "output_type": "display_data",
       "png": "[encoded data removed]",
       "text": [
        "<matplotlib.figure.Figure at 0x7f838c68b150>"
       ]
      }
     ],
     "prompt_number": 59
    },
    {
     "cell_type": "markdown",
     "metadata": {},
     "source": [
      "** \u0412\u0430\u0440\u0438\u0430\u043d\u0442 6 **\n",
      "\u041f\u043e\u0441\u043c\u043e\u0442\u0440\u0438\u043c \u0435\u0449\u0435 \u0440\u0430\u0437 \u043d\u0430 \u0433\u0438\u0441\u0442\u043e\u0433\u0440\u0430\u043c\u043c\u044b"
     ]
    },
    {
     "cell_type": "code",
     "collapsed": false,
     "input": [
      "train_song_exist = []\n",
      "for i in range(len(train_gender_data)):\n",
      "    vector = np.zeros(162, dtype = np.int32)\n",
      "    for j in range(162):\n",
      "        if j in train_gender_data[i][0]:\n",
      "            vector[j] = 1\n",
      "    train_song_exist.append([vector, train_gender_data[i][1]])\n",
      "    \n",
      "X = []\n",
      "y = []\n",
      "for i in range(len(train_song_exist)):\n",
      "    X.append(train_song_exist[i][0])\n",
      "    y.append(train_song_exist[i][1])\n",
      "\n",
      "X = np.array(X)\n",
      "y = np.array(y)\n",
      "\n",
      "ganres = np.zeros(162, dtype = np.int32)\n",
      "for i in range(X.shape[0]):\n",
      "    ganres += X[i]\n",
      "    \n",
      "plt.hist(range(0, 162), bins = range(0, 163), weights = ganres)"
     ],
     "language": "python",
     "metadata": {},
     "outputs": [
      {
       "metadata": {},
       "output_type": "pyout",
       "prompt_number": 61,
       "text": [
        "(array([  1.00000000e+00,   1.40000000e+02,   2.90000000e+01,\n",
        "          1.70000000e+01,   4.79100000e+03,   4.48000000e+02,\n",
        "          4.44400000e+03,   7.80300000e+03,   1.00000000e+00,\n",
        "          9.00000000e+00,   1.40000000e+01,   1.60000000e+01,\n",
        "          1.00000000e+01,   5.00000000e+00,   4.10000000e+01,\n",
        "          1.14300000e+03,   7.00000000e+00,   1.60300000e+03,\n",
        "          2.00000000e+01,   1.00000000e+00,   4.10000000e+01,\n",
        "          2.00000000e+00,   1.19500000e+03,   7.50500000e+03,\n",
        "          3.22000000e+02,   5.12000000e+02,   1.31000000e+02,\n",
        "          5.30000000e+02,   8.00000000e+00,   3.83000000e+02,\n",
        "          7.00000000e+00,   1.16500000e+03,   2.85600000e+03,\n",
        "          5.05000000e+03,   8.61800000e+03,   9.00100000e+03,\n",
        "          1.27460000e+04,   1.33860000e+04,   9.70000000e+01,\n",
        "          2.10000000e+02,   2.00000000e+00,   7.00000000e+00,\n",
        "          4.10000000e+01,   1.51000000e+02,   1.35000000e+02,\n",
        "          2.21000000e+02,   1.90000000e+01,   9.00000000e+00,\n",
        "          5.00000000e+00,   1.00000000e+00,   2.07200000e+03,\n",
        "          2.21000000e+02,   1.00000000e+00,   6.00000000e+00,\n",
        "          1.52400000e+03,   7.00000000e+00,   9.00000000e+00,\n",
        "          3.97400000e+03,   1.36600000e+03,   3.00000000e+00,\n",
        "          1.05000000e+02,   2.51800000e+03,   9.65000000e+02,\n",
        "          9.28000000e+02,   8.98000000e+02,   9.60000000e+02,\n",
        "          9.48000000e+02,   5.33000000e+02,   9.73000000e+02,\n",
        "          1.86000000e+02,   4.20000000e+01,   1.16490000e+04,\n",
        "          8.50000000e+02,   2.29900000e+03,   2.63100000e+03,\n",
        "          4.20000000e+01,   1.60000000e+01,   1.50000000e+01,\n",
        "          2.60000000e+01,   9.00000000e+00,   2.00000000e+00,\n",
        "          7.00000000e+00,   5.21300000e+03,   1.50000000e+01,\n",
        "          5.00000000e+00,   1.80000000e+01,   4.30000000e+01,\n",
        "          8.50000000e+01,   1.10000000e+01,   9.00000000e+00,\n",
        "          1.54000000e+02,   2.70000000e+01,   2.00000000e+01,\n",
        "          1.20000000e+01,   4.00000000e+00,   2.00000000e+00,\n",
        "          1.56000000e+02,   5.20000000e+01,   2.13000000e+03,\n",
        "          4.20000000e+01,   5.00000000e+00,   4.00000000e+00,\n",
        "          1.51100000e+03,   1.00000000e+00,   2.00000000e+00,\n",
        "          2.00000000e+00,   8.60000000e+01,   1.02350000e+04,\n",
        "          4.00000000e+00,   5.30000000e+01,   2.50000000e+01,\n",
        "          1.92800000e+03,   5.60000000e+01,   1.62200000e+03,\n",
        "          1.00000000e+00,   3.50000000e+01,   5.71000000e+02,\n",
        "          1.01380000e+04,   7.42600000e+03,   2.40000000e+01,\n",
        "          1.33000000e+02,   5.00000000e+00,   3.89000000e+02,\n",
        "          9.00000000e+00,   1.52000000e+02,   4.00000000e+01,\n",
        "          2.40000000e+01,   2.00000000e+01,   1.19100000e+03,\n",
        "          1.00000000e+00,   4.00000000e+00,   8.94900000e+03,\n",
        "          3.60000000e+01,   1.63000000e+02,   1.00000000e+01,\n",
        "          5.15000000e+02,   1.00000000e+01,   3.48000000e+02,\n",
        "          4.17000000e+02,   6.47000000e+02,   4.46000000e+02,\n",
        "          3.10000000e+01,   1.38700000e+03,   8.70000000e+01,\n",
        "          4.90000000e+01,   4.05800000e+03,   2.00000000e+00,\n",
        "          6.68000000e+02,   3.40000000e+01,   1.00000000e+00,\n",
        "          2.71700000e+03,   7.00000000e+00,   2.37000000e+02,\n",
        "          2.00000000e+00,   3.27000000e+02,   1.00000000e+00,\n",
        "          8.00000000e+00,   1.80000000e+01,   9.30000000e+01,\n",
        "          3.30000000e+01,   6.00000000e+00,   1.30000000e+01]),\n",
        " array([  0,   1,   2,   3,   4,   5,   6,   7,   8,   9,  10,  11,  12,\n",
        "         13,  14,  15,  16,  17,  18,  19,  20,  21,  22,  23,  24,  25,\n",
        "         26,  27,  28,  29,  30,  31,  32,  33,  34,  35,  36,  37,  38,\n",
        "         39,  40,  41,  42,  43,  44,  45,  46,  47,  48,  49,  50,  51,\n",
        "         52,  53,  54,  55,  56,  57,  58,  59,  60,  61,  62,  63,  64,\n",
        "         65,  66,  67,  68,  69,  70,  71,  72,  73,  74,  75,  76,  77,\n",
        "         78,  79,  80,  81,  82,  83,  84,  85,  86,  87,  88,  89,  90,\n",
        "         91,  92,  93,  94,  95,  96,  97,  98,  99, 100, 101, 102, 103,\n",
        "        104, 105, 106, 107, 108, 109, 110, 111, 112, 113, 114, 115, 116,\n",
        "        117, 118, 119, 120, 121, 122, 123, 124, 125, 126, 127, 128, 129,\n",
        "        130, 131, 132, 133, 134, 135, 136, 137, 138, 139, 140, 141, 142,\n",
        "        143, 144, 145, 146, 147, 148, 149, 150, 151, 152, 153, 154, 155,\n",
        "        156, 157, 158, 159, 160, 161, 162]),\n",
        " <a list of 162 Patch objects>)"
       ]
      },
      {
       "metadata": {},
       "output_type": "display_data",
       "png": "[encoded data removed]",
       "text": [
        "<matplotlib.figure.Figure at 0x7f838ccdfbd0>"
       ]
      }
     ],
     "prompt_number": 61
    },
    {
     "cell_type": "markdown",
     "metadata": {},
     "source": [
      "\u0423\u0431\u0435\u0440\u0435\u043c \u0441\u043b\u0438\u0448\u043a\u043e\u043c \u0447\u0430\u0441\u0442\u044b\u0435 \u0438 \u0441\u043b\u0438\u0448\u043a\u043e\u043c \u0440\u0435\u0434\u043a\u0438\u0435 \u043f\u0440\u0438\u0437\u043d\u0430\u043a\u0438"
     ]
    },
    {
     "cell_type": "code",
     "collapsed": false,
     "input": [
      "ganres<2000 "
     ],
     "language": "python",
     "metadata": {},
     "outputs": [
      {
       "metadata": {},
       "output_type": "pyout",
       "prompt_number": 66,
       "text": [
        "array([ True,  True,  True,  True, False,  True, False, False,  True,\n",
        "        True,  True,  True,  True,  True,  True,  True,  True,  True,\n",
        "        True,  True,  True,  True,  True, False,  True,  True,  True,\n",
        "        True,  True,  True,  True,  True, False, False, False, False,\n",
        "       False, False,  True,  True,  True,  True,  True,  True,  True,\n",
        "        True,  True,  True,  True,  True, False,  True,  True,  True,\n",
        "        True,  True,  True, False,  True,  True,  True, False,  True,\n",
        "        True,  True,  True,  True,  True,  True,  True,  True, False,\n",
        "        True, False, False,  True,  True,  True,  True,  True,  True,\n",
        "        True, False,  True,  True,  True,  True,  True,  True,  True,\n",
        "        True,  True,  True,  True,  True,  True,  True,  True, False,\n",
        "        True,  True,  True,  True,  True,  True,  True,  True, False,\n",
        "        True,  True,  True,  True,  True,  True,  True,  True,  True,\n",
        "       False, False,  True,  True,  True,  True,  True,  True,  True,\n",
        "        True,  True,  True,  True,  True, False,  True,  True,  True,\n",
        "        True,  True,  True,  True,  True,  True,  True,  True,  True,\n",
        "        True, False,  True,  True,  True,  True, False,  True,  True,\n",
        "        True,  True,  True,  True,  True,  True,  True,  True,  True], dtype=bool)"
       ]
      }
     ],
     "prompt_number": 66
    },
    {
     "cell_type": "code",
     "collapsed": false,
     "input": [
      "ganres>100"
     ],
     "language": "python",
     "metadata": {},
     "outputs": [
      {
       "metadata": {},
       "output_type": "pyout",
       "prompt_number": 65,
       "text": [
        "array([False,  True, False, False,  True,  True,  True,  True, False,\n",
        "       False, False, False, False, False, False,  True, False,  True,\n",
        "       False, False, False, False,  True,  True,  True,  True,  True,\n",
        "        True, False,  True, False,  True,  True,  True,  True,  True,\n",
        "        True,  True, False,  True, False, False, False,  True,  True,\n",
        "        True, False, False, False, False,  True,  True, False, False,\n",
        "        True, False, False,  True,  True, False,  True,  True,  True,\n",
        "        True,  True,  True,  True,  True,  True,  True, False,  True,\n",
        "        True,  True,  True, False, False, False, False, False, False,\n",
        "       False,  True, False, False, False, False, False, False, False,\n",
        "        True, False, False, False, False, False,  True, False,  True,\n",
        "       False, False, False,  True, False, False, False, False,  True,\n",
        "       False, False, False,  True, False,  True, False, False,  True,\n",
        "        True,  True, False,  True, False,  True, False,  True, False,\n",
        "       False, False,  True, False, False,  True, False,  True, False,\n",
        "        True, False,  True,  True,  True,  True, False,  True, False,\n",
        "       False,  True, False,  True, False, False,  True, False,  True,\n",
        "       False,  True, False, False, False, False, False, False, False], dtype=bool)"
       ]
      }
     ],
     "prompt_number": 65
    },
    {
     "cell_type": "code",
     "collapsed": false,
     "input": [
      "X[:,0]"
     ],
     "language": "python",
     "metadata": {},
     "outputs": [
      {
       "metadata": {},
       "output_type": "pyout",
       "prompt_number": 67,
       "text": [
        "array([0, 0, 0, ..., 0, 0, 0], dtype=int32)"
       ]
      }
     ],
     "prompt_number": 67
    },
    {
     "cell_type": "code",
     "collapsed": false,
     "input": [
      "for i in range(X.shape[1]):\n",
      "    if ganres[i] <100 or ganres[i]>2000:\n",
      "        X[:,i] = np.zeros(X.shape[0], dtype=np.int32)"
     ],
     "language": "python",
     "metadata": {},
     "outputs": [],
     "prompt_number": 70
    },
    {
     "cell_type": "code",
     "collapsed": false,
     "input": [
      "ganres = np.zeros(162, dtype = np.int32)\n",
      "for i in range(X.shape[0]):\n",
      "    ganres += X[i]\n",
      "    \n",
      "plt.hist(range(0, 162), bins = range(0, 163), weights = ganres)"
     ],
     "language": "python",
     "metadata": {},
     "outputs": [
      {
       "metadata": {},
       "output_type": "pyout",
       "prompt_number": 71,
       "text": [
        "(array([    0.,   140.,     0.,     0.,     0.,   448.,     0.,     0.,\n",
        "            0.,     0.,     0.,     0.,     0.,     0.,     0.,  1143.,\n",
        "            0.,  1603.,     0.,     0.,     0.,     0.,  1195.,     0.,\n",
        "          322.,   512.,   131.,   530.,     0.,   383.,     0.,  1165.,\n",
        "            0.,     0.,     0.,     0.,     0.,     0.,     0.,   210.,\n",
        "            0.,     0.,     0.,   151.,   135.,   221.,     0.,     0.,\n",
        "            0.,     0.,     0.,   221.,     0.,     0.,  1524.,     0.,\n",
        "            0.,     0.,  1366.,     0.,   105.,     0.,   965.,   928.,\n",
        "          898.,   960.,   948.,   533.,   973.,   186.,     0.,     0.,\n",
        "          850.,     0.,     0.,     0.,     0.,     0.,     0.,     0.,\n",
        "            0.,     0.,     0.,     0.,     0.,     0.,     0.,     0.,\n",
        "            0.,     0.,   154.,     0.,     0.,     0.,     0.,     0.,\n",
        "          156.,     0.,     0.,     0.,     0.,     0.,  1511.,     0.,\n",
        "            0.,     0.,     0.,     0.,     0.,     0.,     0.,  1928.,\n",
        "            0.,  1622.,     0.,     0.,   571.,     0.,     0.,     0.,\n",
        "          133.,     0.,   389.,     0.,   152.,     0.,     0.,     0.,\n",
        "         1191.,     0.,     0.,     0.,     0.,   163.,     0.,   515.,\n",
        "            0.,   348.,   417.,   647.,   446.,     0.,  1387.,     0.,\n",
        "            0.,     0.,     0.,   668.,     0.,     0.,     0.,     0.,\n",
        "          237.,     0.,   327.,     0.,     0.,     0.,     0.,     0.,\n",
        "            0.,     0.]),\n",
        " array([  0,   1,   2,   3,   4,   5,   6,   7,   8,   9,  10,  11,  12,\n",
        "         13,  14,  15,  16,  17,  18,  19,  20,  21,  22,  23,  24,  25,\n",
        "         26,  27,  28,  29,  30,  31,  32,  33,  34,  35,  36,  37,  38,\n",
        "         39,  40,  41,  42,  43,  44,  45,  46,  47,  48,  49,  50,  51,\n",
        "         52,  53,  54,  55,  56,  57,  58,  59,  60,  61,  62,  63,  64,\n",
        "         65,  66,  67,  68,  69,  70,  71,  72,  73,  74,  75,  76,  77,\n",
        "         78,  79,  80,  81,  82,  83,  84,  85,  86,  87,  88,  89,  90,\n",
        "         91,  92,  93,  94,  95,  96,  97,  98,  99, 100, 101, 102, 103,\n",
        "        104, 105, 106, 107, 108, 109, 110, 111, 112, 113, 114, 115, 116,\n",
        "        117, 118, 119, 120, 121, 122, 123, 124, 125, 126, 127, 128, 129,\n",
        "        130, 131, 132, 133, 134, 135, 136, 137, 138, 139, 140, 141, 142,\n",
        "        143, 144, 145, 146, 147, 148, 149, 150, 151, 152, 153, 154, 155,\n",
        "        156, 157, 158, 159, 160, 161, 162]),\n",
        " <a list of 162 Patch objects>)"
       ]
      },
      {
       "metadata": {},
       "output_type": "display_data",
       "png": "[encoded data removed]",
       "text": [
        "<matplotlib.figure.Figure at 0x7f838c25be50>"
       ]
      }
     ],
     "prompt_number": 71
    },
    {
     "cell_type": "markdown",
     "metadata": {},
     "source": [
      "\u043e\u0442\u043b\u0438\u0447\u043d\u043e. \u0442\u0435\u043f\u0435\u0440\u044c \u043f\u043e\u0441\u0442\u0440\u043e\u0438\u043d \u043d\u043e\u0440\u043c\u0438\u0440\u043e\u0432\u0430\u043d\u043d\u044b\u0435 \u043f\u0440\u0438\u0437\u043d\u0430\u043a\u0438 \u0438 \u043f\u043e\u043f\u0440\u043e\u0431\u0443\u0435\u043c \u043a\u043b\u0430\u0430\u0441\u0438\u0444\u0438\u043a\u0430\u0442\u043e\u0440\u044b"
     ]
    },
    {
     "cell_type": "code",
     "collapsed": false,
     "input": [
      "train_song_exist = []\n",
      "for i in range(len(train_gender_data)):\n",
      "    vector = np.zeros(162, dtype = np.int32)\n",
      "    for j in range(162):\n",
      "        if j in train_gender_data[i][0]:\n",
      "            if ganres[j] >=100 and ganres[j]<=2000:\n",
      "                vector[j] += (train_gender_data[i][0] == j).sum()\n",
      "    train_song_exist.append([vector, train_gender_data[i][1]])\n",
      "    \n",
      "X = []\n",
      "y = []\n",
      "for i in range(len(train_song_exist)):\n",
      "    X.append(train_song_exist[i][0])\n",
      "    y.append(train_song_exist[i][1])\n",
      "    \n",
      "X = np.array(X)\n",
      "y = np.array(y)\n",
      "import sklearn\n",
      "\n",
      "X = sklearn.preprocessing.normalize(X, axis=0)\n",
      "\n",
      "from sklearn.model_selection import train_test_split\n",
      "X_train, X_test, y_train, y_test = train_test_split(X, y, test_size = 0.3, random_state = 1)\n",
      "\n",
      "N_train, _ = X_train.shape \n",
      "N_test,  _ = X_test.shape \n",
      "\n",
      "print(N_train, N_test)"
     ],
     "language": "python",
     "metadata": {},
     "outputs": [
      {
       "output_type": "stream",
       "stream": "stdout",
       "text": [
        "(9564, 4099)\n"
       ]
      }
     ],
     "prompt_number": 83
    },
    {
     "cell_type": "code",
     "collapsed": false,
     "input": [
      "from sklearn.neighbors import KNeighborsClassifier\n",
      "knn = KNeighborsClassifier(n_neighbors = 3)\n",
      "knn.fit(X_train, y_train)\n",
      "\n",
      "y_train_predict = knn.predict(X_train)\n",
      "y_test_predict = knn.predict(X_test)\n",
      "\n",
      "err_train = np.mean(y_train != y_train_predict)\n",
      "err_test  = np.mean(y_test  != y_test_predict)\n",
      "\n",
      "print('knn', err_train, err_test)\n",
      "\n",
      "from sklearn.discriminant_analysis import LinearDiscriminantAnalysis\n",
      "model = LinearDiscriminantAnalysis()\n",
      "model.fit(X, y)\n",
      "\n",
      "y_train_predict = model.predict(X_train)\n",
      "y_test_predict = model.predict(X_test)\n",
      "\n",
      "err_train = np.mean(y_train != y_train_predict)\n",
      "err_test  = np.mean(y_test  != y_test_predict)\n",
      "\n",
      "print('lda', err_train, err_test)\n",
      "\n",
      "from sklearn.discriminant_analysis import QuadraticDiscriminantAnalysis\n",
      "model = QuadraticDiscriminantAnalysis()\n",
      "model.fit(X, y)\n",
      "\n",
      "y_train_predict = model.predict(X_train)\n",
      "y_test_predict = model.predict(X_test)\n",
      "\n",
      "err_train = np.mean(y_train != y_train_predict)\n",
      "err_test  = np.mean(y_test  != y_test_predict)\n",
      "\n",
      "print('qda', err_train, err_test)\n",
      "\n",
      "from sklearn.linear_model import LogisticRegression\n",
      "model = LogisticRegression()\n",
      "model.fit(X_train, y_train)\n",
      "\n",
      "y_train_predict = model.predict(X_train)\n",
      "y_test_predict = model.predict(X_test)\n",
      "\n",
      "err_train = np.mean(y_train != y_train_predict)\n",
      "err_test  = np.mean(y_test  != y_test_predict)\n",
      "\n",
      "print('logistic regression', err_train, err_test)"
     ],
     "language": "python",
     "metadata": {},
     "outputs": [
      {
       "output_type": "stream",
       "stream": "stdout",
       "text": [
        "('knn', 0.39366373902133001, 0.49719443766772381)\n",
        "('lda', 0.47051442910915936, 0.47279824347401805)"
       ]
      },
      {
       "output_type": "stream",
       "stream": "stdout",
       "text": [
        "\n",
        "('qda', 0.4974905897114178, 0.48743595999024153)"
       ]
      },
      {
       "output_type": "stream",
       "stream": "stdout",
       "text": [
        "\n",
        "('logistic regression', 0.48431618569636137, 0.48524030251280797)\n"
       ]
      }
     ],
     "prompt_number": 84
    },
    {
     "cell_type": "code",
     "collapsed": false,
     "input": [
      "from catboost import CatBoostClassifier\n",
      "model = CatBoostClassifier()\n",
      "model.fit(X_train, y_train)\n",
      "\n",
      "y_train_predict = model.predict(X_train)\n",
      "y_test_predict = model.predict(X_test)\n",
      "\n",
      "err_train = np.mean(y_train != y_train_predict)\n",
      "err_test  = np.mean(y_test  != y_test_predict)\n",
      "\n",
      "print('catboost', err_train, err_test)\n",
      "\n",
      "from xgboost import XGBClassifier\n",
      "model = XGBClassifier()\n",
      "model.fit(X_train, y_train)\n",
      "\n",
      "y_train_predict = model.predict(X_train)\n",
      "y_test_predict = model.predict(X_test)\n",
      "\n",
      "err_train = np.mean(y_train != y_train_predict)\n",
      "err_test  = np.mean(y_test  != y_test_predict)\n",
      "\n",
      "print('xgboost', err_train, err_test)"
     ],
     "language": "python",
     "metadata": {},
     "outputs": [
      {
       "output_type": "stream",
       "stream": "stdout",
       "text": [
        "('catboost', 0.42011710581346717, 0.47962917784825565)\n",
        "('xgboost', 0.43642827268925138, 0.4730422054159551)"
       ]
      },
      {
       "output_type": "stream",
       "stream": "stdout",
       "text": [
        "\n"
       ]
      }
     ],
     "prompt_number": 85
    },
    {
     "cell_type": "markdown",
     "metadata": {},
     "source": [
      "\u0418 \u043e\u043f\u044f\u0442\u044c \u043d\u0438\u0447\u0435\u0433\u043e \u043d\u0435 \u043f\u043e\u043b\u0443\u0447\u0438\u043b\u043e\u0441\u044c. \u041e\u0441\u0442\u0430\u043d\u043e\u0432\u0438\u043c\u0441\u044f \u043d\u0430 \u044d\u0442\u043e\u043c \u0438 \u043f\u043e\u043f\u0440\u043e\u0431\u0443\u0435\u043c \u043f\u043e\u0434\u043e\u0431\u0440\u0430\u0442\u044c \u043f\u0430\u0440\u0430\u043c\u0435\u0442\u0440\u044b \u0434\u043b\u044f \u0440\u0430\u0441\u0441\u043c\u043e\u0442\u0440\u0435\u043d\u043d\u044b\u0445 \u043c\u0435\u0442\u043e\u0434\u043e\u0432, \u0430 \u0442\u0430\u043a\u0436\u0435 \u043f\u043e\u0441\u043c\u043e\u0442\u0440\u0438\u043c \u043d\u0430 \u043f\u0430\u0440\u0443 \u0434\u0440\u0443\u0433\u0438\u0445"
     ]
    },
    {
     "cell_type": "code",
     "collapsed": false,
     "input": [
      "train_song_exist = []\n",
      "for i in range(len(train_gender_data)):\n",
      "    vector = np.zeros(162, dtype = np.int32)\n",
      "    for j in range(162):\n",
      "        if j in train_gender_data[i][0]:\n",
      "            vector[j] += (train_gender_data[i][0] == j).sum()\n",
      "    train_song_exist.append([vector, train_gender_data[i][1]])\n",
      "    \n",
      "X = []\n",
      "y = []\n",
      "for i in range(len(train_song_exist)):\n",
      "    X.append(train_song_exist[i][0])\n",
      "    y.append(train_song_exist[i][1])\n",
      "    \n",
      "X = np.array(X)\n",
      "y = np.array(y)\n",
      "import sklearn\n",
      "\n",
      "X = sklearn.preprocessing.normalize(X, axis=0)\n",
      "\n",
      "from sklearn.model_selection import train_test_split\n",
      "X_train, X_test, y_train, y_test = train_test_split(X, y, test_size = 0.3, random_state = 1)\n",
      "\n",
      "N_train, _ = X_train.shape \n",
      "N_test,  _ = X_test.shape \n",
      "\n",
      "print(N_train, N_test)"
     ],
     "language": "python",
     "metadata": {},
     "outputs": [
      {
       "output_type": "stream",
       "stream": "stdout",
       "text": [
        "(9564, 4099)\n"
       ]
      }
     ],
     "prompt_number": 88
    },
    {
     "cell_type": "code",
     "collapsed": false,
     "input": [
      "from sklearn.neighbors import KNeighborsClassifier\n",
      "KK = range(1, 200, 10)\n",
      "err_train = []\n",
      "err_test = []\n",
      "for k in KK:\n",
      "    model = KNeighborsClassifier(n_neighbors = k)\n",
      "    model.fit(X_train, y_train)\n",
      "    err_train.append(np.mean(model.predict(X_train) != y_train))\n",
      "    err_test.append(np.mean(model.predict(X_test) != y_test))\n",
      "    \n",
      "\n",
      "plt.plot(KK, err_train, '.-r', label = 'Train error')\n",
      "plt.plot(KK, err_test,  '.-b', label = 'Test error')    \n",
      "plt.legend(loc = 3)\n",
      "\n",
      "print(min(err_test))\n",
      "print(KK[np.argmin(err_test)])"
     ],
     "language": "python",
     "metadata": {},
     "outputs": [
      {
       "output_type": "stream",
       "stream": "stdout",
       "text": [
        "0.420102464016\n",
        "161\n"
       ]
      },
      {
       "metadata": {},
       "output_type": "display_data",
       "png": "[encoded data removed]",
       "text": [
        "<matplotlib.figure.Figure at 0x7f838c69e610>"
       ]
      }
     ],
     "prompt_number": 89
    },
    {
     "cell_type": "code",
     "collapsed": false,
     "input": [
      "lda_model = LinearDiscriminantAnalysis(n_components = 2)\n",
      "lda_model.fit(X, y)\n",
      "X_lda = lda_model.transform(X)\n",
      "plt.scatter(X_lda[y == 0, 0], X_lda[y == 0, 0], color = 'b', label = 'women', alpha = 0.05)\n",
      "plt.scatter(X_lda[y == 1, 0], X_lda[y == 1, 0], color = 'r', label = 'men', alpha = 0.05)\n",
      "\n",
      "plt.legend(loc = 9)"
     ],
     "language": "python",
     "metadata": {},
     "outputs": [
      {
       "metadata": {},
       "output_type": "pyout",
       "prompt_number": 112,
       "text": [
        "<matplotlib.legend.Legend at 0x7f837d101f10>"
       ]
      },
      {
       "metadata": {},
       "output_type": "display_data",
       "png": "[encoded data removed]",
       "text": [
        "<matplotlib.figure.Figure at 0x7f837d204150>"
       ]
      }
     ],
     "prompt_number": 112
    },
    {
     "cell_type": "code",
     "collapsed": false,
     "input": [
      "from sklearn.decomposition import PCA\n",
      "\n",
      "pca = PCA(n_components=1)\n",
      "\n",
      "pca.fit(X)\n",
      "\n",
      "X_pca = pca.transform(X)\n",
      "\n",
      "plt.scatter(X_pca[y == 0, 0], X_pca[y == 0, 0], color = 'b', label = 'women', alpha = 0.05)\n",
      "plt.scatter(X_pca[y == 1, 0], X_pca[y == 1, 0], color = 'r', label = 'men', alpha = 0.05)\n",
      "\n",
      "plt.legend(loc = 9)"
     ],
     "language": "python",
     "metadata": {},
     "outputs": [
      {
       "metadata": {},
       "output_type": "pyout",
       "prompt_number": 113,
       "text": [
        "<matplotlib.legend.Legend at 0x7f837d04fc50>"
       ]
      },
      {
       "metadata": {},
       "output_type": "display_data",
       "png": "[encoded data removed]",
       "text": [
        "<matplotlib.figure.Figure at 0x7f837d147d90>"
       ]
      }
     ],
     "prompt_number": 113
    },
    {
     "cell_type": "code",
     "collapsed": false,
     "input": [
      "from sklearn.decomposition import PCA\n",
      "\n",
      "pca = PCA(n_components=2)\n",
      "\n",
      "pca.fit(X)\n",
      "\n",
      "X_pca = pca.transform(X)\n",
      "\n",
      "plt.scatter(X_pca[y == 0, 0], X_pca[y == 0, 1], color = 'b', label = 'women', alpha = 0.1)\n",
      "plt.scatter(X_pca[y == 1, 0], X_pca[y == 1, 1], color = 'r', label = 'men', alpha = 0.1)\n",
      "\n",
      "plt.legend(loc = 9)"
     ],
     "language": "python",
     "metadata": {},
     "outputs": [
      {
       "metadata": {},
       "output_type": "pyout",
       "prompt_number": 115,
       "text": [
        "<matplotlib.legend.Legend at 0x7f837ced9b50>"
       ]
      },
      {
       "metadata": {},
       "output_type": "display_data",
       "png": "[encoded data removed]",
       "text": [
        "<matplotlib.figure.Figure at 0x7f837cee0ed0>"
       ]
      }
     ],
     "prompt_number": 115
    },
    {
     "cell_type": "code",
     "collapsed": false,
     "input": [
      "from sklearn.linear_model import LogisticRegression\n",
      "\n",
      "CC = [0.001, 0.01,0.1,1,10]\n",
      "err_train = []\n",
      "err_test = []\n",
      "for c in CC:\n",
      "    model = LogisticRegression(C = c)\n",
      "    model.fit(X_train, y_train)\n",
      "    err_train.append(np.mean(model.predict(X_train) != y_train))\n",
      "    err_test.append(np.mean(model.predict(X_test) != y_test))\n",
      "    \n",
      "\n",
      "plt.plot(CC, err_train, '.-r', label = 'Train error')\n",
      "plt.plot(CC, err_test,  '.-b', label = 'Test error')    \n",
      "plt.legend(loc = 3)\n",
      "\n",
      "print(min(err_test))\n",
      "print(CC[np.argmin(err_test)])"
     ],
     "language": "python",
     "metadata": {},
     "outputs": [
      {
       "output_type": "stream",
       "stream": "stdout",
       "text": [
        "0.420590387899\n",
        "10\n"
       ]
      },
      {
       "metadata": {},
       "output_type": "display_data",
       "png": "[encoded data removed]",
       "text": [
        "<matplotlib.figure.Figure at 0x7f838c6b1690>"
       ]
      }
     ],
     "prompt_number": 118
    },
    {
     "cell_type": "markdown",
     "metadata": {},
     "source": [
      "** \u041d\u0430\u0438\u0432\u043d\u044b\u0439 \u0431\u0430\u0439\u0435\u0441\u043e\u0432\u0441\u043a\u0438\u0439 \u043a\u043b\u0430\u0441\u0441\u0438\u0444\u0438\u043a\u0430\u0442\u043e\u0440 ** \u2014 \u043f\u0440\u043e\u0441\u0442\u043e\u0439 \u0432\u0435\u0440\u043e\u044f\u0442\u043d\u043e\u0441\u0442\u043d\u044b\u0439 \u043a\u043b\u0430\u0441\u0441\u0438\u0444\u0438\u043a\u0430\u0442\u043e\u0440, \u043e\u0441\u043d\u043e\u0432\u0430\u043d\u043d\u044b\u0439 \u043d\u0430 \u043f\u0440\u0438\u043c\u0435\u043d\u0435\u043d\u0438\u0438 \u0422\u0435\u043e\u0440\u0435\u043c\u044b \u0411\u0430\u0439\u0435\u0441\u0430 \u0441\u043e \u0441\u0442\u0440\u043e\u0433\u0438\u043c\u0438 (\u043d\u0430\u0438\u0432\u043d\u044b\u043c\u0438) \u043f\u0440\u0435\u0434\u043f\u043e\u043b\u043e\u0436\u0435\u043d\u0438\u044f\u043c\u0438 \u043e \u043d\u0435\u0437\u0430\u0432\u0438\u0441\u0438\u043c\u043e\u0441\u0442\u0438."
     ]
    },
    {
     "cell_type": "code",
     "collapsed": false,
     "input": [
      "from sklearn.naive_bayes import BernoulliNB\n",
      "nb_model = BernoulliNB()\n",
      "nb_model.fit(X_train, y_train)\n",
      "\n",
      "y_train_pred = nb_model.predict(X_train)\n",
      "y_test_pred = nb_model.predict(X_test)\n",
      "\n",
      "print(np.mean(y_train_pred != y_train))\n",
      "print(np.mean(y_test_pred != y_test))"
     ],
     "language": "python",
     "metadata": {},
     "outputs": [
      {
       "output_type": "stream",
       "stream": "stdout",
       "text": [
        "0.437892095358\n",
        "0.443034886558\n"
       ]
      }
     ],
     "prompt_number": 120
    },
    {
     "cell_type": "code",
     "collapsed": false,
     "input": [
      "from sklearn.naive_bayes import MultinomialNB\n",
      "nb_model = MultinomialNB()\n",
      "nb_model.fit(X_train, y_train)\n",
      "\n",
      "y_train_pred = nb_model.predict(X_train)\n",
      "y_test_pred = nb_model.predict(X_test)\n",
      "\n",
      "print(np.mean(y_train_pred != y_train))\n",
      "print(np.mean(y_test_pred != y_test))"
     ],
     "language": "python",
     "metadata": {},
     "outputs": [
      {
       "output_type": "stream",
       "stream": "stdout",
       "text": [
        "0.479401923881\n",
        "0.485240302513\n"
       ]
      }
     ],
     "prompt_number": 122
    },
    {
     "cell_type": "code",
     "collapsed": false,
     "input": [
      "from sklearn.naive_bayes import GaussianNB\n",
      "nb_model = GaussianNB()\n",
      "nb_model.fit(X_train, y_train)\n",
      "\n",
      "y_train_pred = nb_model.predict(X_train)\n",
      "y_test_pred = nb_model.predict(X_test)\n",
      "\n",
      "print(np.mean(y_train_pred != y_train))\n",
      "print(np.mean(y_test_pred != y_test))"
     ],
     "language": "python",
     "metadata": {},
     "outputs": [
      {
       "output_type": "stream",
       "stream": "stdout",
       "text": [
        "0.494667503137\n",
        "0.503293486216\n"
       ]
      }
     ],
     "prompt_number": 123
    },
    {
     "cell_type": "markdown",
     "metadata": {},
     "source": [
      "\u041f\u043e\u0441\u0447\u0438\u0442\u0430\u0435\u043c \u0441 \u043f\u043e\u043c\u043e\u0449\u044c\u044e \u043c\u0435\u0442\u043e\u0434\u0430 \u043a\u0440\u043e\u0441\u0441-\u0432\u0430\u043b\u0438\u0434\u0430\u0446\u0438\u0438 \u043e\u0448\u0438\u0431\u043a\u0443 \u043d\u0430\u0448\u0435\u0433\u043e \u043b\u0443\u0447\u0448\u0435\u0433\u043e \u043a\u043b\u0430\u0441\u0441\u0438\u0444\u0438\u043a\u0430\u0442\u043e\u0440\u0430"
     ]
    },
    {
     "cell_type": "code",
     "collapsed": false,
     "input": [
      "from sklearn.model_selection import cross_val_score\n",
      "clf = XGBClassifier()\n",
      "scores = cross_val_score(clf, X, y, cv=5)\n",
      "scores.mean()                                              "
     ],
     "language": "python",
     "metadata": {},
     "outputs": [
      {
       "metadata": {},
       "output_type": "pyout",
       "prompt_number": 125,
       "text": [
        "0.59481638297156825"
       ]
      }
     ],
     "prompt_number": 125
    },
    {
     "cell_type": "code",
     "collapsed": false,
     "input": [
      "from sklearn.model_selection import cross_val_score\n",
      "clf = CatBoostClassifier()\n",
      "scores = cross_val_score(clf, X, y, cv=5)\n",
      "scores.mean()    "
     ],
     "language": "python",
     "metadata": {},
     "outputs": [
      {
       "metadata": {},
       "output_type": "pyout",
       "prompt_number": 126,
       "text": [
        "0.59935670475115965"
       ]
      }
     ],
     "prompt_number": 126
    },
    {
     "cell_type": "code",
     "collapsed": false,
     "input": [
      "model = XGBClassifier()\n",
      "model.fit(X_train, y_train)\n",
      "\n",
      "from sklearn.metrics import roc_curve\n",
      "proba = model.predict_proba(X_test)[:, 1]\n",
      "\n",
      "\n",
      "fpr, tpr, thresholds = roc_curve(y_test, proba)\n",
      "\n",
      "\n",
      "plt.title('Receiver Operating Characteristic')\n",
      "plt.plot(np.concatenate(([0], fpr)), np.concatenate(([0], tpr)))\n",
      "#plt.plot(fpr, tpr)\n",
      "plt.xlabel('False Positive Rate (1 - Specificity)')\n",
      "plt.ylabel('True Positive Rate (Sensitivity)')\n",
      "plt.plot([0, 1], [0, 1], 'k--')\n",
      "plt.axis([-0.05, 1.05, -0.05, 1.05])"
     ],
     "language": "python",
     "metadata": {},
     "outputs": [
      {
       "metadata": {},
       "output_type": "pyout",
       "prompt_number": 128,
       "text": [
        "[-0.05, 1.05, -0.05, 1.05]"
       ]
      },
      {
       "metadata": {},
       "output_type": "display_data",
       "png": "[encoded data removed]",
       "text": [
        "<matplotlib.figure.Figure at 0x7f837d614150>"
       ]
      }
     ],
     "prompt_number": 128
    },
    {
     "cell_type": "code",
     "collapsed": false,
     "input": [
      "model = CatBoostClassifier()\n",
      "model.fit(X_train, y_train)\n",
      "\n",
      "from sklearn.metrics import roc_curve\n",
      "proba = model.predict_proba(X_test)[:, 1]\n",
      "\n",
      "\n",
      "fpr, tpr, thresholds = roc_curve(y_test, proba)\n",
      "\n",
      "\n",
      "plt.title('Receiver Operating Characteristic')\n",
      "plt.plot(np.concatenate(([0], fpr)), np.concatenate(([0], tpr)))\n",
      "#plt.plot(fpr, tpr)\n",
      "plt.xlabel('False Positive Rate (1 - Specificity)')\n",
      "plt.ylabel('True Positive Rate (Sensitivity)')\n",
      "plt.plot([0, 1], [0, 1], 'k--')\n",
      "plt.axis([-0.05, 1.05, -0.05, 1.05])"
     ],
     "language": "python",
     "metadata": {},
     "outputs": [
      {
       "metadata": {},
       "output_type": "pyout",
       "prompt_number": 129,
       "text": [
        "[-0.05, 1.05, -0.05, 1.05]"
       ]
      },
      {
       "metadata": {},
       "output_type": "display_data",
       "png": "[encoded data removed]",
       "text": [
        "<matplotlib.figure.Figure at 0x7f837cd3da50>"
       ]
      }
     ],
     "prompt_number": 129
    },
    {
     "cell_type": "code",
     "collapsed": false,
     "input": [
      "from sklearn.model_selection import cross_val_score\n",
      "clf = KNeighborsClassifier(n_neighbors = 161)\n",
      "scores = cross_val_score(clf, X, y, cv=5)\n",
      "scores.mean()  "
     ],
     "language": "python",
     "metadata": {},
     "outputs": [
      {
       "metadata": {},
       "output_type": "pyout",
       "prompt_number": 130,
       "text": [
        "0.58310506559440112"
       ]
      }
     ],
     "prompt_number": 130
    },
    {
     "cell_type": "code",
     "collapsed": false,
     "input": [
      "from sklearn.model_selection import cross_val_score\n",
      "clf = RandomForestClassifier(n_estimators = 451)\n",
      "scores = cross_val_score(clf, X, y, cv=5)\n",
      "scores.mean() "
     ],
     "language": "python",
     "metadata": {},
     "outputs": [
      {
       "metadata": {},
       "output_type": "pyout",
       "prompt_number": 132,
       "text": [
        "0.58969337831296365"
       ]
      }
     ],
     "prompt_number": 132
    },
    {
     "cell_type": "markdown",
     "metadata": {},
     "source": [
      "\u041f\u043e\u043b\u0443\u0447\u0438\u043b\u0438 \u0441\u043b\u0435\u0434\u0443\u044e\u0449\u0435\u0435. \u041b\u0443\u0447\u0448\u0438\u0439 \u043f\u043e\u043a\u0430\u0437\u0430\u0442\u0435\u043b\u044c \u043a\u0430\u0447\u0435\u0441\u0442\u0432\u0430 \u0443 CatBoost - 0.59935670475115965. \u041f\u0440\u0435\u0434\u043f\u043e\u0447\u0442\u0435\u043d\u0438\u044f \u043c\u0443\u0436\u0447\u0438\u043d \u0438 \u0436\u0435\u043d\u0449\u0438\u043d \u0432 \u043c\u0443\u0437\u044b\u043a\u0435 \u043d\u0435 \u0442\u0430\u043a \u0443\u0436 \u0438 \u0440\u0430\u0437\u043b\u0438\u0447\u0430\u044e\u0442\u0441\u044f."
     ]
    },
    {
     "cell_type": "markdown",
     "metadata": {},
     "source": [
      "## \u041e\u0441\u043d\u043e\u0432\u043d\u0430\u044f \u0437\u0430\u0434\u0430\u0447\u0430. \u0420\u0435\u043a\u043e\u043c\u0435\u043d\u0434\u0430\u0446\u0438\u0438 \u043c\u0443\u0437\u044b\u043a\u0438"
     ]
    },
    {
     "cell_type": "markdown",
     "metadata": {},
     "source": [
      "\u041f\u043e\u0434\u043a\u043b\u044e\u0447\u0430\u0435\u043c \u0431\u0438\u0431\u043b\u0438\u043e\u0442\u0435\u043a\u0438. "
     ]
    },
    {
     "cell_type": "code",
     "collapsed": false,
     "input": [
      "import numpy as np \n",
      "import pandas as pd \n",
      "\n",
      "from sklearn.model_selection import KFold\n",
      "from sklearn.metrics import log_loss"
     ],
     "language": "python",
     "metadata": {},
     "outputs": [],
     "prompt_number": 1
    },
    {
     "cell_type": "code",
     "collapsed": false,
     "input": [
      "pd.__version__"
     ],
     "language": "python",
     "metadata": {},
     "outputs": [
      {
       "metadata": {},
       "output_type": "pyout",
       "prompt_number": 2,
       "text": [
        "u'0.20.3'"
       ]
      }
     ],
     "prompt_number": 2
    },
    {
     "cell_type": "markdown",
     "metadata": {},
     "source": [
      "\u0417\u0430\u0433\u0440\u0443\u0436\u0430\u0435\u043c \u0434\u0430\u0442\u0430\u0441\u0435\u0442\u044b"
     ]
    },
    {
     "cell_type": "code",
     "collapsed": false,
     "input": [
      "test = pd.read_csv('test.csv',dtype={'msno' : 'category',\n",
      "                                                'source_system_tab' : 'category',\n",
      "                                                'source_screen_name' : 'category',\n",
      "                                                'source_type' : 'category',\n",
      "                                                'song_id' : 'category'})\n",
      "\n",
      "train = pd.read_csv('train.csv',dtype={'msno' : 'category',\n",
      "                                                 'source_system_tab' : 'category',\n",
      "                                                  'source_screen_name' : 'category',\n",
      "                                                  'source_type' : 'category',\n",
      "                                                  'target' : np.uint8,\n",
      "                                                  'song_id' : 'category'})\n",
      "\n",
      "members = pd.read_csv('members.csv',dtype={'city' : 'category',\n",
      "                                                      'bd' : np.uint8,\n",
      "                                                      'gender' : 'category',\n",
      "                                                      'registered_via' : 'category'},\n",
      "                                                      parse_dates=['registration_init_time','expiration_date'])"
     ],
     "language": "python",
     "metadata": {},
     "outputs": [],
     "prompt_number": 3
    },
    {
     "cell_type": "code",
     "collapsed": false,
     "input": [
      "members['membership_days'] = (members['expiration_date'] - members['registration_init_time']).dt.days.astype(int)\n",
      "\n",
      "members = members.drop(['registration_init_time','expiration_date'], axis=1)"
     ],
     "language": "python",
     "metadata": {},
     "outputs": [],
     "prompt_number": 4
    },
    {
     "cell_type": "code",
     "collapsed": false,
     "input": [
      "test = pd.merge(left = test,right = members,how='left',on='msno')\n",
      "test.msno = test.msno.astype('category')\n",
      "\n",
      "train = pd.merge(left = train,right = members,how='left',on='msno')\n",
      "train.msno = train.msno.astype('category')\n",
      "\n",
      "del members"
     ],
     "language": "python",
     "metadata": {},
     "outputs": [],
     "prompt_number": 5
    },
    {
     "cell_type": "code",
     "collapsed": false,
     "input": [
      "songs = pd.read_csv('songs.csv',dtype={'genre_ids': 'category',\n",
      "                                                  'language' : 'category',\n",
      "                                                  'artist_name' : 'category',\n",
      "                                                  'composer' : 'category',\n",
      "                                                  'lyricist' : 'category',\n",
      "                                                  'song_id' : 'category'})\n",
      "\n",
      "test = pd.merge(left = test,right = songs,how = 'left',on='song_id')\n",
      "test.song_length.fillna(200000,inplace=True)\n",
      "test.song_length = test.song_length.astype(np.uint32)\n",
      "test.song_id = test.song_id.astype('category')\n",
      "\n",
      "train = pd.merge(left = train,right = songs,how = 'left',on='song_id')\n",
      "train.song_length.fillna(200000,inplace=True)\n",
      "train.song_length = train.song_length.astype(np.uint32)\n",
      "train.song_id = train.song_id.astype('category')\n",
      "\n",
      "del songs"
     ],
     "language": "python",
     "metadata": {},
     "outputs": [],
     "prompt_number": 6
    },
    {
     "cell_type": "code",
     "collapsed": false,
     "input": [
      "import lightgbm as lgb"
     ],
     "language": "python",
     "metadata": {},
     "outputs": [],
     "prompt_number": 7
    },
    {
     "cell_type": "code",
     "collapsed": false,
     "input": [
      "kf = KFold(n_splits=3)\n",
      "\n",
      "predictions = np.zeros(shape=[len(test)])\n",
      "\n",
      "for train_indices ,validate_indices in kf.split(train) : \n",
      "    train_data = lgb.Dataset(train.drop(['target'],axis=1).loc[train_indices,:],label=train.loc[train_indices,'target'])\n",
      "    val_data = lgb.Dataset(train.drop(['target'],axis=1).loc[validate_indices,:],label=train.loc[validate_indices,'target'])\n",
      "    \n",
      "    params = {\n",
      "        'objective': 'binary',\n",
      "        'metric': 'binary_logloss',\n",
      "        'boosting': 'gbdt',\n",
      "        'learning_rate': 0.1 ,\n",
      "        'verbose': 0,\n",
      "        'num_leaves': 108,\n",
      "        'bagging_fraction': 0.95,\n",
      "        'bagging_freq': 1,\n",
      "        'bagging_seed': 1,\n",
      "        'feature_fraction': 0.9,\n",
      "        'feature_fraction_seed': 1,\n",
      "        'max_bin': 128,\n",
      "        'max_depth': 10,\n",
      "        'num_rounds': 200,\n",
      "        'metric' : 'auc',\n",
      "        } \n",
      "    \n",
      "    bst = lgb.train(params, train_data, 100, valid_sets=[val_data])\n",
      "    \n",
      "    predictions += bst.predict(test.drop(['id'],axis=1))\n",
      "    \n",
      "    del bst\n",
      "\n",
      "print('Training process finished. Generating Output...')\n",
      "\n",
      "predictions = predictions/3\n",
      "\n",
      "submission = pd.read_csv('sample_submission.csv')\n",
      "submission.target=predictions\n",
      "submission.to_csv('submission.csv',index=False)\n",
      "\n",
      "print('Output created.')"
     ],
     "language": "python",
     "metadata": {},
     "outputs": [
      {
       "output_type": "stream",
       "stream": "stdout",
       "text": [
        "[1]\tvalid_0's auc: 0.719273\n",
        "[2]\tvalid_0's auc: 0.72641"
       ]
      },
      {
       "output_type": "stream",
       "stream": "stdout",
       "text": [
        "\n",
        "[3]\tvalid_0's auc: 0.732745"
       ]
      },
      {
       "output_type": "stream",
       "stream": "stdout",
       "text": [
        "\n",
        "[4]\tvalid_0's auc: 0.733666"
       ]
      },
      {
       "output_type": "stream",
       "stream": "stdout",
       "text": [
        "\n",
        "[5]\tvalid_0's auc: 0.737483"
       ]
      },
      {
       "output_type": "stream",
       "stream": "stdout",
       "text": [
        "\n",
        "[6]\tvalid_0's auc: 0.739963"
       ]
      },
      {
       "output_type": "stream",
       "stream": "stdout",
       "text": [
        "\n",
        "[7]\tvalid_0's auc: 0.741058"
       ]
      },
      {
       "output_type": "stream",
       "stream": "stdout",
       "text": [
        "\n",
        "[8]\tvalid_0's auc: 0.742271"
       ]
      },
      {
       "output_type": "stream",
       "stream": "stdout",
       "text": [
        "\n",
        "[9]\tvalid_0's auc: 0.743342"
       ]
      },
      {
       "output_type": "stream",
       "stream": "stdout",
       "text": [
        "\n",
        "[10]\tvalid_0's auc: 0.745932"
       ]
      },
      {
       "output_type": "stream",
       "stream": "stdout",
       "text": [
        "\n",
        "[11]\tvalid_0's auc: 0.747951"
       ]
      },
      {
       "output_type": "stream",
       "stream": "stdout",
       "text": [
        "\n",
        "[12]\tvalid_0's auc: 0.750661"
       ]
      },
      {
       "output_type": "stream",
       "stream": "stdout",
       "text": [
        "\n",
        "[13]\tvalid_0's auc: 0.75147"
       ]
      },
      {
       "output_type": "stream",
       "stream": "stdout",
       "text": [
        "\n",
        "[14]\tvalid_0's auc: 0.752303"
       ]
      },
      {
       "output_type": "stream",
       "stream": "stdout",
       "text": [
        "\n",
        "[15]\tvalid_0's auc: 0.752975"
       ]
      },
      {
       "output_type": "stream",
       "stream": "stdout",
       "text": [
        "\n",
        "[16]\tvalid_0's auc: 0.75378"
       ]
      },
      {
       "output_type": "stream",
       "stream": "stdout",
       "text": [
        "\n",
        "[17]\tvalid_0's auc: 0.754403"
       ]
      },
      {
       "output_type": "stream",
       "stream": "stdout",
       "text": [
        "\n",
        "[18]\tvalid_0's auc: 0.755379"
       ]
      },
      {
       "output_type": "stream",
       "stream": "stdout",
       "text": [
        "\n",
        "[19]\tvalid_0's auc: 0.755861"
       ]
      },
      {
       "output_type": "stream",
       "stream": "stdout",
       "text": [
        "\n",
        "[20]\tvalid_0's auc: 0.75708"
       ]
      },
      {
       "output_type": "stream",
       "stream": "stdout",
       "text": [
        "\n",
        "[21]\tvalid_0's auc: 0.75799"
       ]
      },
      {
       "output_type": "stream",
       "stream": "stdout",
       "text": [
        "\n",
        "[22]\tvalid_0's auc: 0.758527"
       ]
      },
      {
       "output_type": "stream",
       "stream": "stdout",
       "text": [
        "\n",
        "[23]\tvalid_0's auc: 0.758925"
       ]
      },
      {
       "output_type": "stream",
       "stream": "stdout",
       "text": [
        "\n",
        "[24]\tvalid_0's auc: 0.759267"
       ]
      },
      {
       "output_type": "stream",
       "stream": "stdout",
       "text": [
        "\n",
        "[25]\tvalid_0's auc: 0.759458"
       ]
      },
      {
       "output_type": "stream",
       "stream": "stdout",
       "text": [
        "\n",
        "[26]\tvalid_0's auc: 0.759704"
       ]
      },
      {
       "output_type": "stream",
       "stream": "stdout",
       "text": [
        "\n",
        "[27]\tvalid_0's auc: 0.759771"
       ]
      },
      {
       "output_type": "stream",
       "stream": "stdout",
       "text": [
        "\n",
        "[28]\tvalid_0's auc: 0.759872"
       ]
      },
      {
       "output_type": "stream",
       "stream": "stdout",
       "text": [
        "\n",
        "[29]\tvalid_0's auc: 0.759948"
       ]
      },
      {
       "output_type": "stream",
       "stream": "stdout",
       "text": [
        "\n",
        "[30]\tvalid_0's auc: 0.759981"
       ]
      },
      {
       "output_type": "stream",
       "stream": "stdout",
       "text": [
        "\n",
        "[31]\tvalid_0's auc: 0.760036"
       ]
      },
      {
       "output_type": "stream",
       "stream": "stdout",
       "text": [
        "\n",
        "[32]\tvalid_0's auc: 0.760094"
       ]
      },
      {
       "output_type": "stream",
       "stream": "stdout",
       "text": [
        "\n",
        "[33]\tvalid_0's auc: 0.760167"
       ]
      },
      {
       "output_type": "stream",
       "stream": "stdout",
       "text": [
        "\n",
        "[34]\tvalid_0's auc: 0.760239"
       ]
      },
      {
       "output_type": "stream",
       "stream": "stdout",
       "text": [
        "\n",
        "[35]\tvalid_0's auc: 0.760376"
       ]
      },
      {
       "output_type": "stream",
       "stream": "stdout",
       "text": [
        "\n",
        "[36]\tvalid_0's auc: 0.760385"
       ]
      },
      {
       "output_type": "stream",
       "stream": "stdout",
       "text": [
        "\n",
        "[37]\tvalid_0's auc: 0.760383"
       ]
      },
      {
       "output_type": "stream",
       "stream": "stdout",
       "text": [
        "\n",
        "[38]\tvalid_0's auc: 0.760417"
       ]
      },
      {
       "output_type": "stream",
       "stream": "stdout",
       "text": [
        "\n",
        "[39]\tvalid_0's auc: 0.760843"
       ]
      },
      {
       "output_type": "stream",
       "stream": "stdout",
       "text": [
        "\n",
        "[40]\tvalid_0's auc: 0.760839"
       ]
      },
      {
       "output_type": "stream",
       "stream": "stdout",
       "text": [
        "\n",
        "[41]\tvalid_0's auc: 0.761116"
       ]
      },
      {
       "output_type": "stream",
       "stream": "stdout",
       "text": [
        "\n",
        "[42]\tvalid_0's auc: 0.761109"
       ]
      },
      {
       "output_type": "stream",
       "stream": "stdout",
       "text": [
        "\n",
        "[43]\tvalid_0's auc: 0.761084"
       ]
      },
      {
       "output_type": "stream",
       "stream": "stdout",
       "text": [
        "\n",
        "[44]\tvalid_0's auc: 0.761129"
       ]
      },
      {
       "output_type": "stream",
       "stream": "stdout",
       "text": [
        "\n",
        "[45]\tvalid_0's auc: 0.761146"
       ]
      },
      {
       "output_type": "stream",
       "stream": "stdout",
       "text": [
        "\n",
        "[46]\tvalid_0's auc: 0.761274"
       ]
      },
      {
       "output_type": "stream",
       "stream": "stdout",
       "text": [
        "\n",
        "[47]\tvalid_0's auc: 0.761485"
       ]
      },
      {
       "output_type": "stream",
       "stream": "stdout",
       "text": [
        "\n",
        "[48]\tvalid_0's auc: 0.761494"
       ]
      },
      {
       "output_type": "stream",
       "stream": "stdout",
       "text": [
        "\n",
        "[49]\tvalid_0's auc: 0.761524"
       ]
      },
      {
       "output_type": "stream",
       "stream": "stdout",
       "text": [
        "\n",
        "[50]\tvalid_0's auc: 0.761537"
       ]
      },
      {
       "output_type": "stream",
       "stream": "stdout",
       "text": [
        "\n",
        "[51]\tvalid_0's auc: 0.761548"
       ]
      },
      {
       "output_type": "stream",
       "stream": "stdout",
       "text": [
        "\n",
        "[52]\tvalid_0's auc: 0.761547"
       ]
      },
      {
       "output_type": "stream",
       "stream": "stdout",
       "text": [
        "\n",
        "[53]\tvalid_0's auc: 0.761551"
       ]
      },
      {
       "output_type": "stream",
       "stream": "stdout",
       "text": [
        "\n",
        "[54]\tvalid_0's auc: 0.761666"
       ]
      },
      {
       "output_type": "stream",
       "stream": "stdout",
       "text": [
        "\n",
        "[55]\tvalid_0's auc: 0.761669"
       ]
      },
      {
       "output_type": "stream",
       "stream": "stdout",
       "text": [
        "\n",
        "[56]\tvalid_0's auc: 0.761645"
       ]
      },
      {
       "output_type": "stream",
       "stream": "stdout",
       "text": [
        "\n",
        "[57]\tvalid_0's auc: 0.761755"
       ]
      },
      {
       "output_type": "stream",
       "stream": "stdout",
       "text": [
        "\n",
        "[58]\tvalid_0's auc: 0.761817"
       ]
      },
      {
       "output_type": "stream",
       "stream": "stdout",
       "text": [
        "\n",
        "[59]\tvalid_0's auc: 0.761804"
       ]
      },
      {
       "output_type": "stream",
       "stream": "stdout",
       "text": [
        "\n",
        "[60]\tvalid_0's auc: 0.761805"
       ]
      },
      {
       "output_type": "stream",
       "stream": "stdout",
       "text": [
        "\n",
        "[61]\tvalid_0's auc: 0.76178"
       ]
      },
      {
       "output_type": "stream",
       "stream": "stdout",
       "text": [
        "\n",
        "[62]\tvalid_0's auc: 0.761792"
       ]
      },
      {
       "output_type": "stream",
       "stream": "stdout",
       "text": [
        "\n",
        "[63]\tvalid_0's auc: 0.761792"
       ]
      },
      {
       "output_type": "stream",
       "stream": "stdout",
       "text": [
        "\n",
        "[64]\tvalid_0's auc: 0.76178"
       ]
      },
      {
       "output_type": "stream",
       "stream": "stdout",
       "text": [
        "\n",
        "[65]\tvalid_0's auc: 0.761775"
       ]
      },
      {
       "output_type": "stream",
       "stream": "stdout",
       "text": [
        "\n",
        "[66]\tvalid_0's auc: 0.761787"
       ]
      },
      {
       "output_type": "stream",
       "stream": "stdout",
       "text": [
        "\n",
        "[67]\tvalid_0's auc: 0.761767"
       ]
      },
      {
       "output_type": "stream",
       "stream": "stdout",
       "text": [
        "\n",
        "[68]\tvalid_0's auc: 0.761749"
       ]
      },
      {
       "output_type": "stream",
       "stream": "stdout",
       "text": [
        "\n",
        "[69]\tvalid_0's auc: 0.761743"
       ]
      },
      {
       "output_type": "stream",
       "stream": "stdout",
       "text": [
        "\n",
        "[70]\tvalid_0's auc: 0.761851"
       ]
      },
      {
       "output_type": "stream",
       "stream": "stdout",
       "text": [
        "\n",
        "[71]\tvalid_0's auc: 0.761837"
       ]
      },
      {
       "output_type": "stream",
       "stream": "stdout",
       "text": [
        "\n",
        "[72]\tvalid_0's auc: 0.761828"
       ]
      },
      {
       "output_type": "stream",
       "stream": "stdout",
       "text": [
        "\n",
        "[73]\tvalid_0's auc: 0.761809"
       ]
      },
      {
       "output_type": "stream",
       "stream": "stdout",
       "text": [
        "\n",
        "[74]\tvalid_0's auc: 0.761778"
       ]
      },
      {
       "output_type": "stream",
       "stream": "stdout",
       "text": [
        "\n",
        "[75]\tvalid_0's auc: 0.761741"
       ]
      },
      {
       "output_type": "stream",
       "stream": "stdout",
       "text": [
        "\n",
        "[76]\tvalid_0's auc: 0.761708"
       ]
      },
      {
       "output_type": "stream",
       "stream": "stdout",
       "text": [
        "\n",
        "[77]\tvalid_0's auc: 0.761691"
       ]
      },
      {
       "output_type": "stream",
       "stream": "stdout",
       "text": [
        "\n",
        "[78]\tvalid_0's auc: 0.761662"
       ]
      },
      {
       "output_type": "stream",
       "stream": "stdout",
       "text": [
        "\n",
        "[79]\tvalid_0's auc: 0.761658"
       ]
      },
      {
       "output_type": "stream",
       "stream": "stdout",
       "text": [
        "\n",
        "[80]\tvalid_0's auc: 0.761654"
       ]
      },
      {
       "output_type": "stream",
       "stream": "stdout",
       "text": [
        "\n",
        "[81]\tvalid_0's auc: 0.761624"
       ]
      },
      {
       "output_type": "stream",
       "stream": "stdout",
       "text": [
        "\n",
        "[82]\tvalid_0's auc: 0.761617"
       ]
      },
      {
       "output_type": "stream",
       "stream": "stdout",
       "text": [
        "\n",
        "[83]\tvalid_0's auc: 0.761608"
       ]
      },
      {
       "output_type": "stream",
       "stream": "stdout",
       "text": [
        "\n",
        "[84]\tvalid_0's auc: 0.761576"
       ]
      },
      {
       "output_type": "stream",
       "stream": "stdout",
       "text": [
        "\n",
        "[85]\tvalid_0's auc: 0.761563"
       ]
      },
      {
       "output_type": "stream",
       "stream": "stdout",
       "text": [
        "\n",
        "[86]\tvalid_0's auc: 0.761546"
       ]
      },
      {
       "output_type": "stream",
       "stream": "stdout",
       "text": [
        "\n",
        "[87]\tvalid_0's auc: 0.761537"
       ]
      },
      {
       "output_type": "stream",
       "stream": "stdout",
       "text": [
        "\n",
        "[88]\tvalid_0's auc: 0.761535"
       ]
      },
      {
       "output_type": "stream",
       "stream": "stdout",
       "text": [
        "\n",
        "[89]\tvalid_0's auc: 0.761511"
       ]
      },
      {
       "output_type": "stream",
       "stream": "stdout",
       "text": [
        "\n",
        "[90]\tvalid_0's auc: 0.761502"
       ]
      },
      {
       "output_type": "stream",
       "stream": "stdout",
       "text": [
        "\n",
        "[91]\tvalid_0's auc: 0.761497"
       ]
      },
      {
       "output_type": "stream",
       "stream": "stdout",
       "text": [
        "\n",
        "[92]\tvalid_0's auc: 0.761484"
       ]
      },
      {
       "output_type": "stream",
       "stream": "stdout",
       "text": [
        "\n",
        "[93]\tvalid_0's auc: 0.76146"
       ]
      },
      {
       "output_type": "stream",
       "stream": "stdout",
       "text": [
        "\n",
        "[94]\tvalid_0's auc: 0.761439"
       ]
      },
      {
       "output_type": "stream",
       "stream": "stdout",
       "text": [
        "\n",
        "[95]\tvalid_0's auc: 0.761424"
       ]
      },
      {
       "output_type": "stream",
       "stream": "stdout",
       "text": [
        "\n",
        "[96]\tvalid_0's auc: 0.761408"
       ]
      },
      {
       "output_type": "stream",
       "stream": "stdout",
       "text": [
        "\n",
        "[97]\tvalid_0's auc: 0.761408"
       ]
      },
      {
       "output_type": "stream",
       "stream": "stdout",
       "text": [
        "\n",
        "[98]\tvalid_0's auc: 0.761391"
       ]
      },
      {
       "output_type": "stream",
       "stream": "stdout",
       "text": [
        "\n",
        "[99]\tvalid_0's auc: 0.761373"
       ]
      },
      {
       "output_type": "stream",
       "stream": "stdout",
       "text": [
        "\n",
        "[100]\tvalid_0's auc: 0.761378"
       ]
      },
      {
       "output_type": "stream",
       "stream": "stdout",
       "text": [
        "\n",
        "[101]\tvalid_0's auc: 0.761371"
       ]
      },
      {
       "output_type": "stream",
       "stream": "stdout",
       "text": [
        "\n",
        "[102]\tvalid_0's auc: 0.761361"
       ]
      },
      {
       "output_type": "stream",
       "stream": "stdout",
       "text": [
        "\n",
        "[103]\tvalid_0's auc: 0.761346"
       ]
      },
      {
       "output_type": "stream",
       "stream": "stdout",
       "text": [
        "\n",
        "[104]\tvalid_0's auc: 0.761337"
       ]
      },
      {
       "output_type": "stream",
       "stream": "stdout",
       "text": [
        "\n",
        "[105]\tvalid_0's auc: 0.761329"
       ]
      },
      {
       "output_type": "stream",
       "stream": "stdout",
       "text": [
        "\n",
        "[106]\tvalid_0's auc: 0.761301"
       ]
      },
      {
       "output_type": "stream",
       "stream": "stdout",
       "text": [
        "\n",
        "[107]\tvalid_0's auc: 0.76128"
       ]
      },
      {
       "output_type": "stream",
       "stream": "stdout",
       "text": [
        "\n",
        "[108]\tvalid_0's auc: 0.761259"
       ]
      },
      {
       "output_type": "stream",
       "stream": "stdout",
       "text": [
        "\n",
        "[109]\tvalid_0's auc: 0.761238"
       ]
      },
      {
       "output_type": "stream",
       "stream": "stdout",
       "text": [
        "\n",
        "[110]\tvalid_0's auc: 0.761305"
       ]
      },
      {
       "output_type": "stream",
       "stream": "stdout",
       "text": [
        "\n",
        "[111]\tvalid_0's auc: 0.761286"
       ]
      },
      {
       "output_type": "stream",
       "stream": "stdout",
       "text": [
        "\n",
        "[112]\tvalid_0's auc: 0.761269"
       ]
      },
      {
       "output_type": "stream",
       "stream": "stdout",
       "text": [
        "\n",
        "[113]\tvalid_0's auc: 0.761254"
       ]
      },
      {
       "output_type": "stream",
       "stream": "stdout",
       "text": [
        "\n",
        "[114]\tvalid_0's auc: 0.76124"
       ]
      },
      {
       "output_type": "stream",
       "stream": "stdout",
       "text": [
        "\n",
        "[115]\tvalid_0's auc: 0.761224"
       ]
      },
      {
       "output_type": "stream",
       "stream": "stdout",
       "text": [
        "\n",
        "[116]\tvalid_0's auc: 0.761223"
       ]
      },
      {
       "output_type": "stream",
       "stream": "stdout",
       "text": [
        "\n",
        "[117]\tvalid_0's auc: 0.76125"
       ]
      },
      {
       "output_type": "stream",
       "stream": "stdout",
       "text": [
        "\n",
        "[118]\tvalid_0's auc: 0.76123"
       ]
      },
      {
       "output_type": "stream",
       "stream": "stdout",
       "text": [
        "\n",
        "[119]\tvalid_0's auc: 0.761241"
       ]
      },
      {
       "output_type": "stream",
       "stream": "stdout",
       "text": [
        "\n",
        "[120]\tvalid_0's auc: 0.761229"
       ]
      },
      {
       "output_type": "stream",
       "stream": "stdout",
       "text": [
        "\n",
        "[121]\tvalid_0's auc: 0.761197"
       ]
      },
      {
       "output_type": "stream",
       "stream": "stdout",
       "text": [
        "\n",
        "[122]\tvalid_0's auc: 0.76118"
       ]
      },
      {
       "output_type": "stream",
       "stream": "stdout",
       "text": [
        "\n",
        "[123]\tvalid_0's auc: 0.761162"
       ]
      },
      {
       "output_type": "stream",
       "stream": "stdout",
       "text": [
        "\n",
        "[124]\tvalid_0's auc: 0.761162"
       ]
      },
      {
       "output_type": "stream",
       "stream": "stdout",
       "text": [
        "\n",
        "[125]\tvalid_0's auc: 0.761143"
       ]
      },
      {
       "output_type": "stream",
       "stream": "stdout",
       "text": [
        "\n",
        "[126]\tvalid_0's auc: 0.761134"
       ]
      },
      {
       "output_type": "stream",
       "stream": "stdout",
       "text": [
        "\n",
        "[127]\tvalid_0's auc: 0.76113"
       ]
      },
      {
       "output_type": "stream",
       "stream": "stdout",
       "text": [
        "\n",
        "[128]\tvalid_0's auc: 0.761114"
       ]
      },
      {
       "output_type": "stream",
       "stream": "stdout",
       "text": [
        "\n",
        "[129]\tvalid_0's auc: 0.761104"
       ]
      },
      {
       "output_type": "stream",
       "stream": "stdout",
       "text": [
        "\n",
        "[130]\tvalid_0's auc: 0.761089"
       ]
      },
      {
       "output_type": "stream",
       "stream": "stdout",
       "text": [
        "\n",
        "[131]\tvalid_0's auc: 0.761088"
       ]
      },
      {
       "output_type": "stream",
       "stream": "stdout",
       "text": [
        "\n",
        "[132]\tvalid_0's auc: 0.761078"
       ]
      },
      {
       "output_type": "stream",
       "stream": "stdout",
       "text": [
        "\n",
        "[133]\tvalid_0's auc: 0.761052"
       ]
      },
      {
       "output_type": "stream",
       "stream": "stdout",
       "text": [
        "\n",
        "[134]\tvalid_0's auc: 0.761129"
       ]
      },
      {
       "output_type": "stream",
       "stream": "stdout",
       "text": [
        "\n",
        "[135]\tvalid_0's auc: 0.761113"
       ]
      },
      {
       "output_type": "stream",
       "stream": "stdout",
       "text": [
        "\n",
        "[136]\tvalid_0's auc: 0.761097"
       ]
      },
      {
       "output_type": "stream",
       "stream": "stdout",
       "text": [
        "\n",
        "[137]\tvalid_0's auc: 0.761082"
       ]
      },
      {
       "output_type": "stream",
       "stream": "stdout",
       "text": [
        "\n",
        "[138]\tvalid_0's auc: 0.761069"
       ]
      },
      {
       "output_type": "stream",
       "stream": "stdout",
       "text": [
        "\n",
        "[139]\tvalid_0's auc: 0.761062"
       ]
      },
      {
       "output_type": "stream",
       "stream": "stdout",
       "text": [
        "\n",
        "[140]\tvalid_0's auc: 0.761048"
       ]
      },
      {
       "output_type": "stream",
       "stream": "stdout",
       "text": [
        "\n",
        "[141]\tvalid_0's auc: 0.761027"
       ]
      },
      {
       "output_type": "stream",
       "stream": "stdout",
       "text": [
        "\n",
        "[142]\tvalid_0's auc: 0.761003"
       ]
      },
      {
       "output_type": "stream",
       "stream": "stdout",
       "text": [
        "\n",
        "[143]\tvalid_0's auc: 0.761058"
       ]
      },
      {
       "output_type": "stream",
       "stream": "stdout",
       "text": [
        "\n",
        "[144]\tvalid_0's auc: 0.761045"
       ]
      },
      {
       "output_type": "stream",
       "stream": "stdout",
       "text": [
        "\n",
        "[145]\tvalid_0's auc: 0.761033"
       ]
      },
      {
       "output_type": "stream",
       "stream": "stdout",
       "text": [
        "\n",
        "[146]\tvalid_0's auc: 0.761005"
       ]
      },
      {
       "output_type": "stream",
       "stream": "stdout",
       "text": [
        "\n",
        "[147]\tvalid_0's auc: 0.760991"
       ]
      },
      {
       "output_type": "stream",
       "stream": "stdout",
       "text": [
        "\n",
        "[148]\tvalid_0's auc: 0.760993"
       ]
      },
      {
       "output_type": "stream",
       "stream": "stdout",
       "text": [
        "\n",
        "[149]\tvalid_0's auc: 0.760982"
       ]
      },
      {
       "output_type": "stream",
       "stream": "stdout",
       "text": [
        "\n",
        "[150]\tvalid_0's auc: 0.760961"
       ]
      },
      {
       "output_type": "stream",
       "stream": "stdout",
       "text": [
        "\n",
        "[151]\tvalid_0's auc: 0.76095"
       ]
      },
      {
       "output_type": "stream",
       "stream": "stdout",
       "text": [
        "\n",
        "[152]\tvalid_0's auc: 0.760944"
       ]
      },
      {
       "output_type": "stream",
       "stream": "stdout",
       "text": [
        "\n",
        "[153]\tvalid_0's auc: 0.760929"
       ]
      },
      {
       "output_type": "stream",
       "stream": "stdout",
       "text": [
        "\n",
        "[154]\tvalid_0's auc: 0.760915"
       ]
      },
      {
       "output_type": "stream",
       "stream": "stdout",
       "text": [
        "\n",
        "[155]\tvalid_0's auc: 0.760909"
       ]
      },
      {
       "output_type": "stream",
       "stream": "stdout",
       "text": [
        "\n",
        "[156]\tvalid_0's auc: 0.760895"
       ]
      },
      {
       "output_type": "stream",
       "stream": "stdout",
       "text": [
        "\n",
        "[157]\tvalid_0's auc: 0.760882"
       ]
      },
      {
       "output_type": "stream",
       "stream": "stdout",
       "text": [
        "\n",
        "[158]\tvalid_0's auc: 0.76087"
       ]
      },
      {
       "output_type": "stream",
       "stream": "stdout",
       "text": [
        "\n",
        "[159]\tvalid_0's auc: 0.760866"
       ]
      },
      {
       "output_type": "stream",
       "stream": "stdout",
       "text": [
        "\n",
        "[160]\tvalid_0's auc: 0.76085"
       ]
      },
      {
       "output_type": "stream",
       "stream": "stdout",
       "text": [
        "\n",
        "[161]\tvalid_0's auc: 0.760839"
       ]
      },
      {
       "output_type": "stream",
       "stream": "stdout",
       "text": [
        "\n",
        "[162]\tvalid_0's auc: 0.760812"
       ]
      },
      {
       "output_type": "stream",
       "stream": "stdout",
       "text": [
        "\n",
        "[163]\tvalid_0's auc: 0.76079"
       ]
      },
      {
       "output_type": "stream",
       "stream": "stdout",
       "text": [
        "\n",
        "[164]\tvalid_0's auc: 0.760803"
       ]
      },
      {
       "output_type": "stream",
       "stream": "stdout",
       "text": [
        "\n",
        "[165]\tvalid_0's auc: 0.760787"
       ]
      },
      {
       "output_type": "stream",
       "stream": "stdout",
       "text": [
        "\n",
        "[166]\tvalid_0's auc: 0.760778"
       ]
      },
      {
       "output_type": "stream",
       "stream": "stdout",
       "text": [
        "\n",
        "[167]\tvalid_0's auc: 0.76076"
       ]
      },
      {
       "output_type": "stream",
       "stream": "stdout",
       "text": [
        "\n",
        "[168]\tvalid_0's auc: 0.760754"
       ]
      },
      {
       "output_type": "stream",
       "stream": "stdout",
       "text": [
        "\n",
        "[169]\tvalid_0's auc: 0.760768"
       ]
      },
      {
       "output_type": "stream",
       "stream": "stdout",
       "text": [
        "\n",
        "[170]\tvalid_0's auc: 0.760759"
       ]
      },
      {
       "output_type": "stream",
       "stream": "stdout",
       "text": [
        "\n",
        "[171]\tvalid_0's auc: 0.760749"
       ]
      },
      {
       "output_type": "stream",
       "stream": "stdout",
       "text": [
        "\n",
        "[172]\tvalid_0's auc: 0.760737"
       ]
      },
      {
       "output_type": "stream",
       "stream": "stdout",
       "text": [
        "\n",
        "[173]\tvalid_0's auc: 0.76072"
       ]
      },
      {
       "output_type": "stream",
       "stream": "stdout",
       "text": [
        "\n",
        "[174]\tvalid_0's auc: 0.760712"
       ]
      },
      {
       "output_type": "stream",
       "stream": "stdout",
       "text": [
        "\n",
        "[175]\tvalid_0's auc: 0.760715"
       ]
      },
      {
       "output_type": "stream",
       "stream": "stdout",
       "text": [
        "\n",
        "[176]\tvalid_0's auc: 0.760728"
       ]
      },
      {
       "output_type": "stream",
       "stream": "stdout",
       "text": [
        "\n",
        "[177]\tvalid_0's auc: 0.760717"
       ]
      },
      {
       "output_type": "stream",
       "stream": "stdout",
       "text": [
        "\n",
        "[178]\tvalid_0's auc: 0.760708"
       ]
      },
      {
       "output_type": "stream",
       "stream": "stdout",
       "text": [
        "\n",
        "[179]\tvalid_0's auc: 0.760705"
       ]
      },
      {
       "output_type": "stream",
       "stream": "stdout",
       "text": [
        "\n",
        "[180]\tvalid_0's auc: 0.760689"
       ]
      },
      {
       "output_type": "stream",
       "stream": "stdout",
       "text": [
        "\n",
        "[181]\tvalid_0's auc: 0.760676"
       ]
      },
      {
       "output_type": "stream",
       "stream": "stdout",
       "text": [
        "\n",
        "[182]\tvalid_0's auc: 0.760675"
       ]
      },
      {
       "output_type": "stream",
       "stream": "stdout",
       "text": [
        "\n",
        "[183]\tvalid_0's auc: 0.760664"
       ]
      },
      {
       "output_type": "stream",
       "stream": "stdout",
       "text": [
        "\n",
        "[184]\tvalid_0's auc: 0.760661"
       ]
      },
      {
       "output_type": "stream",
       "stream": "stdout",
       "text": [
        "\n",
        "[185]\tvalid_0's auc: 0.760663"
       ]
      },
      {
       "output_type": "stream",
       "stream": "stdout",
       "text": [
        "\n",
        "[186]\tvalid_0's auc: 0.760654"
       ]
      },
      {
       "output_type": "stream",
       "stream": "stdout",
       "text": [
        "\n",
        "[187]\tvalid_0's auc: 0.760636"
       ]
      },
      {
       "output_type": "stream",
       "stream": "stdout",
       "text": [
        "\n",
        "[188]\tvalid_0's auc: 0.760628"
       ]
      },
      {
       "output_type": "stream",
       "stream": "stdout",
       "text": [
        "\n",
        "[189]\tvalid_0's auc: 0.760615"
       ]
      },
      {
       "output_type": "stream",
       "stream": "stdout",
       "text": [
        "\n",
        "[190]\tvalid_0's auc: 0.760603"
       ]
      },
      {
       "output_type": "stream",
       "stream": "stdout",
       "text": [
        "\n",
        "[191]\tvalid_0's auc: 0.760592"
       ]
      },
      {
       "output_type": "stream",
       "stream": "stdout",
       "text": [
        "\n",
        "[192]\tvalid_0's auc: 0.760581"
       ]
      },
      {
       "output_type": "stream",
       "stream": "stdout",
       "text": [
        "\n",
        "[193]\tvalid_0's auc: 0.760571"
       ]
      },
      {
       "output_type": "stream",
       "stream": "stdout",
       "text": [
        "\n",
        "[194]\tvalid_0's auc: 0.760561"
       ]
      },
      {
       "output_type": "stream",
       "stream": "stdout",
       "text": [
        "\n",
        "[195]\tvalid_0's auc: 0.76056"
       ]
      },
      {
       "output_type": "stream",
       "stream": "stdout",
       "text": [
        "\n",
        "[196]\tvalid_0's auc: 0.76055"
       ]
      },
      {
       "output_type": "stream",
       "stream": "stdout",
       "text": [
        "\n",
        "[197]\tvalid_0's auc: 0.760546"
       ]
      },
      {
       "output_type": "stream",
       "stream": "stdout",
       "text": [
        "\n",
        "[198]\tvalid_0's auc: 0.76054"
       ]
      },
      {
       "output_type": "stream",
       "stream": "stdout",
       "text": [
        "\n",
        "[199]\tvalid_0's auc: 0.760529"
       ]
      },
      {
       "output_type": "stream",
       "stream": "stdout",
       "text": [
        "\n",
        "[200]\tvalid_0's auc: 0.760524"
       ]
      },
      {
       "output_type": "stream",
       "stream": "stdout",
       "text": [
        "\n",
        "[1]\tvalid_0's auc: 0.681212"
       ]
      },
      {
       "output_type": "stream",
       "stream": "stdout",
       "text": [
        "\n",
        "[2]\tvalid_0's auc: 0.686386"
       ]
      },
      {
       "output_type": "stream",
       "stream": "stdout",
       "text": [
        "\n",
        "[3]\tvalid_0's auc: 0.689442"
       ]
      },
      {
       "output_type": "stream",
       "stream": "stdout",
       "text": [
        "\n",
        "[4]\tvalid_0's auc: 0.69094"
       ]
      },
      {
       "output_type": "stream",
       "stream": "stdout",
       "text": [
        "\n",
        "[5]\tvalid_0's auc: 0.693746"
       ]
      },
      {
       "output_type": "stream",
       "stream": "stdout",
       "text": [
        "\n",
        "[6]\tvalid_0's auc: 0.694508"
       ]
      },
      {
       "output_type": "stream",
       "stream": "stdout",
       "text": [
        "\n",
        "[7]\tvalid_0's auc: 0.695552"
       ]
      },
      {
       "output_type": "stream",
       "stream": "stdout",
       "text": [
        "\n",
        "[8]\tvalid_0's auc: 0.696436"
       ]
      },
      {
       "output_type": "stream",
       "stream": "stdout",
       "text": [
        "\n",
        "[9]\tvalid_0's auc: 0.697402"
       ]
      },
      {
       "output_type": "stream",
       "stream": "stdout",
       "text": [
        "\n",
        "[10]\tvalid_0's auc: 0.698379"
       ]
      },
      {
       "output_type": "stream",
       "stream": "stdout",
       "text": [
        "\n",
        "[11]\tvalid_0's auc: 0.699759"
       ]
      },
      {
       "output_type": "stream",
       "stream": "stdout",
       "text": [
        "\n",
        "[12]\tvalid_0's auc: 0.700603"
       ]
      },
      {
       "output_type": "stream",
       "stream": "stdout",
       "text": [
        "\n",
        "[13]\tvalid_0's auc: 0.701272"
       ]
      },
      {
       "output_type": "stream",
       "stream": "stdout",
       "text": [
        "\n",
        "[14]\tvalid_0's auc: 0.702088"
       ]
      },
      {
       "output_type": "stream",
       "stream": "stdout",
       "text": [
        "\n",
        "[15]\tvalid_0's auc: 0.70311"
       ]
      },
      {
       "output_type": "stream",
       "stream": "stdout",
       "text": [
        "\n",
        "[16]\tvalid_0's auc: 0.703597"
       ]
      },
      {
       "output_type": "stream",
       "stream": "stdout",
       "text": [
        "\n",
        "[17]\tvalid_0's auc: 0.704223"
       ]
      },
      {
       "output_type": "stream",
       "stream": "stdout",
       "text": [
        "\n",
        "[18]\tvalid_0's auc: 0.705048"
       ]
      },
      {
       "output_type": "stream",
       "stream": "stdout",
       "text": [
        "\n",
        "[19]\tvalid_0's auc: 0.70551"
       ]
      },
      {
       "output_type": "stream",
       "stream": "stdout",
       "text": [
        "\n",
        "[20]\tvalid_0's auc: 0.706037"
       ]
      },
      {
       "output_type": "stream",
       "stream": "stdout",
       "text": [
        "\n",
        "[21]\tvalid_0's auc: 0.706652"
       ]
      },
      {
       "output_type": "stream",
       "stream": "stdout",
       "text": [
        "\n",
        "[22]\tvalid_0's auc: 0.707612"
       ]
      },
      {
       "output_type": "stream",
       "stream": "stdout",
       "text": [
        "\n",
        "[23]\tvalid_0's auc: 0.707984"
       ]
      },
      {
       "output_type": "stream",
       "stream": "stdout",
       "text": [
        "\n",
        "[24]\tvalid_0's auc: 0.709256"
       ]
      },
      {
       "output_type": "stream",
       "stream": "stdout",
       "text": [
        "\n",
        "[25]\tvalid_0's auc: 0.709862"
       ]
      },
      {
       "output_type": "stream",
       "stream": "stdout",
       "text": [
        "\n",
        "[26]\tvalid_0's auc: 0.710294"
       ]
      },
      {
       "output_type": "stream",
       "stream": "stdout",
       "text": [
        "\n",
        "[27]\tvalid_0's auc: 0.710647"
       ]
      },
      {
       "output_type": "stream",
       "stream": "stdout",
       "text": [
        "\n",
        "[28]\tvalid_0's auc: 0.710926"
       ]
      },
      {
       "output_type": "stream",
       "stream": "stdout",
       "text": [
        "\n",
        "[29]\tvalid_0's auc: 0.711152"
       ]
      },
      {
       "output_type": "stream",
       "stream": "stdout",
       "text": [
        "\n",
        "[30]\tvalid_0's auc: 0.711401"
       ]
      },
      {
       "output_type": "stream",
       "stream": "stdout",
       "text": [
        "\n",
        "[31]\tvalid_0's auc: 0.711543"
       ]
      },
      {
       "output_type": "stream",
       "stream": "stdout",
       "text": [
        "\n",
        "[32]\tvalid_0's auc: 0.71172"
       ]
      },
      {
       "output_type": "stream",
       "stream": "stdout",
       "text": [
        "\n",
        "[33]\tvalid_0's auc: 0.711766"
       ]
      },
      {
       "output_type": "stream",
       "stream": "stdout",
       "text": [
        "\n",
        "[34]\tvalid_0's auc: 0.711903"
       ]
      },
      {
       "output_type": "stream",
       "stream": "stdout",
       "text": [
        "\n",
        "[35]\tvalid_0's auc: 0.711946"
       ]
      },
      {
       "output_type": "stream",
       "stream": "stdout",
       "text": [
        "\n",
        "[36]\tvalid_0's auc: 0.712052"
       ]
      },
      {
       "output_type": "stream",
       "stream": "stdout",
       "text": [
        "\n",
        "[37]\tvalid_0's auc: 0.712067"
       ]
      },
      {
       "output_type": "stream",
       "stream": "stdout",
       "text": [
        "\n",
        "[38]\tvalid_0's auc: 0.71211"
       ]
      },
      {
       "output_type": "stream",
       "stream": "stdout",
       "text": [
        "\n",
        "[39]\tvalid_0's auc: 0.712172"
       ]
      },
      {
       "output_type": "stream",
       "stream": "stdout",
       "text": [
        "\n",
        "[40]\tvalid_0's auc: 0.712215"
       ]
      },
      {
       "output_type": "stream",
       "stream": "stdout",
       "text": [
        "\n",
        "[41]\tvalid_0's auc: 0.712268"
       ]
      },
      {
       "output_type": "stream",
       "stream": "stdout",
       "text": [
        "\n",
        "[42]\tvalid_0's auc: 0.712347"
       ]
      },
      {
       "output_type": "stream",
       "stream": "stdout",
       "text": [
        "\n",
        "[43]\tvalid_0's auc: 0.712639"
       ]
      },
      {
       "output_type": "stream",
       "stream": "stdout",
       "text": [
        "\n",
        "[44]\tvalid_0's auc: 0.712719"
       ]
      },
      {
       "output_type": "stream",
       "stream": "stdout",
       "text": [
        "\n",
        "[45]\tvalid_0's auc: 0.71276"
       ]
      },
      {
       "output_type": "stream",
       "stream": "stdout",
       "text": [
        "\n",
        "[46]\tvalid_0's auc: 0.712811"
       ]
      },
      {
       "output_type": "stream",
       "stream": "stdout",
       "text": [
        "\n",
        "[47]\tvalid_0's auc: 0.712901"
       ]
      },
      {
       "output_type": "stream",
       "stream": "stdout",
       "text": [
        "\n",
        "[48]\tvalid_0's auc: 0.712986"
       ]
      },
      {
       "output_type": "stream",
       "stream": "stdout",
       "text": [
        "\n",
        "[49]\tvalid_0's auc: 0.713026"
       ]
      },
      {
       "output_type": "stream",
       "stream": "stdout",
       "text": [
        "\n",
        "[50]\tvalid_0's auc: 0.713043"
       ]
      },
      {
       "output_type": "stream",
       "stream": "stdout",
       "text": [
        "\n",
        "[51]\tvalid_0's auc: 0.713046"
       ]
      },
      {
       "output_type": "stream",
       "stream": "stdout",
       "text": [
        "\n",
        "[52]\tvalid_0's auc: 0.713171"
       ]
      },
      {
       "output_type": "stream",
       "stream": "stdout",
       "text": [
        "\n",
        "[53]\tvalid_0's auc: 0.713225"
       ]
      },
      {
       "output_type": "stream",
       "stream": "stdout",
       "text": [
        "\n",
        "[54]\tvalid_0's auc: 0.713258"
       ]
      },
      {
       "output_type": "stream",
       "stream": "stdout",
       "text": [
        "\n",
        "[55]\tvalid_0's auc: 0.713516"
       ]
      },
      {
       "output_type": "stream",
       "stream": "stdout",
       "text": [
        "\n",
        "[56]\tvalid_0's auc: 0.713555"
       ]
      },
      {
       "output_type": "stream",
       "stream": "stdout",
       "text": [
        "\n",
        "[57]\tvalid_0's auc: 0.71361"
       ]
      },
      {
       "output_type": "stream",
       "stream": "stdout",
       "text": [
        "\n",
        "[58]\tvalid_0's auc: 0.713646"
       ]
      },
      {
       "output_type": "stream",
       "stream": "stdout",
       "text": [
        "\n",
        "[59]\tvalid_0's auc: 0.71365"
       ]
      },
      {
       "output_type": "stream",
       "stream": "stdout",
       "text": [
        "\n",
        "[60]\tvalid_0's auc: 0.713674"
       ]
      },
      {
       "output_type": "stream",
       "stream": "stdout",
       "text": [
        "\n",
        "[61]\tvalid_0's auc: 0.713704"
       ]
      },
      {
       "output_type": "stream",
       "stream": "stdout",
       "text": [
        "\n",
        "[62]\tvalid_0's auc: 0.71374"
       ]
      },
      {
       "output_type": "stream",
       "stream": "stdout",
       "text": [
        "\n",
        "[63]\tvalid_0's auc: 0.713751"
       ]
      },
      {
       "output_type": "stream",
       "stream": "stdout",
       "text": [
        "\n",
        "[64]\tvalid_0's auc: 0.713772"
       ]
      },
      {
       "output_type": "stream",
       "stream": "stdout",
       "text": [
        "\n",
        "[65]\tvalid_0's auc: 0.713791"
       ]
      },
      {
       "output_type": "stream",
       "stream": "stdout",
       "text": [
        "\n",
        "[66]\tvalid_0's auc: 0.713806"
       ]
      },
      {
       "output_type": "stream",
       "stream": "stdout",
       "text": [
        "\n",
        "[67]\tvalid_0's auc: 0.713842"
       ]
      },
      {
       "output_type": "stream",
       "stream": "stdout",
       "text": [
        "\n",
        "[68]\tvalid_0's auc: 0.713846"
       ]
      },
      {
       "output_type": "stream",
       "stream": "stdout",
       "text": [
        "\n",
        "[69]\tvalid_0's auc: 0.713859"
       ]
      },
      {
       "output_type": "stream",
       "stream": "stdout",
       "text": [
        "\n",
        "[70]\tvalid_0's auc: 0.713912"
       ]
      },
      {
       "output_type": "stream",
       "stream": "stdout",
       "text": [
        "\n",
        "[71]\tvalid_0's auc: 0.71392"
       ]
      },
      {
       "output_type": "stream",
       "stream": "stdout",
       "text": [
        "\n",
        "[72]\tvalid_0's auc: 0.713925"
       ]
      },
      {
       "output_type": "stream",
       "stream": "stdout",
       "text": [
        "\n",
        "[73]\tvalid_0's auc: 0.713931"
       ]
      },
      {
       "output_type": "stream",
       "stream": "stdout",
       "text": [
        "\n",
        "[74]\tvalid_0's auc: 0.713943"
       ]
      },
      {
       "output_type": "stream",
       "stream": "stdout",
       "text": [
        "\n",
        "[75]\tvalid_0's auc: 0.714057"
       ]
      },
      {
       "output_type": "stream",
       "stream": "stdout",
       "text": [
        "\n",
        "[76]\tvalid_0's auc: 0.714113"
       ]
      },
      {
       "output_type": "stream",
       "stream": "stdout",
       "text": [
        "\n",
        "[77]\tvalid_0's auc: 0.714122"
       ]
      },
      {
       "output_type": "stream",
       "stream": "stdout",
       "text": [
        "\n",
        "[78]\tvalid_0's auc: 0.714112"
       ]
      },
      {
       "output_type": "stream",
       "stream": "stdout",
       "text": [
        "\n",
        "[79]\tvalid_0's auc: 0.71411"
       ]
      },
      {
       "output_type": "stream",
       "stream": "stdout",
       "text": [
        "\n",
        "[80]\tvalid_0's auc: 0.714152"
       ]
      },
      {
       "output_type": "stream",
       "stream": "stdout",
       "text": [
        "\n",
        "[81]\tvalid_0's auc: 0.71436"
       ]
      },
      {
       "output_type": "stream",
       "stream": "stdout",
       "text": [
        "\n",
        "[82]\tvalid_0's auc: 0.714383"
       ]
      },
      {
       "output_type": "stream",
       "stream": "stdout",
       "text": [
        "\n",
        "[83]\tvalid_0's auc: 0.714401"
       ]
      },
      {
       "output_type": "stream",
       "stream": "stdout",
       "text": [
        "\n",
        "[84]\tvalid_0's auc: 0.714389"
       ]
      },
      {
       "output_type": "stream",
       "stream": "stdout",
       "text": [
        "\n",
        "[85]\tvalid_0's auc: 0.714401"
       ]
      },
      {
       "output_type": "stream",
       "stream": "stdout",
       "text": [
        "\n",
        "[86]\tvalid_0's auc: 0.714407"
       ]
      },
      {
       "output_type": "stream",
       "stream": "stdout",
       "text": [
        "\n",
        "[87]\tvalid_0's auc: 0.71441"
       ]
      },
      {
       "output_type": "stream",
       "stream": "stdout",
       "text": [
        "\n",
        "[88]\tvalid_0's auc: 0.71441"
       ]
      },
      {
       "output_type": "stream",
       "stream": "stdout",
       "text": [
        "\n",
        "[89]\tvalid_0's auc: 0.714418"
       ]
      },
      {
       "output_type": "stream",
       "stream": "stdout",
       "text": [
        "\n",
        "[90]\tvalid_0's auc: 0.714426"
       ]
      },
      {
       "output_type": "stream",
       "stream": "stdout",
       "text": [
        "\n",
        "[91]\tvalid_0's auc: 0.714428"
       ]
      },
      {
       "output_type": "stream",
       "stream": "stdout",
       "text": [
        "\n",
        "[92]\tvalid_0's auc: 0.714429"
       ]
      },
      {
       "output_type": "stream",
       "stream": "stdout",
       "text": [
        "\n",
        "[93]\tvalid_0's auc: 0.714433"
       ]
      },
      {
       "output_type": "stream",
       "stream": "stdout",
       "text": [
        "\n",
        "[94]\tvalid_0's auc: 0.714419"
       ]
      },
      {
       "output_type": "stream",
       "stream": "stdout",
       "text": [
        "\n",
        "[95]\tvalid_0's auc: 0.714432"
       ]
      },
      {
       "output_type": "stream",
       "stream": "stdout",
       "text": [
        "\n",
        "[96]\tvalid_0's auc: 0.714435"
       ]
      },
      {
       "output_type": "stream",
       "stream": "stdout",
       "text": [
        "\n",
        "[97]\tvalid_0's auc: 0.714435"
       ]
      },
      {
       "output_type": "stream",
       "stream": "stdout",
       "text": [
        "\n",
        "[98]\tvalid_0's auc: 0.714433"
       ]
      },
      {
       "output_type": "stream",
       "stream": "stdout",
       "text": [
        "\n",
        "[99]\tvalid_0's auc: 0.714429"
       ]
      },
      {
       "output_type": "stream",
       "stream": "stdout",
       "text": [
        "\n",
        "[100]\tvalid_0's auc: 0.714429"
       ]
      },
      {
       "output_type": "stream",
       "stream": "stdout",
       "text": [
        "\n",
        "[101]\tvalid_0's auc: 0.714431"
       ]
      },
      {
       "output_type": "stream",
       "stream": "stdout",
       "text": [
        "\n",
        "[102]\tvalid_0's auc: 0.71443"
       ]
      },
      {
       "output_type": "stream",
       "stream": "stdout",
       "text": [
        "\n",
        "[103]\tvalid_0's auc: 0.714433"
       ]
      },
      {
       "output_type": "stream",
       "stream": "stdout",
       "text": [
        "\n",
        "[104]\tvalid_0's auc: 0.714431"
       ]
      },
      {
       "output_type": "stream",
       "stream": "stdout",
       "text": [
        "\n",
        "[105]\tvalid_0's auc: 0.714438"
       ]
      },
      {
       "output_type": "stream",
       "stream": "stdout",
       "text": [
        "\n",
        "[106]\tvalid_0's auc: 0.714445"
       ]
      },
      {
       "output_type": "stream",
       "stream": "stdout",
       "text": [
        "\n",
        "[107]\tvalid_0's auc: 0.714448"
       ]
      },
      {
       "output_type": "stream",
       "stream": "stdout",
       "text": [
        "\n",
        "[108]\tvalid_0's auc: 0.71445"
       ]
      },
      {
       "output_type": "stream",
       "stream": "stdout",
       "text": [
        "\n",
        "[109]\tvalid_0's auc: 0.714455"
       ]
      },
      {
       "output_type": "stream",
       "stream": "stdout",
       "text": [
        "\n",
        "[110]\tvalid_0's auc: 0.714524"
       ]
      },
      {
       "output_type": "stream",
       "stream": "stdout",
       "text": [
        "\n",
        "[111]\tvalid_0's auc: 0.71477"
       ]
      },
      {
       "output_type": "stream",
       "stream": "stdout",
       "text": [
        "\n",
        "[112]\tvalid_0's auc: 0.714778"
       ]
      },
      {
       "output_type": "stream",
       "stream": "stdout",
       "text": [
        "\n",
        "[113]\tvalid_0's auc: 0.714775"
       ]
      },
      {
       "output_type": "stream",
       "stream": "stdout",
       "text": [
        "\n",
        "[114]\tvalid_0's auc: 0.714782"
       ]
      },
      {
       "output_type": "stream",
       "stream": "stdout",
       "text": [
        "\n",
        "[115]\tvalid_0's auc: 0.714778"
       ]
      },
      {
       "output_type": "stream",
       "stream": "stdout",
       "text": [
        "\n",
        "[116]\tvalid_0's auc: 0.714782"
       ]
      },
      {
       "output_type": "stream",
       "stream": "stdout",
       "text": [
        "\n",
        "[117]\tvalid_0's auc: 0.714778"
       ]
      },
      {
       "output_type": "stream",
       "stream": "stdout",
       "text": [
        "\n",
        "[118]\tvalid_0's auc: 0.714776"
       ]
      },
      {
       "output_type": "stream",
       "stream": "stdout",
       "text": [
        "\n",
        "[119]\tvalid_0's auc: 0.714779"
       ]
      },
      {
       "output_type": "stream",
       "stream": "stdout",
       "text": [
        "\n",
        "[120]\tvalid_0's auc: 0.714784"
       ]
      },
      {
       "output_type": "stream",
       "stream": "stdout",
       "text": [
        "\n",
        "[121]\tvalid_0's auc: 0.714781"
       ]
      },
      {
       "output_type": "stream",
       "stream": "stdout",
       "text": [
        "\n",
        "[122]\tvalid_0's auc: 0.714783"
       ]
      },
      {
       "output_type": "stream",
       "stream": "stdout",
       "text": [
        "\n",
        "[123]\tvalid_0's auc: 0.714783"
       ]
      },
      {
       "output_type": "stream",
       "stream": "stdout",
       "text": [
        "\n",
        "[124]\tvalid_0's auc: 0.714779"
       ]
      },
      {
       "output_type": "stream",
       "stream": "stdout",
       "text": [
        "\n",
        "[125]\tvalid_0's auc: 0.714784"
       ]
      },
      {
       "output_type": "stream",
       "stream": "stdout",
       "text": [
        "\n",
        "[126]\tvalid_0's auc: 0.714777"
       ]
      },
      {
       "output_type": "stream",
       "stream": "stdout",
       "text": [
        "\n",
        "[127]\tvalid_0's auc: 0.714796"
       ]
      },
      {
       "output_type": "stream",
       "stream": "stdout",
       "text": [
        "\n",
        "[128]\tvalid_0's auc: 0.714792"
       ]
      },
      {
       "output_type": "stream",
       "stream": "stdout",
       "text": [
        "\n",
        "[129]\tvalid_0's auc: 0.714796"
       ]
      },
      {
       "output_type": "stream",
       "stream": "stdout",
       "text": [
        "\n",
        "[130]\tvalid_0's auc: 0.714797"
       ]
      },
      {
       "output_type": "stream",
       "stream": "stdout",
       "text": [
        "\n",
        "[131]\tvalid_0's auc: 0.714791"
       ]
      },
      {
       "output_type": "stream",
       "stream": "stdout",
       "text": [
        "\n",
        "[132]\tvalid_0's auc: 0.714794"
       ]
      },
      {
       "output_type": "stream",
       "stream": "stdout",
       "text": [
        "\n",
        "[133]\tvalid_0's auc: 0.714798"
       ]
      },
      {
       "output_type": "stream",
       "stream": "stdout",
       "text": [
        "\n",
        "[134]\tvalid_0's auc: 0.714799"
       ]
      },
      {
       "output_type": "stream",
       "stream": "stdout",
       "text": [
        "\n",
        "[135]\tvalid_0's auc: 0.714796"
       ]
      },
      {
       "output_type": "stream",
       "stream": "stdout",
       "text": [
        "\n",
        "[136]\tvalid_0's auc: 0.714798"
       ]
      },
      {
       "output_type": "stream",
       "stream": "stdout",
       "text": [
        "\n",
        "[137]\tvalid_0's auc: 0.714801"
       ]
      },
      {
       "output_type": "stream",
       "stream": "stdout",
       "text": [
        "\n",
        "[138]\tvalid_0's auc: 0.714796"
       ]
      },
      {
       "output_type": "stream",
       "stream": "stdout",
       "text": [
        "\n",
        "[139]\tvalid_0's auc: 0.714793"
       ]
      },
      {
       "output_type": "stream",
       "stream": "stdout",
       "text": [
        "\n",
        "[140]\tvalid_0's auc: 0.714788"
       ]
      },
      {
       "output_type": "stream",
       "stream": "stdout",
       "text": [
        "\n",
        "[141]\tvalid_0's auc: 0.714788"
       ]
      },
      {
       "output_type": "stream",
       "stream": "stdout",
       "text": [
        "\n",
        "[142]\tvalid_0's auc: 0.714796"
       ]
      },
      {
       "output_type": "stream",
       "stream": "stdout",
       "text": [
        "\n",
        "[143]\tvalid_0's auc: 0.714801"
       ]
      },
      {
       "output_type": "stream",
       "stream": "stdout",
       "text": [
        "\n",
        "[144]\tvalid_0's auc: 0.714805"
       ]
      },
      {
       "output_type": "stream",
       "stream": "stdout",
       "text": [
        "\n",
        "[145]\tvalid_0's auc: 0.714808"
       ]
      },
      {
       "output_type": "stream",
       "stream": "stdout",
       "text": [
        "\n",
        "[146]\tvalid_0's auc: 0.714819"
       ]
      },
      {
       "output_type": "stream",
       "stream": "stdout",
       "text": [
        "\n",
        "[147]\tvalid_0's auc: 0.714821"
       ]
      },
      {
       "output_type": "stream",
       "stream": "stdout",
       "text": [
        "\n",
        "[148]\tvalid_0's auc: 0.714846"
       ]
      },
      {
       "output_type": "stream",
       "stream": "stdout",
       "text": [
        "\n",
        "[149]\tvalid_0's auc: 0.714843"
       ]
      },
      {
       "output_type": "stream",
       "stream": "stdout",
       "text": [
        "\n",
        "[150]\tvalid_0's auc: 0.714839"
       ]
      },
      {
       "output_type": "stream",
       "stream": "stdout",
       "text": [
        "\n",
        "[151]\tvalid_0's auc: 0.714834"
       ]
      },
      {
       "output_type": "stream",
       "stream": "stdout",
       "text": [
        "\n",
        "[152]\tvalid_0's auc: 0.714824"
       ]
      },
      {
       "output_type": "stream",
       "stream": "stdout",
       "text": [
        "\n",
        "[153]\tvalid_0's auc: 0.71483"
       ]
      },
      {
       "output_type": "stream",
       "stream": "stdout",
       "text": [
        "\n",
        "[154]\tvalid_0's auc: 0.714819"
       ]
      },
      {
       "output_type": "stream",
       "stream": "stdout",
       "text": [
        "\n",
        "[155]\tvalid_0's auc: 0.714819"
       ]
      },
      {
       "output_type": "stream",
       "stream": "stdout",
       "text": [
        "\n",
        "[156]\tvalid_0's auc: 0.714809"
       ]
      },
      {
       "output_type": "stream",
       "stream": "stdout",
       "text": [
        "\n",
        "[157]\tvalid_0's auc: 0.714807"
       ]
      },
      {
       "output_type": "stream",
       "stream": "stdout",
       "text": [
        "\n",
        "[158]\tvalid_0's auc: 0.714789"
       ]
      },
      {
       "output_type": "stream",
       "stream": "stdout",
       "text": [
        "\n",
        "[159]\tvalid_0's auc: 0.71479"
       ]
      },
      {
       "output_type": "stream",
       "stream": "stdout",
       "text": [
        "\n",
        "[160]\tvalid_0's auc: 0.714781"
       ]
      },
      {
       "output_type": "stream",
       "stream": "stdout",
       "text": [
        "\n",
        "[161]\tvalid_0's auc: 0.714781"
       ]
      },
      {
       "output_type": "stream",
       "stream": "stdout",
       "text": [
        "\n",
        "[162]\tvalid_0's auc: 0.714779"
       ]
      },
      {
       "output_type": "stream",
       "stream": "stdout",
       "text": [
        "\n",
        "[163]\tvalid_0's auc: 0.714779"
       ]
      },
      {
       "output_type": "stream",
       "stream": "stdout",
       "text": [
        "\n",
        "[164]\tvalid_0's auc: 0.714782"
       ]
      },
      {
       "output_type": "stream",
       "stream": "stdout",
       "text": [
        "\n",
        "[165]\tvalid_0's auc: 0.714778"
       ]
      },
      {
       "output_type": "stream",
       "stream": "stdout",
       "text": [
        "\n",
        "[166]\tvalid_0's auc: 0.714775"
       ]
      },
      {
       "output_type": "stream",
       "stream": "stdout",
       "text": [
        "\n",
        "[167]\tvalid_0's auc: 0.71477"
       ]
      },
      {
       "output_type": "stream",
       "stream": "stdout",
       "text": [
        "\n",
        "[168]\tvalid_0's auc: 0.714774"
       ]
      },
      {
       "output_type": "stream",
       "stream": "stdout",
       "text": [
        "\n",
        "[169]\tvalid_0's auc: 0.714778"
       ]
      },
      {
       "output_type": "stream",
       "stream": "stdout",
       "text": [
        "\n",
        "[170]\tvalid_0's auc: 0.714781"
       ]
      },
      {
       "output_type": "stream",
       "stream": "stdout",
       "text": [
        "\n",
        "[171]\tvalid_0's auc: 0.714777"
       ]
      },
      {
       "output_type": "stream",
       "stream": "stdout",
       "text": [
        "\n",
        "[172]\tvalid_0's auc: 0.714805"
       ]
      },
      {
       "output_type": "stream",
       "stream": "stdout",
       "text": [
        "\n",
        "[173]\tvalid_0's auc: 0.714799"
       ]
      },
      {
       "output_type": "stream",
       "stream": "stdout",
       "text": [
        "\n",
        "[174]\tvalid_0's auc: 0.714798"
       ]
      },
      {
       "output_type": "stream",
       "stream": "stdout",
       "text": [
        "\n",
        "[175]\tvalid_0's auc: 0.7148"
       ]
      },
      {
       "output_type": "stream",
       "stream": "stdout",
       "text": [
        "\n",
        "[176]\tvalid_0's auc: 0.714823"
       ]
      },
      {
       "output_type": "stream",
       "stream": "stdout",
       "text": [
        "\n",
        "[177]\tvalid_0's auc: 0.714823"
       ]
      },
      {
       "output_type": "stream",
       "stream": "stdout",
       "text": [
        "\n",
        "[178]\tvalid_0's auc: 0.714812"
       ]
      },
      {
       "output_type": "stream",
       "stream": "stdout",
       "text": [
        "\n",
        "[179]\tvalid_0's auc: 0.714809"
       ]
      },
      {
       "output_type": "stream",
       "stream": "stdout",
       "text": [
        "\n",
        "[180]\tvalid_0's auc: 0.714805"
       ]
      },
      {
       "output_type": "stream",
       "stream": "stdout",
       "text": [
        "\n",
        "[181]\tvalid_0's auc: 0.714825"
       ]
      },
      {
       "output_type": "stream",
       "stream": "stdout",
       "text": [
        "\n",
        "[182]\tvalid_0's auc: 0.714819"
       ]
      },
      {
       "output_type": "stream",
       "stream": "stdout",
       "text": [
        "\n",
        "[183]\tvalid_0's auc: 0.714817"
       ]
      },
      {
       "output_type": "stream",
       "stream": "stdout",
       "text": [
        "\n",
        "[184]\tvalid_0's auc: 0.714813"
       ]
      },
      {
       "output_type": "stream",
       "stream": "stdout",
       "text": [
        "\n",
        "[185]\tvalid_0's auc: 0.714822"
       ]
      },
      {
       "output_type": "stream",
       "stream": "stdout",
       "text": [
        "\n",
        "[186]\tvalid_0's auc: 0.714813"
       ]
      },
      {
       "output_type": "stream",
       "stream": "stdout",
       "text": [
        "\n",
        "[187]\tvalid_0's auc: 0.714808"
       ]
      },
      {
       "output_type": "stream",
       "stream": "stdout",
       "text": [
        "\n",
        "[188]\tvalid_0's auc: 0.714801"
       ]
      },
      {
       "output_type": "stream",
       "stream": "stdout",
       "text": [
        "\n",
        "[189]\tvalid_0's auc: 0.714795"
       ]
      },
      {
       "output_type": "stream",
       "stream": "stdout",
       "text": [
        "\n",
        "[190]\tvalid_0's auc: 0.714815"
       ]
      },
      {
       "output_type": "stream",
       "stream": "stdout",
       "text": [
        "\n",
        "[191]\tvalid_0's auc: 0.714812"
       ]
      },
      {
       "output_type": "stream",
       "stream": "stdout",
       "text": [
        "\n",
        "[192]\tvalid_0's auc: 0.7148"
       ]
      },
      {
       "output_type": "stream",
       "stream": "stdout",
       "text": [
        "\n",
        "[193]\tvalid_0's auc: 0.714799"
       ]
      },
      {
       "output_type": "stream",
       "stream": "stdout",
       "text": [
        "\n",
        "[194]\tvalid_0's auc: 0.714798"
       ]
      },
      {
       "output_type": "stream",
       "stream": "stdout",
       "text": [
        "\n",
        "[195]\tvalid_0's auc: 0.714781"
       ]
      },
      {
       "output_type": "stream",
       "stream": "stdout",
       "text": [
        "\n",
        "[196]\tvalid_0's auc: 0.714774"
       ]
      },
      {
       "output_type": "stream",
       "stream": "stdout",
       "text": [
        "\n",
        "[197]\tvalid_0's auc: 0.71477"
       ]
      },
      {
       "output_type": "stream",
       "stream": "stdout",
       "text": [
        "\n",
        "[198]\tvalid_0's auc: 0.714764"
       ]
      },
      {
       "output_type": "stream",
       "stream": "stdout",
       "text": [
        "\n",
        "[199]\tvalid_0's auc: 0.714764"
       ]
      },
      {
       "output_type": "stream",
       "stream": "stdout",
       "text": [
        "\n",
        "[200]\tvalid_0's auc: 0.714763"
       ]
      },
      {
       "output_type": "stream",
       "stream": "stdout",
       "text": [
        "\n",
        "[1]\tvalid_0's auc: 0.631583"
       ]
      },
      {
       "output_type": "stream",
       "stream": "stdout",
       "text": [
        "\n",
        "[2]\tvalid_0's auc: 0.635677"
       ]
      },
      {
       "output_type": "stream",
       "stream": "stdout",
       "text": [
        "\n",
        "[3]\tvalid_0's auc: 0.637979"
       ]
      },
      {
       "output_type": "stream",
       "stream": "stdout",
       "text": [
        "\n",
        "[4]\tvalid_0's auc: 0.638915"
       ]
      },
      {
       "output_type": "stream",
       "stream": "stdout",
       "text": [
        "\n",
        "[5]\tvalid_0's auc: 0.642285"
       ]
      },
      {
       "output_type": "stream",
       "stream": "stdout",
       "text": [
        "\n",
        "[6]\tvalid_0's auc: 0.643226"
       ]
      },
      {
       "output_type": "stream",
       "stream": "stdout",
       "text": [
        "\n",
        "[7]\tvalid_0's auc: 0.644157"
       ]
      },
      {
       "output_type": "stream",
       "stream": "stdout",
       "text": [
        "\n",
        "[8]\tvalid_0's auc: 0.644758"
       ]
      },
      {
       "output_type": "stream",
       "stream": "stdout",
       "text": [
        "\n",
        "[9]\tvalid_0's auc: 0.645529"
       ]
      },
      {
       "output_type": "stream",
       "stream": "stdout",
       "text": [
        "\n",
        "[10]\tvalid_0's auc: 0.646143"
       ]
      },
      {
       "output_type": "stream",
       "stream": "stdout",
       "text": [
        "\n",
        "[11]\tvalid_0's auc: 0.64683"
       ]
      },
      {
       "output_type": "stream",
       "stream": "stdout",
       "text": [
        "\n",
        "[12]\tvalid_0's auc: 0.647459"
       ]
      },
      {
       "output_type": "stream",
       "stream": "stdout",
       "text": [
        "\n",
        "[13]\tvalid_0's auc: 0.6482"
       ]
      },
      {
       "output_type": "stream",
       "stream": "stdout",
       "text": [
        "\n",
        "[14]\tvalid_0's auc: 0.648775"
       ]
      },
      {
       "output_type": "stream",
       "stream": "stdout",
       "text": [
        "\n",
        "[15]\tvalid_0's auc: 0.649436"
       ]
      },
      {
       "output_type": "stream",
       "stream": "stdout",
       "text": [
        "\n",
        "[16]\tvalid_0's auc: 0.650078"
       ]
      },
      {
       "output_type": "stream",
       "stream": "stdout",
       "text": [
        "\n",
        "[17]\tvalid_0's auc: 0.650377"
       ]
      },
      {
       "output_type": "stream",
       "stream": "stdout",
       "text": [
        "\n",
        "[18]\tvalid_0's auc: 0.650812"
       ]
      },
      {
       "output_type": "stream",
       "stream": "stdout",
       "text": [
        "\n",
        "[19]\tvalid_0's auc: 0.651394"
       ]
      },
      {
       "output_type": "stream",
       "stream": "stdout",
       "text": [
        "\n",
        "[20]\tvalid_0's auc: 0.651735"
       ]
      },
      {
       "output_type": "stream",
       "stream": "stdout",
       "text": [
        "\n",
        "[21]\tvalid_0's auc: 0.652029"
       ]
      },
      {
       "output_type": "stream",
       "stream": "stdout",
       "text": [
        "\n",
        "[22]\tvalid_0's auc: 0.652876"
       ]
      },
      {
       "output_type": "stream",
       "stream": "stdout",
       "text": [
        "\n",
        "[23]\tvalid_0's auc: 0.653181"
       ]
      },
      {
       "output_type": "stream",
       "stream": "stdout",
       "text": [
        "\n",
        "[24]\tvalid_0's auc: 0.654294"
       ]
      },
      {
       "output_type": "stream",
       "stream": "stdout",
       "text": [
        "\n",
        "[25]\tvalid_0's auc: 0.654931"
       ]
      },
      {
       "output_type": "stream",
       "stream": "stdout",
       "text": [
        "\n",
        "[26]\tvalid_0's auc: 0.655378"
       ]
      },
      {
       "output_type": "stream",
       "stream": "stdout",
       "text": [
        "\n",
        "[27]\tvalid_0's auc: 0.655766"
       ]
      },
      {
       "output_type": "stream",
       "stream": "stdout",
       "text": [
        "\n",
        "[28]\tvalid_0's auc: 0.655918"
       ]
      },
      {
       "output_type": "stream",
       "stream": "stdout",
       "text": [
        "\n",
        "[29]\tvalid_0's auc: 0.655996"
       ]
      },
      {
       "output_type": "stream",
       "stream": "stdout",
       "text": [
        "\n",
        "[30]\tvalid_0's auc: 0.656203"
       ]
      },
      {
       "output_type": "stream",
       "stream": "stdout",
       "text": [
        "\n",
        "[31]\tvalid_0's auc: 0.656517"
       ]
      },
      {
       "output_type": "stream",
       "stream": "stdout",
       "text": [
        "\n",
        "[32]\tvalid_0's auc: 0.656584"
       ]
      },
      {
       "output_type": "stream",
       "stream": "stdout",
       "text": [
        "\n",
        "[33]\tvalid_0's auc: 0.656676"
       ]
      },
      {
       "output_type": "stream",
       "stream": "stdout",
       "text": [
        "\n",
        "[34]\tvalid_0's auc: 0.657028"
       ]
      },
      {
       "output_type": "stream",
       "stream": "stdout",
       "text": [
        "\n",
        "[35]\tvalid_0's auc: 0.657162"
       ]
      },
      {
       "output_type": "stream",
       "stream": "stdout",
       "text": [
        "\n",
        "[36]\tvalid_0's auc: 0.65722"
       ]
      },
      {
       "output_type": "stream",
       "stream": "stdout",
       "text": [
        "\n",
        "[37]\tvalid_0's auc: 0.657323"
       ]
      },
      {
       "output_type": "stream",
       "stream": "stdout",
       "text": [
        "\n",
        "[38]\tvalid_0's auc: 0.657472"
       ]
      },
      {
       "output_type": "stream",
       "stream": "stdout",
       "text": [
        "\n",
        "[39]\tvalid_0's auc: 0.657521"
       ]
      },
      {
       "output_type": "stream",
       "stream": "stdout",
       "text": [
        "\n",
        "[40]\tvalid_0's auc: 0.657547"
       ]
      },
      {
       "output_type": "stream",
       "stream": "stdout",
       "text": [
        "\n",
        "[41]\tvalid_0's auc: 0.657617"
       ]
      },
      {
       "output_type": "stream",
       "stream": "stdout",
       "text": [
        "\n",
        "[42]\tvalid_0's auc: 0.657604"
       ]
      },
      {
       "output_type": "stream",
       "stream": "stdout",
       "text": [
        "\n",
        "[43]\tvalid_0's auc: 0.657843"
       ]
      },
      {
       "output_type": "stream",
       "stream": "stdout",
       "text": [
        "\n",
        "[44]\tvalid_0's auc: 0.657997"
       ]
      },
      {
       "output_type": "stream",
       "stream": "stdout",
       "text": [
        "\n",
        "[45]\tvalid_0's auc: 0.657965"
       ]
      },
      {
       "output_type": "stream",
       "stream": "stdout",
       "text": [
        "\n",
        "[46]\tvalid_0's auc: 0.658147"
       ]
      },
      {
       "output_type": "stream",
       "stream": "stdout",
       "text": [
        "\n",
        "[47]\tvalid_0's auc: 0.658256"
       ]
      },
      {
       "output_type": "stream",
       "stream": "stdout",
       "text": [
        "\n",
        "[48]\tvalid_0's auc: 0.658443"
       ]
      },
      {
       "output_type": "stream",
       "stream": "stdout",
       "text": [
        "\n",
        "[49]\tvalid_0's auc: 0.658507"
       ]
      },
      {
       "output_type": "stream",
       "stream": "stdout",
       "text": [
        "\n",
        "[50]\tvalid_0's auc: 0.658532"
       ]
      },
      {
       "output_type": "stream",
       "stream": "stdout",
       "text": [
        "\n",
        "[51]\tvalid_0's auc: 0.658616"
       ]
      },
      {
       "output_type": "stream",
       "stream": "stdout",
       "text": [
        "\n",
        "[52]\tvalid_0's auc: 0.6587"
       ]
      },
      {
       "output_type": "stream",
       "stream": "stdout",
       "text": [
        "\n",
        "[53]\tvalid_0's auc: 0.658902"
       ]
      },
      {
       "output_type": "stream",
       "stream": "stdout",
       "text": [
        "\n",
        "[54]\tvalid_0's auc: 0.658994"
       ]
      },
      {
       "output_type": "stream",
       "stream": "stdout",
       "text": [
        "\n",
        "[55]\tvalid_0's auc: 0.659025"
       ]
      },
      {
       "output_type": "stream",
       "stream": "stdout",
       "text": [
        "\n",
        "[56]\tvalid_0's auc: 0.659118"
       ]
      },
      {
       "output_type": "stream",
       "stream": "stdout",
       "text": [
        "\n",
        "[57]\tvalid_0's auc: 0.659123"
       ]
      },
      {
       "output_type": "stream",
       "stream": "stdout",
       "text": [
        "\n",
        "[58]\tvalid_0's auc: 0.659149"
       ]
      },
      {
       "output_type": "stream",
       "stream": "stdout",
       "text": [
        "\n",
        "[59]\tvalid_0's auc: 0.65918"
       ]
      },
      {
       "output_type": "stream",
       "stream": "stdout",
       "text": [
        "\n",
        "[60]\tvalid_0's auc: 0.659171"
       ]
      },
      {
       "output_type": "stream",
       "stream": "stdout",
       "text": [
        "\n",
        "[61]\tvalid_0's auc: 0.659173"
       ]
      },
      {
       "output_type": "stream",
       "stream": "stdout",
       "text": [
        "\n",
        "[62]\tvalid_0's auc: 0.659181"
       ]
      },
      {
       "output_type": "stream",
       "stream": "stdout",
       "text": [
        "\n",
        "[63]\tvalid_0's auc: 0.659224"
       ]
      },
      {
       "output_type": "stream",
       "stream": "stdout",
       "text": [
        "\n",
        "[64]\tvalid_0's auc: 0.659224"
       ]
      },
      {
       "output_type": "stream",
       "stream": "stdout",
       "text": [
        "\n",
        "[65]\tvalid_0's auc: 0.659399"
       ]
      },
      {
       "output_type": "stream",
       "stream": "stdout",
       "text": [
        "\n",
        "[66]\tvalid_0's auc: 0.659397"
       ]
      },
      {
       "output_type": "stream",
       "stream": "stdout",
       "text": [
        "\n",
        "[67]\tvalid_0's auc: 0.65954"
       ]
      },
      {
       "output_type": "stream",
       "stream": "stdout",
       "text": [
        "\n",
        "[68]\tvalid_0's auc: 0.659545"
       ]
      },
      {
       "output_type": "stream",
       "stream": "stdout",
       "text": [
        "\n",
        "[69]\tvalid_0's auc: 0.659582"
       ]
      },
      {
       "output_type": "stream",
       "stream": "stdout",
       "text": [
        "\n",
        "[70]\tvalid_0's auc: 0.65967"
       ]
      },
      {
       "output_type": "stream",
       "stream": "stdout",
       "text": [
        "\n",
        "[71]\tvalid_0's auc: 0.65969"
       ]
      },
      {
       "output_type": "stream",
       "stream": "stdout",
       "text": [
        "\n",
        "[72]\tvalid_0's auc: 0.659693"
       ]
      },
      {
       "output_type": "stream",
       "stream": "stdout",
       "text": [
        "\n",
        "[73]\tvalid_0's auc: 0.659696"
       ]
      },
      {
       "output_type": "stream",
       "stream": "stdout",
       "text": [
        "\n",
        "[74]\tvalid_0's auc: 0.659687"
       ]
      },
      {
       "output_type": "stream",
       "stream": "stdout",
       "text": [
        "\n",
        "[75]\tvalid_0's auc: 0.659727"
       ]
      },
      {
       "output_type": "stream",
       "stream": "stdout",
       "text": [
        "\n",
        "[76]\tvalid_0's auc: 0.659772"
       ]
      },
      {
       "output_type": "stream",
       "stream": "stdout",
       "text": [
        "\n",
        "[77]\tvalid_0's auc: 0.659758"
       ]
      },
      {
       "output_type": "stream",
       "stream": "stdout",
       "text": [
        "\n",
        "[78]\tvalid_0's auc: 0.659743"
       ]
      },
      {
       "output_type": "stream",
       "stream": "stdout",
       "text": [
        "\n",
        "[79]\tvalid_0's auc: 0.659842"
       ]
      },
      {
       "output_type": "stream",
       "stream": "stdout",
       "text": [
        "\n",
        "[80]\tvalid_0's auc: 0.659841"
       ]
      },
      {
       "output_type": "stream",
       "stream": "stdout",
       "text": [
        "\n",
        "[81]\tvalid_0's auc: 0.659817"
       ]
      },
      {
       "output_type": "stream",
       "stream": "stdout",
       "text": [
        "\n",
        "[82]\tvalid_0's auc: 0.659792"
       ]
      },
      {
       "output_type": "stream",
       "stream": "stdout",
       "text": [
        "\n",
        "[83]\tvalid_0's auc: 0.659772"
       ]
      },
      {
       "output_type": "stream",
       "stream": "stdout",
       "text": [
        "\n",
        "[84]\tvalid_0's auc: 0.65977"
       ]
      },
      {
       "output_type": "stream",
       "stream": "stdout",
       "text": [
        "\n",
        "[85]\tvalid_0's auc: 0.659743"
       ]
      },
      {
       "output_type": "stream",
       "stream": "stdout",
       "text": [
        "\n",
        "[86]\tvalid_0's auc: 0.659917"
       ]
      },
      {
       "output_type": "stream",
       "stream": "stdout",
       "text": [
        "\n",
        "[87]\tvalid_0's auc: 0.659853"
       ]
      },
      {
       "output_type": "stream",
       "stream": "stdout",
       "text": [
        "\n",
        "[88]\tvalid_0's auc: 0.659841"
       ]
      },
      {
       "output_type": "stream",
       "stream": "stdout",
       "text": [
        "\n",
        "[89]\tvalid_0's auc: 0.659827"
       ]
      },
      {
       "output_type": "stream",
       "stream": "stdout",
       "text": [
        "\n",
        "[90]\tvalid_0's auc: 0.659812"
       ]
      },
      {
       "output_type": "stream",
       "stream": "stdout",
       "text": [
        "\n",
        "[91]\tvalid_0's auc: 0.659797"
       ]
      },
      {
       "output_type": "stream",
       "stream": "stdout",
       "text": [
        "\n",
        "[92]\tvalid_0's auc: 0.659782"
       ]
      },
      {
       "output_type": "stream",
       "stream": "stdout",
       "text": [
        "\n",
        "[93]\tvalid_0's auc: 0.659761"
       ]
      },
      {
       "output_type": "stream",
       "stream": "stdout",
       "text": [
        "\n",
        "[94]\tvalid_0's auc: 0.659744"
       ]
      },
      {
       "output_type": "stream",
       "stream": "stdout",
       "text": [
        "\n",
        "[95]\tvalid_0's auc: 0.659726"
       ]
      },
      {
       "output_type": "stream",
       "stream": "stdout",
       "text": [
        "\n",
        "[96]\tvalid_0's auc: 0.659693"
       ]
      },
      {
       "output_type": "stream",
       "stream": "stdout",
       "text": [
        "\n",
        "[97]\tvalid_0's auc: 0.659721"
       ]
      },
      {
       "output_type": "stream",
       "stream": "stdout",
       "text": [
        "\n",
        "[98]\tvalid_0's auc: 0.659707"
       ]
      },
      {
       "output_type": "stream",
       "stream": "stdout",
       "text": [
        "\n",
        "[99]\tvalid_0's auc: 0.659693"
       ]
      },
      {
       "output_type": "stream",
       "stream": "stdout",
       "text": [
        "\n",
        "[100]\tvalid_0's auc: 0.659689"
       ]
      },
      {
       "output_type": "stream",
       "stream": "stdout",
       "text": [
        "\n",
        "[101]\tvalid_0's auc: 0.65967"
       ]
      },
      {
       "output_type": "stream",
       "stream": "stdout",
       "text": [
        "\n",
        "[102]\tvalid_0's auc: 0.659652"
       ]
      },
      {
       "output_type": "stream",
       "stream": "stdout",
       "text": [
        "\n",
        "[103]\tvalid_0's auc: 0.659652"
       ]
      },
      {
       "output_type": "stream",
       "stream": "stdout",
       "text": [
        "\n",
        "[104]\tvalid_0's auc: 0.659641"
       ]
      },
      {
       "output_type": "stream",
       "stream": "stdout",
       "text": [
        "\n",
        "[105]\tvalid_0's auc: 0.65964"
       ]
      },
      {
       "output_type": "stream",
       "stream": "stdout",
       "text": [
        "\n",
        "[106]\tvalid_0's auc: 0.659653"
       ]
      },
      {
       "output_type": "stream",
       "stream": "stdout",
       "text": [
        "\n",
        "[107]\tvalid_0's auc: 0.659662"
       ]
      },
      {
       "output_type": "stream",
       "stream": "stdout",
       "text": [
        "\n",
        "[108]\tvalid_0's auc: 0.659668"
       ]
      },
      {
       "output_type": "stream",
       "stream": "stdout",
       "text": [
        "\n",
        "[109]\tvalid_0's auc: 0.659645"
       ]
      },
      {
       "output_type": "stream",
       "stream": "stdout",
       "text": [
        "\n",
        "[110]\tvalid_0's auc: 0.6596"
       ]
      },
      {
       "output_type": "stream",
       "stream": "stdout",
       "text": [
        "\n",
        "[111]\tvalid_0's auc: 0.659571"
       ]
      },
      {
       "output_type": "stream",
       "stream": "stdout",
       "text": [
        "\n",
        "[112]\tvalid_0's auc: 0.659575"
       ]
      },
      {
       "output_type": "stream",
       "stream": "stdout",
       "text": [
        "\n",
        "[113]\tvalid_0's auc: 0.659554"
       ]
      },
      {
       "output_type": "stream",
       "stream": "stdout",
       "text": [
        "\n",
        "[114]\tvalid_0's auc: 0.659532"
       ]
      },
      {
       "output_type": "stream",
       "stream": "stdout",
       "text": [
        "\n",
        "[115]\tvalid_0's auc: 0.659512"
       ]
      },
      {
       "output_type": "stream",
       "stream": "stdout",
       "text": [
        "\n",
        "[116]\tvalid_0's auc: 0.659485"
       ]
      },
      {
       "output_type": "stream",
       "stream": "stdout",
       "text": [
        "\n",
        "[117]\tvalid_0's auc: 0.659452"
       ]
      },
      {
       "output_type": "stream",
       "stream": "stdout",
       "text": [
        "\n",
        "[118]\tvalid_0's auc: 0.659438"
       ]
      },
      {
       "output_type": "stream",
       "stream": "stdout",
       "text": [
        "\n",
        "[119]\tvalid_0's auc: 0.659446"
       ]
      },
      {
       "output_type": "stream",
       "stream": "stdout",
       "text": [
        "\n",
        "[120]\tvalid_0's auc: 0.659427"
       ]
      },
      {
       "output_type": "stream",
       "stream": "stdout",
       "text": [
        "\n",
        "[121]\tvalid_0's auc: 0.659544"
       ]
      },
      {
       "output_type": "stream",
       "stream": "stdout",
       "text": [
        "\n",
        "[122]\tvalid_0's auc: 0.659539"
       ]
      },
      {
       "output_type": "stream",
       "stream": "stdout",
       "text": [
        "\n",
        "[123]\tvalid_0's auc: 0.659543"
       ]
      },
      {
       "output_type": "stream",
       "stream": "stdout",
       "text": [
        "\n",
        "[124]\tvalid_0's auc: 0.659522"
       ]
      },
      {
       "output_type": "stream",
       "stream": "stdout",
       "text": [
        "\n",
        "[125]\tvalid_0's auc: 0.65956"
       ]
      },
      {
       "output_type": "stream",
       "stream": "stdout",
       "text": [
        "\n",
        "[126]\tvalid_0's auc: 0.659549"
       ]
      },
      {
       "output_type": "stream",
       "stream": "stdout",
       "text": [
        "\n",
        "[127]\tvalid_0's auc: 0.659536"
       ]
      },
      {
       "output_type": "stream",
       "stream": "stdout",
       "text": [
        "\n",
        "[128]\tvalid_0's auc: 0.659573"
       ]
      },
      {
       "output_type": "stream",
       "stream": "stdout",
       "text": [
        "\n",
        "[129]\tvalid_0's auc: 0.659565"
       ]
      },
      {
       "output_type": "stream",
       "stream": "stdout",
       "text": [
        "\n",
        "[130]\tvalid_0's auc: 0.659534"
       ]
      },
      {
       "output_type": "stream",
       "stream": "stdout",
       "text": [
        "\n",
        "[131]\tvalid_0's auc: 0.65947"
       ]
      },
      {
       "output_type": "stream",
       "stream": "stdout",
       "text": [
        "\n",
        "[132]\tvalid_0's auc: 0.659458"
       ]
      },
      {
       "output_type": "stream",
       "stream": "stdout",
       "text": [
        "\n",
        "[133]\tvalid_0's auc: 0.659446"
       ]
      },
      {
       "output_type": "stream",
       "stream": "stdout",
       "text": [
        "\n",
        "[134]\tvalid_0's auc: 0.659575"
       ]
      },
      {
       "output_type": "stream",
       "stream": "stdout",
       "text": [
        "\n",
        "[135]\tvalid_0's auc: 0.659555"
       ]
      },
      {
       "output_type": "stream",
       "stream": "stdout",
       "text": [
        "\n",
        "[136]\tvalid_0's auc: 0.659528"
       ]
      },
      {
       "output_type": "stream",
       "stream": "stdout",
       "text": [
        "\n",
        "[137]\tvalid_0's auc: 0.659517"
       ]
      },
      {
       "output_type": "stream",
       "stream": "stdout",
       "text": [
        "\n",
        "[138]\tvalid_0's auc: 0.659486"
       ]
      },
      {
       "output_type": "stream",
       "stream": "stdout",
       "text": [
        "\n",
        "[139]\tvalid_0's auc: 0.659495"
       ]
      },
      {
       "output_type": "stream",
       "stream": "stdout",
       "text": [
        "\n",
        "[140]\tvalid_0's auc: 0.659506"
       ]
      },
      {
       "output_type": "stream",
       "stream": "stdout",
       "text": [
        "\n",
        "[141]\tvalid_0's auc: 0.659484"
       ]
      },
      {
       "output_type": "stream",
       "stream": "stdout",
       "text": [
        "\n",
        "[142]\tvalid_0's auc: 0.659467"
       ]
      },
      {
       "output_type": "stream",
       "stream": "stdout",
       "text": [
        "\n",
        "[143]\tvalid_0's auc: 0.659454"
       ]
      },
      {
       "output_type": "stream",
       "stream": "stdout",
       "text": [
        "\n",
        "[144]\tvalid_0's auc: 0.65943"
       ]
      },
      {
       "output_type": "stream",
       "stream": "stdout",
       "text": [
        "\n",
        "[145]\tvalid_0's auc: 0.659432"
       ]
      },
      {
       "output_type": "stream",
       "stream": "stdout",
       "text": [
        "\n",
        "[146]\tvalid_0's auc: 0.659441"
       ]
      },
      {
       "output_type": "stream",
       "stream": "stdout",
       "text": [
        "\n",
        "[147]\tvalid_0's auc: 0.659431"
       ]
      },
      {
       "output_type": "stream",
       "stream": "stdout",
       "text": [
        "\n",
        "[148]\tvalid_0's auc: 0.659418"
       ]
      },
      {
       "output_type": "stream",
       "stream": "stdout",
       "text": [
        "\n",
        "[149]\tvalid_0's auc: 0.659399"
       ]
      },
      {
       "output_type": "stream",
       "stream": "stdout",
       "text": [
        "\n",
        "[150]\tvalid_0's auc: 0.659393"
       ]
      },
      {
       "output_type": "stream",
       "stream": "stdout",
       "text": [
        "\n",
        "[151]\tvalid_0's auc: 0.659372"
       ]
      },
      {
       "output_type": "stream",
       "stream": "stdout",
       "text": [
        "\n",
        "[152]\tvalid_0's auc: 0.659358"
       ]
      },
      {
       "output_type": "stream",
       "stream": "stdout",
       "text": [
        "\n",
        "[153]\tvalid_0's auc: 0.659323"
       ]
      },
      {
       "output_type": "stream",
       "stream": "stdout",
       "text": [
        "\n",
        "[154]\tvalid_0's auc: 0.659312"
       ]
      },
      {
       "output_type": "stream",
       "stream": "stdout",
       "text": [
        "\n",
        "[155]\tvalid_0's auc: 0.659313"
       ]
      },
      {
       "output_type": "stream",
       "stream": "stdout",
       "text": [
        "\n",
        "[156]\tvalid_0's auc: 0.659295"
       ]
      },
      {
       "output_type": "stream",
       "stream": "stdout",
       "text": [
        "\n",
        "[157]\tvalid_0's auc: 0.659278"
       ]
      },
      {
       "output_type": "stream",
       "stream": "stdout",
       "text": [
        "\n",
        "[158]\tvalid_0's auc: 0.659267"
       ]
      },
      {
       "output_type": "stream",
       "stream": "stdout",
       "text": [
        "\n",
        "[159]\tvalid_0's auc: 0.659247"
       ]
      },
      {
       "output_type": "stream",
       "stream": "stdout",
       "text": [
        "\n",
        "[160]\tvalid_0's auc: 0.659234"
       ]
      },
      {
       "output_type": "stream",
       "stream": "stdout",
       "text": [
        "\n",
        "[161]\tvalid_0's auc: 0.659216"
       ]
      },
      {
       "output_type": "stream",
       "stream": "stdout",
       "text": [
        "\n",
        "[162]\tvalid_0's auc: 0.659192"
       ]
      },
      {
       "output_type": "stream",
       "stream": "stdout",
       "text": [
        "\n",
        "[163]\tvalid_0's auc: 0.659204"
       ]
      },
      {
       "output_type": "stream",
       "stream": "stdout",
       "text": [
        "\n",
        "[164]\tvalid_0's auc: 0.659189"
       ]
      },
      {
       "output_type": "stream",
       "stream": "stdout",
       "text": [
        "\n",
        "[165]\tvalid_0's auc: 0.659169"
       ]
      },
      {
       "output_type": "stream",
       "stream": "stdout",
       "text": [
        "\n",
        "[166]\tvalid_0's auc: 0.659152"
       ]
      },
      {
       "output_type": "stream",
       "stream": "stdout",
       "text": [
        "\n",
        "[167]\tvalid_0's auc: 0.659152"
       ]
      },
      {
       "output_type": "stream",
       "stream": "stdout",
       "text": [
        "\n",
        "[168]\tvalid_0's auc: 0.65913"
       ]
      },
      {
       "output_type": "stream",
       "stream": "stdout",
       "text": [
        "\n",
        "[169]\tvalid_0's auc: 0.659123"
       ]
      },
      {
       "output_type": "stream",
       "stream": "stdout",
       "text": [
        "\n",
        "[170]\tvalid_0's auc: 0.659103"
       ]
      },
      {
       "output_type": "stream",
       "stream": "stdout",
       "text": [
        "\n",
        "[171]\tvalid_0's auc: 0.659082"
       ]
      },
      {
       "output_type": "stream",
       "stream": "stdout",
       "text": [
        "\n",
        "[172]\tvalid_0's auc: 0.659068"
       ]
      },
      {
       "output_type": "stream",
       "stream": "stdout",
       "text": [
        "\n",
        "[173]\tvalid_0's auc: 0.659061"
       ]
      },
      {
       "output_type": "stream",
       "stream": "stdout",
       "text": [
        "\n",
        "[174]\tvalid_0's auc: 0.659065"
       ]
      },
      {
       "output_type": "stream",
       "stream": "stdout",
       "text": [
        "\n",
        "[175]\tvalid_0's auc: 0.659041"
       ]
      },
      {
       "output_type": "stream",
       "stream": "stdout",
       "text": [
        "\n",
        "[176]\tvalid_0's auc: 0.659029"
       ]
      },
      {
       "output_type": "stream",
       "stream": "stdout",
       "text": [
        "\n",
        "[177]\tvalid_0's auc: 0.659014"
       ]
      },
      {
       "output_type": "stream",
       "stream": "stdout",
       "text": [
        "\n",
        "[178]\tvalid_0's auc: 0.659021"
       ]
      },
      {
       "output_type": "stream",
       "stream": "stdout",
       "text": [
        "\n",
        "[179]\tvalid_0's auc: 0.659014"
       ]
      },
      {
       "output_type": "stream",
       "stream": "stdout",
       "text": [
        "\n",
        "[180]\tvalid_0's auc: 0.658988"
       ]
      },
      {
       "output_type": "stream",
       "stream": "stdout",
       "text": [
        "\n",
        "[181]\tvalid_0's auc: 0.658987"
       ]
      },
      {
       "output_type": "stream",
       "stream": "stdout",
       "text": [
        "\n",
        "[182]\tvalid_0's auc: 0.658991"
       ]
      },
      {
       "output_type": "stream",
       "stream": "stdout",
       "text": [
        "\n",
        "[183]\tvalid_0's auc: 0.658976"
       ]
      },
      {
       "output_type": "stream",
       "stream": "stdout",
       "text": [
        "\n",
        "[184]\tvalid_0's auc: 0.658954"
       ]
      },
      {
       "output_type": "stream",
       "stream": "stdout",
       "text": [
        "\n",
        "[185]\tvalid_0's auc: 0.658941"
       ]
      },
      {
       "output_type": "stream",
       "stream": "stdout",
       "text": [
        "\n",
        "[186]\tvalid_0's auc: 0.658926"
       ]
      },
      {
       "output_type": "stream",
       "stream": "stdout",
       "text": [
        "\n",
        "[187]\tvalid_0's auc: 0.65895"
       ]
      },
      {
       "output_type": "stream",
       "stream": "stdout",
       "text": [
        "\n",
        "[188]\tvalid_0's auc: 0.658926"
       ]
      },
      {
       "output_type": "stream",
       "stream": "stdout",
       "text": [
        "\n",
        "[189]\tvalid_0's auc: 0.658908"
       ]
      },
      {
       "output_type": "stream",
       "stream": "stdout",
       "text": [
        "\n",
        "[190]\tvalid_0's auc: 0.658884"
       ]
      },
      {
       "output_type": "stream",
       "stream": "stdout",
       "text": [
        "\n",
        "[191]\tvalid_0's auc: 0.658844"
       ]
      },
      {
       "output_type": "stream",
       "stream": "stdout",
       "text": [
        "\n",
        "[192]\tvalid_0's auc: 0.658822"
       ]
      },
      {
       "output_type": "stream",
       "stream": "stdout",
       "text": [
        "\n",
        "[193]\tvalid_0's auc: 0.658802"
       ]
      },
      {
       "output_type": "stream",
       "stream": "stdout",
       "text": [
        "\n",
        "[194]\tvalid_0's auc: 0.658792"
       ]
      },
      {
       "output_type": "stream",
       "stream": "stdout",
       "text": [
        "\n",
        "[195]\tvalid_0's auc: 0.658797"
       ]
      },
      {
       "output_type": "stream",
       "stream": "stdout",
       "text": [
        "\n",
        "[196]\tvalid_0's auc: 0.658937"
       ]
      },
      {
       "output_type": "stream",
       "stream": "stdout",
       "text": [
        "\n",
        "[197]\tvalid_0's auc: 0.658917"
       ]
      },
      {
       "output_type": "stream",
       "stream": "stdout",
       "text": [
        "\n",
        "[198]\tvalid_0's auc: 0.658894"
       ]
      },
      {
       "output_type": "stream",
       "stream": "stdout",
       "text": [
        "\n",
        "[199]\tvalid_0's auc: 0.65888"
       ]
      },
      {
       "output_type": "stream",
       "stream": "stdout",
       "text": [
        "\n",
        "[200]\tvalid_0's auc: 0.658861"
       ]
      },
      {
       "output_type": "stream",
       "stream": "stdout",
       "text": [
        "\n",
        "Training process finished. Generating Output..."
       ]
      },
      {
       "output_type": "stream",
       "stream": "stdout",
       "text": [
        "\n",
        "Output created."
       ]
      },
      {
       "output_type": "stream",
       "stream": "stdout",
       "text": [
        "\n"
       ]
      },
      {
       "output_type": "stream",
       "stream": "stderr",
       "text": [
        "/home/dolotov-e/.local/lib/python2.7/site-packages/lightgbm/engine.py:98: UserWarning: Found `num_rounds` in params. Will use it instead of argument\n",
        "  warnings.warn(\"Found `{}` in params. Will use it instead of argument\".format(alias))\n"
       ]
      }
     ],
     "prompt_number": 8
    },
    {
     "cell_type": "markdown",
     "metadata": {},
     "source": [
      "\u041d\u0430 \u043e\u0442\u043a\u0440\u044b\u0442\u044b\u0445 \u0442\u0435\u0441\u0442\u043e\u0432\u044b\u0445 \u0434\u0430\u043d\u043d\u044b\u0445 \u0434\u0430\u043d\u043d\u043e\u0435 \u0440\u0435\u0448\u0435\u043d\u0438\u0435 \u043f\u043e\u043b\u0443\u0447\u0438\u043b\u043e - 0.66907 (69 \u043c\u0435\u0441\u0442\u043e \u0438\u0437 271)"
     ]
    }
   ],
   "metadata": {}
  }
 ]
}